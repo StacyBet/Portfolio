{
 "cells": [
  {
   "cell_type": "markdown",
   "metadata": {},
   "source": [
    "Проект: Мобильные приложения - выделение групп пользователей на основе их поведения.\n",
    "=="
   ]
  },
  {
   "cell_type": "markdown",
   "metadata": {},
   "source": [
    "## Изучение общей информации о датасетах"
   ]
  },
  {
   "cell_type": "code",
   "execution_count": 1,
   "metadata": {},
   "outputs": [
    {
     "name": "stdout",
     "output_type": "stream",
     "text": [
      "Requirement already satisfied: kaleido in /opt/conda/lib/python3.9/site-packages (0.2.1)\r\n"
     ]
    }
   ],
   "source": [
    "# Все импортируемые библиотеки\n",
    "\n",
    "import pandas as pd\n",
    "import numpy as np\n",
    "from datetime import datetime, timedelta\n",
    "import matplotlib.pyplot as plt\n",
    "%matplotlib inline\n",
    "\n",
    "! pip install -U kaleido\n",
    "\n",
    "from plotly.subplots import make_subplots\n",
    "from plotly import graph_objects as go \n",
    "from plotly.offline import plot\n",
    "import plotly.express as px\n",
    "import seaborn as sns\n",
    "\n",
    "import scipy.stats as stats\n",
    "import math as mth\n",
    "\n",
    "import warnings\n",
    "warnings.simplefilter('ignore')"
   ]
  },
  {
   "cell_type": "code",
   "execution_count": 2,
   "metadata": {},
   "outputs": [],
   "source": [
    "# Загружаю датасет\n",
    "\n",
    "try:\n",
    "    mobile_sourсes = pd.read_csv('https://code.s3.yandex.net/datasets/mobile_soures.csv')\n",
    "    mobile_dataset = pd.read_csv('https://code.s3.yandex.net/datasets/mobile_dataset.csv')\n",
    "except:\n",
    "    s=open(r'C:\\Users\\User\\Desktop\\Downloads\\mobile_sourсes.csv')\n",
    "    d=open(r'C:\\Users\\User\\Desktop\\Downloads\\mobile_dataset.csv')\n",
    "    mobile_sourсes = pd.read_csv(s)\n",
    "    mobile_dataset = pd.read_csv(d)\n",
    "    # для локального доступа"
   ]
  },
  {
   "cell_type": "code",
   "execution_count": 3,
   "metadata": {},
   "outputs": [
    {
     "data": {
      "text/html": [
       "<div>\n",
       "<style scoped>\n",
       "    .dataframe tbody tr th:only-of-type {\n",
       "        vertical-align: middle;\n",
       "    }\n",
       "\n",
       "    .dataframe tbody tr th {\n",
       "        vertical-align: top;\n",
       "    }\n",
       "\n",
       "    .dataframe thead th {\n",
       "        text-align: right;\n",
       "    }\n",
       "</style>\n",
       "<table border=\"1\" class=\"dataframe\">\n",
       "  <thead>\n",
       "    <tr style=\"text-align: right;\">\n",
       "      <th></th>\n",
       "      <th>userId</th>\n",
       "      <th>source</th>\n",
       "    </tr>\n",
       "  </thead>\n",
       "  <tbody>\n",
       "    <tr>\n",
       "      <th>0</th>\n",
       "      <td>020292ab-89bc-4156-9acf-68bc2783f894</td>\n",
       "      <td>other</td>\n",
       "    </tr>\n",
       "    <tr>\n",
       "      <th>1</th>\n",
       "      <td>cf7eda61-9349-469f-ac27-e5b6f5ec475c</td>\n",
       "      <td>yandex</td>\n",
       "    </tr>\n",
       "    <tr>\n",
       "      <th>2</th>\n",
       "      <td>8c356c42-3ba9-4cb6-80b8-3f868d0192c3</td>\n",
       "      <td>yandex</td>\n",
       "    </tr>\n",
       "    <tr>\n",
       "      <th>3</th>\n",
       "      <td>d9b06b47-0f36-419b-bbb0-3533e582a6cb</td>\n",
       "      <td>other</td>\n",
       "    </tr>\n",
       "    <tr>\n",
       "      <th>4</th>\n",
       "      <td>f32e1e2a-3027-4693-b793-b7b3ff274439</td>\n",
       "      <td>google</td>\n",
       "    </tr>\n",
       "  </tbody>\n",
       "</table>\n",
       "</div>"
      ],
      "text/plain": [
       "                                 userId  source\n",
       "0  020292ab-89bc-4156-9acf-68bc2783f894   other\n",
       "1  cf7eda61-9349-469f-ac27-e5b6f5ec475c  yandex\n",
       "2  8c356c42-3ba9-4cb6-80b8-3f868d0192c3  yandex\n",
       "3  d9b06b47-0f36-419b-bbb0-3533e582a6cb   other\n",
       "4  f32e1e2a-3027-4693-b793-b7b3ff274439  google"
      ]
     },
     "metadata": {},
     "output_type": "display_data"
    },
    {
     "data": {
      "text/html": [
       "<div>\n",
       "<style scoped>\n",
       "    .dataframe tbody tr th:only-of-type {\n",
       "        vertical-align: middle;\n",
       "    }\n",
       "\n",
       "    .dataframe tbody tr th {\n",
       "        vertical-align: top;\n",
       "    }\n",
       "\n",
       "    .dataframe thead th {\n",
       "        text-align: right;\n",
       "    }\n",
       "</style>\n",
       "<table border=\"1\" class=\"dataframe\">\n",
       "  <thead>\n",
       "    <tr style=\"text-align: right;\">\n",
       "      <th></th>\n",
       "      <th>event.time</th>\n",
       "      <th>event.name</th>\n",
       "      <th>user.id</th>\n",
       "    </tr>\n",
       "  </thead>\n",
       "  <tbody>\n",
       "    <tr>\n",
       "      <th>0</th>\n",
       "      <td>2019-10-07 00:00:00.431357</td>\n",
       "      <td>advert_open</td>\n",
       "      <td>020292ab-89bc-4156-9acf-68bc2783f894</td>\n",
       "    </tr>\n",
       "    <tr>\n",
       "      <th>1</th>\n",
       "      <td>2019-10-07 00:00:01.236320</td>\n",
       "      <td>tips_show</td>\n",
       "      <td>020292ab-89bc-4156-9acf-68bc2783f894</td>\n",
       "    </tr>\n",
       "    <tr>\n",
       "      <th>2</th>\n",
       "      <td>2019-10-07 00:00:02.245341</td>\n",
       "      <td>tips_show</td>\n",
       "      <td>cf7eda61-9349-469f-ac27-e5b6f5ec475c</td>\n",
       "    </tr>\n",
       "    <tr>\n",
       "      <th>3</th>\n",
       "      <td>2019-10-07 00:00:07.039334</td>\n",
       "      <td>tips_show</td>\n",
       "      <td>020292ab-89bc-4156-9acf-68bc2783f894</td>\n",
       "    </tr>\n",
       "    <tr>\n",
       "      <th>4</th>\n",
       "      <td>2019-10-07 00:00:56.319813</td>\n",
       "      <td>advert_open</td>\n",
       "      <td>cf7eda61-9349-469f-ac27-e5b6f5ec475c</td>\n",
       "    </tr>\n",
       "  </tbody>\n",
       "</table>\n",
       "</div>"
      ],
      "text/plain": [
       "                   event.time   event.name  \\\n",
       "0  2019-10-07 00:00:00.431357  advert_open   \n",
       "1  2019-10-07 00:00:01.236320    tips_show   \n",
       "2  2019-10-07 00:00:02.245341    tips_show   \n",
       "3  2019-10-07 00:00:07.039334    tips_show   \n",
       "4  2019-10-07 00:00:56.319813  advert_open   \n",
       "\n",
       "                                user.id  \n",
       "0  020292ab-89bc-4156-9acf-68bc2783f894  \n",
       "1  020292ab-89bc-4156-9acf-68bc2783f894  \n",
       "2  cf7eda61-9349-469f-ac27-e5b6f5ec475c  \n",
       "3  020292ab-89bc-4156-9acf-68bc2783f894  \n",
       "4  cf7eda61-9349-469f-ac27-e5b6f5ec475c  "
      ]
     },
     "metadata": {},
     "output_type": "display_data"
    }
   ],
   "source": [
    "display(mobile_sourсes.head())\n",
    "display(mobile_dataset.head())"
   ]
  },
  {
   "cell_type": "code",
   "execution_count": 4,
   "metadata": {},
   "outputs": [
    {
     "name": "stdout",
     "output_type": "stream",
     "text": [
      "<class 'pandas.core.frame.DataFrame'>\n",
      "RangeIndex: 4293 entries, 0 to 4292\n",
      "Data columns (total 2 columns):\n",
      " #   Column  Non-Null Count  Dtype \n",
      "---  ------  --------------  ----- \n",
      " 0   userId  4293 non-null   object\n",
      " 1   source  4293 non-null   object\n",
      "dtypes: object(2)\n",
      "memory usage: 67.2+ KB\n"
     ]
    }
   ],
   "source": [
    "# Посмотрю общую информацию по датасетам\n",
    "\n",
    "mobile_sourсes.info()"
   ]
  },
  {
   "cell_type": "code",
   "execution_count": 5,
   "metadata": {},
   "outputs": [
    {
     "name": "stdout",
     "output_type": "stream",
     "text": [
      "<class 'pandas.core.frame.DataFrame'>\n",
      "RangeIndex: 74197 entries, 0 to 74196\n",
      "Data columns (total 3 columns):\n",
      " #   Column      Non-Null Count  Dtype \n",
      "---  ------      --------------  ----- \n",
      " 0   event.time  74197 non-null  object\n",
      " 1   event.name  74197 non-null  object\n",
      " 2   user.id     74197 non-null  object\n",
      "dtypes: object(3)\n",
      "memory usage: 1.7+ MB\n"
     ]
    }
   ],
   "source": [
    "mobile_dataset.info()\n",
    "\n",
    "# Необходимо изменить тип данных в столбце event.time"
   ]
  },
  {
   "cell_type": "code",
   "execution_count": 6,
   "metadata": {},
   "outputs": [
    {
     "data": {
      "text/plain": [
       "'Минимальная дата событий:'"
      ]
     },
     "metadata": {},
     "output_type": "display_data"
    },
    {
     "data": {
      "text/plain": [
       "'2019-10-07 00:00:00.431357'"
      ]
     },
     "metadata": {},
     "output_type": "display_data"
    },
    {
     "data": {
      "text/plain": [
       "'Максимальная дата событий:'"
      ]
     },
     "metadata": {},
     "output_type": "display_data"
    },
    {
     "data": {
      "text/plain": [
       "'2019-11-03 23:58:12.532487'"
      ]
     },
     "metadata": {},
     "output_type": "display_data"
    }
   ],
   "source": [
    "# Проверю, за какой период есть данные\n",
    "\n",
    "display('Минимальная дата событий:', mobile_dataset['event.time'].min())\n",
    "display('Максимальная дата событий:', mobile_dataset['event.time'].max())"
   ]
  },
  {
   "cell_type": "markdown",
   "metadata": {},
   "source": [
    "**Вывод**\n",
    "\n",
    "Датасет 'mobile_dataset' содержит информацию о пользователях, совершенных ими событиях и времени совершения этих событий. Всего в датасете 74197 строк. Есть данные за период совершения событий с 7 октября 2019г по 3 ноября 2019г.\n",
    "\n",
    "Столбец 'event.time' имеет некорректный тип, необходимо заменить его на этапе предобработки данных. Также необходимо произвести замену названия столбцов. \n",
    "\n",
    "Датасет 'mobile_sourсes' содержит информацию о пользователях и источниках, с которого пользователь установил приложение. Всего в датасете 4293 строк. Типы данных корректны, необходимо изменить название столбца 'userId'."
   ]
  },
  {
   "cell_type": "markdown",
   "metadata": {},
   "source": [
    "## Предобработка данных"
   ]
  },
  {
   "cell_type": "markdown",
   "metadata": {},
   "source": [
    "### Корректировка названия/типов столбцов"
   ]
  },
  {
   "cell_type": "code",
   "execution_count": 7,
   "metadata": {},
   "outputs": [],
   "source": [
    "# Изменю названия столбцов\n",
    "\n",
    "mobile_sourсes = mobile_sourсes.rename(columns={'userId':'user_id'})\n",
    "\n",
    "mobile_dataset.columns = [x.lower().replace('.', '_') for x in mobile_dataset.columns.values]"
   ]
  },
  {
   "cell_type": "code",
   "execution_count": 8,
   "metadata": {},
   "outputs": [
    {
     "data": {
      "text/html": [
       "<div>\n",
       "<style scoped>\n",
       "    .dataframe tbody tr th:only-of-type {\n",
       "        vertical-align: middle;\n",
       "    }\n",
       "\n",
       "    .dataframe tbody tr th {\n",
       "        vertical-align: top;\n",
       "    }\n",
       "\n",
       "    .dataframe thead th {\n",
       "        text-align: right;\n",
       "    }\n",
       "</style>\n",
       "<table border=\"1\" class=\"dataframe\">\n",
       "  <thead>\n",
       "    <tr style=\"text-align: right;\">\n",
       "      <th></th>\n",
       "      <th>user_id</th>\n",
       "      <th>source</th>\n",
       "    </tr>\n",
       "  </thead>\n",
       "  <tbody>\n",
       "    <tr>\n",
       "      <th>0</th>\n",
       "      <td>020292ab-89bc-4156-9acf-68bc2783f894</td>\n",
       "      <td>other</td>\n",
       "    </tr>\n",
       "    <tr>\n",
       "      <th>1</th>\n",
       "      <td>cf7eda61-9349-469f-ac27-e5b6f5ec475c</td>\n",
       "      <td>yandex</td>\n",
       "    </tr>\n",
       "    <tr>\n",
       "      <th>2</th>\n",
       "      <td>8c356c42-3ba9-4cb6-80b8-3f868d0192c3</td>\n",
       "      <td>yandex</td>\n",
       "    </tr>\n",
       "    <tr>\n",
       "      <th>3</th>\n",
       "      <td>d9b06b47-0f36-419b-bbb0-3533e582a6cb</td>\n",
       "      <td>other</td>\n",
       "    </tr>\n",
       "    <tr>\n",
       "      <th>4</th>\n",
       "      <td>f32e1e2a-3027-4693-b793-b7b3ff274439</td>\n",
       "      <td>google</td>\n",
       "    </tr>\n",
       "  </tbody>\n",
       "</table>\n",
       "</div>"
      ],
      "text/plain": [
       "                                user_id  source\n",
       "0  020292ab-89bc-4156-9acf-68bc2783f894   other\n",
       "1  cf7eda61-9349-469f-ac27-e5b6f5ec475c  yandex\n",
       "2  8c356c42-3ba9-4cb6-80b8-3f868d0192c3  yandex\n",
       "3  d9b06b47-0f36-419b-bbb0-3533e582a6cb   other\n",
       "4  f32e1e2a-3027-4693-b793-b7b3ff274439  google"
      ]
     },
     "metadata": {},
     "output_type": "display_data"
    },
    {
     "data": {
      "text/html": [
       "<div>\n",
       "<style scoped>\n",
       "    .dataframe tbody tr th:only-of-type {\n",
       "        vertical-align: middle;\n",
       "    }\n",
       "\n",
       "    .dataframe tbody tr th {\n",
       "        vertical-align: top;\n",
       "    }\n",
       "\n",
       "    .dataframe thead th {\n",
       "        text-align: right;\n",
       "    }\n",
       "</style>\n",
       "<table border=\"1\" class=\"dataframe\">\n",
       "  <thead>\n",
       "    <tr style=\"text-align: right;\">\n",
       "      <th></th>\n",
       "      <th>event_time</th>\n",
       "      <th>event_name</th>\n",
       "      <th>user_id</th>\n",
       "    </tr>\n",
       "  </thead>\n",
       "  <tbody>\n",
       "    <tr>\n",
       "      <th>0</th>\n",
       "      <td>2019-10-07 00:00:00.431357</td>\n",
       "      <td>advert_open</td>\n",
       "      <td>020292ab-89bc-4156-9acf-68bc2783f894</td>\n",
       "    </tr>\n",
       "    <tr>\n",
       "      <th>1</th>\n",
       "      <td>2019-10-07 00:00:01.236320</td>\n",
       "      <td>tips_show</td>\n",
       "      <td>020292ab-89bc-4156-9acf-68bc2783f894</td>\n",
       "    </tr>\n",
       "    <tr>\n",
       "      <th>2</th>\n",
       "      <td>2019-10-07 00:00:02.245341</td>\n",
       "      <td>tips_show</td>\n",
       "      <td>cf7eda61-9349-469f-ac27-e5b6f5ec475c</td>\n",
       "    </tr>\n",
       "    <tr>\n",
       "      <th>3</th>\n",
       "      <td>2019-10-07 00:00:07.039334</td>\n",
       "      <td>tips_show</td>\n",
       "      <td>020292ab-89bc-4156-9acf-68bc2783f894</td>\n",
       "    </tr>\n",
       "    <tr>\n",
       "      <th>4</th>\n",
       "      <td>2019-10-07 00:00:56.319813</td>\n",
       "      <td>advert_open</td>\n",
       "      <td>cf7eda61-9349-469f-ac27-e5b6f5ec475c</td>\n",
       "    </tr>\n",
       "  </tbody>\n",
       "</table>\n",
       "</div>"
      ],
      "text/plain": [
       "                   event_time   event_name  \\\n",
       "0  2019-10-07 00:00:00.431357  advert_open   \n",
       "1  2019-10-07 00:00:01.236320    tips_show   \n",
       "2  2019-10-07 00:00:02.245341    tips_show   \n",
       "3  2019-10-07 00:00:07.039334    tips_show   \n",
       "4  2019-10-07 00:00:56.319813  advert_open   \n",
       "\n",
       "                                user_id  \n",
       "0  020292ab-89bc-4156-9acf-68bc2783f894  \n",
       "1  020292ab-89bc-4156-9acf-68bc2783f894  \n",
       "2  cf7eda61-9349-469f-ac27-e5b6f5ec475c  \n",
       "3  020292ab-89bc-4156-9acf-68bc2783f894  \n",
       "4  cf7eda61-9349-469f-ac27-e5b6f5ec475c  "
      ]
     },
     "metadata": {},
     "output_type": "display_data"
    }
   ],
   "source": [
    "display(mobile_sourсes.head())\n",
    "display(mobile_dataset.head())"
   ]
  },
  {
   "cell_type": "code",
   "execution_count": 9,
   "metadata": {},
   "outputs": [],
   "source": [
    "# Изменю тип столбца event_time\n",
    "\n",
    "mobile_dataset['event_time'] = pd.to_datetime(mobile_dataset['event_time'])"
   ]
  },
  {
   "cell_type": "code",
   "execution_count": 10,
   "metadata": {},
   "outputs": [
    {
     "name": "stdout",
     "output_type": "stream",
     "text": [
      "<class 'pandas.core.frame.DataFrame'>\n",
      "RangeIndex: 74197 entries, 0 to 74196\n",
      "Data columns (total 3 columns):\n",
      " #   Column      Non-Null Count  Dtype         \n",
      "---  ------      --------------  -----         \n",
      " 0   event_time  74197 non-null  datetime64[ns]\n",
      " 1   event_name  74197 non-null  object        \n",
      " 2   user_id     74197 non-null  object        \n",
      "dtypes: datetime64[ns](1), object(2)\n",
      "memory usage: 1.7+ MB\n"
     ]
    }
   ],
   "source": [
    "mobile_dataset.info()"
   ]
  },
  {
   "cell_type": "markdown",
   "metadata": {},
   "source": [
    "### Обработка явных/неявных дубликатов"
   ]
  },
  {
   "cell_type": "code",
   "execution_count": 11,
   "metadata": {},
   "outputs": [
    {
     "data": {
      "text/plain": [
       "0"
      ]
     },
     "metadata": {},
     "output_type": "display_data"
    },
    {
     "data": {
      "text/plain": [
       "0"
      ]
     },
     "metadata": {},
     "output_type": "display_data"
    }
   ],
   "source": [
    "# Проверю дубликаты\n",
    "\n",
    "display(mobile_sourсes.duplicated().sum())\n",
    "display(mobile_dataset.duplicated().sum())"
   ]
  },
  {
   "cell_type": "code",
   "execution_count": 12,
   "metadata": {},
   "outputs": [
    {
     "data": {
      "text/plain": [
       "array(['advert_open', 'tips_show', 'map', 'contacts_show', 'search_4',\n",
       "       'search_5', 'tips_click', 'photos_show', 'search_1', 'search_2',\n",
       "       'search_3', 'favorites_add', 'contacts_call', 'search_6',\n",
       "       'search_7', 'show_contacts'], dtype=object)"
      ]
     },
     "execution_count": 12,
     "metadata": {},
     "output_type": "execute_result"
    }
   ],
   "source": [
    "# Проверю, какие есть события\n",
    "\n",
    "mobile_dataset['event_name'].unique()"
   ]
  },
  {
   "cell_type": "markdown",
   "metadata": {},
   "source": [
    "Есть следующие события:\n",
    "\n",
    "1. advert_open - открытие карточки объявления\n",
    "2. tips_show - пользователь увидел рекомендованные объявления\n",
    "3. map - пользователь открыл карту размещенных объявлений\n",
    "4. contacts_show - пользователь нажал на кнопку \"посмотреть номер телефона\" на карточке объявления \n",
    "5. show_contacts - это тоже самое, заменю название на contacts_show\n",
    "6. tips_click - пользователь кликнул по рекомендованному объявлению\n",
    "7. photos_show - просмотр фотографий в объявлении\n",
    "8. favorites_add - добавление объявления в избранное\n",
    "9. contacts_call - пользователь позвонил по номеру телефона на карточке объявления\n",
    "10. search_1 - search_7 - разные события, связанные с поиском по сайту. Объединю их в одну группу, т.к для текущего анализа важен сам факт события - поиск по сайту."
   ]
  },
  {
   "cell_type": "code",
   "execution_count": 13,
   "metadata": {},
   "outputs": [],
   "source": [
    "# Меняю название события 'show_contacts'\n",
    "\n",
    "mobile_dataset['event_name'] = mobile_dataset['event_name'].str.lower().str.replace('show_contacts', 'contacts_show')"
   ]
  },
  {
   "cell_type": "code",
   "execution_count": 14,
   "metadata": {},
   "outputs": [],
   "source": [
    "# Объединю 'search_1' - 'search_7' в одно событие \n",
    "\n",
    "mobile_dataset = mobile_dataset.replace({'event_name':{\n",
    "    'search_1':'search',\n",
    "    'search_2':'search',\n",
    "    'search_3':'search',\n",
    "    'search_4':'search',\n",
    "    'search_5':'search',\n",
    "    'search_6':'search',\n",
    "    'search_7':'search'\n",
    "}})\n"
   ]
  },
  {
   "cell_type": "code",
   "execution_count": 15,
   "metadata": {},
   "outputs": [
    {
     "data": {
      "text/plain": [
       "array(['advert_open', 'tips_show', 'map', 'contacts_show', 'search',\n",
       "       'tips_click', 'photos_show', 'favorites_add', 'contacts_call'],\n",
       "      dtype=object)"
      ]
     },
     "execution_count": 15,
     "metadata": {},
     "output_type": "execute_result"
    }
   ],
   "source": [
    "# Проверю результат\n",
    "\n",
    "mobile_dataset['event_name'].unique()"
   ]
  },
  {
   "cell_type": "markdown",
   "metadata": {},
   "source": [
    "### Обработка пропущенных значений"
   ]
  },
  {
   "cell_type": "code",
   "execution_count": 16,
   "metadata": {},
   "outputs": [
    {
     "data": {
      "text/plain": [
       "user_id    0\n",
       "source     0\n",
       "dtype: int64"
      ]
     },
     "metadata": {},
     "output_type": "display_data"
    },
    {
     "data": {
      "text/plain": [
       "event_time    0\n",
       "event_name    0\n",
       "user_id       0\n",
       "dtype: int64"
      ]
     },
     "metadata": {},
     "output_type": "display_data"
    }
   ],
   "source": [
    "# Проверю пропуски\n",
    "\n",
    "display(mobile_sourсes.isna().sum())\n",
    "display(mobile_dataset.isna().sum())"
   ]
  },
  {
   "cell_type": "markdown",
   "metadata": {},
   "source": [
    "**Вывод**\n",
    "\n",
    "Была проведена следующая предобработка данных:\n",
    "\n",
    "- Скорректировано название столбцов\n",
    "- Изменен тип столбца 'event_time' на временной тип данных\n",
    "- Явных дубликатов не обнаружено. Были объеденены группы 'contacts_show' и 'show_contacts' в одну, т.к это одно действие - пользователь нажал на кнопку \"посмотреть номер телефона\" на карточке объявления. Группы 'search_1' - 'search_7' - это разные события, связанные с поиском по сайту. Для текущего анализа важен сам факт события - поиск по сайту, поэтому я их объединила в одну группу 'search'.\n",
    "- Пропуски не обнаружены"
   ]
  },
  {
   "cell_type": "markdown",
   "metadata": {},
   "source": [
    "## Исследование общего поведения пользователей"
   ]
  },
  {
   "cell_type": "code",
   "execution_count": 17,
   "metadata": {},
   "outputs": [
    {
     "data": {
      "text/html": [
       "<div>\n",
       "<style scoped>\n",
       "    .dataframe tbody tr th:only-of-type {\n",
       "        vertical-align: middle;\n",
       "    }\n",
       "\n",
       "    .dataframe tbody tr th {\n",
       "        vertical-align: top;\n",
       "    }\n",
       "\n",
       "    .dataframe thead th {\n",
       "        text-align: right;\n",
       "    }\n",
       "</style>\n",
       "<table border=\"1\" class=\"dataframe\">\n",
       "  <thead>\n",
       "    <tr style=\"text-align: right;\">\n",
       "      <th></th>\n",
       "      <th>user_id</th>\n",
       "      <th>event_name</th>\n",
       "      <th>event_time</th>\n",
       "      <th>source</th>\n",
       "    </tr>\n",
       "  </thead>\n",
       "  <tbody>\n",
       "    <tr>\n",
       "      <th>0</th>\n",
       "      <td>020292ab-89bc-4156-9acf-68bc2783f894</td>\n",
       "      <td>advert_open</td>\n",
       "      <td>2019-10-07 00:00:00.431357</td>\n",
       "      <td>other</td>\n",
       "    </tr>\n",
       "    <tr>\n",
       "      <th>1</th>\n",
       "      <td>020292ab-89bc-4156-9acf-68bc2783f894</td>\n",
       "      <td>tips_show</td>\n",
       "      <td>2019-10-07 00:00:01.236320</td>\n",
       "      <td>other</td>\n",
       "    </tr>\n",
       "    <tr>\n",
       "      <th>2</th>\n",
       "      <td>020292ab-89bc-4156-9acf-68bc2783f894</td>\n",
       "      <td>tips_show</td>\n",
       "      <td>2019-10-07 00:00:07.039334</td>\n",
       "      <td>other</td>\n",
       "    </tr>\n",
       "    <tr>\n",
       "      <th>3</th>\n",
       "      <td>020292ab-89bc-4156-9acf-68bc2783f894</td>\n",
       "      <td>advert_open</td>\n",
       "      <td>2019-10-07 00:01:27.770232</td>\n",
       "      <td>other</td>\n",
       "    </tr>\n",
       "    <tr>\n",
       "      <th>4</th>\n",
       "      <td>020292ab-89bc-4156-9acf-68bc2783f894</td>\n",
       "      <td>tips_show</td>\n",
       "      <td>2019-10-07 00:01:34.804591</td>\n",
       "      <td>other</td>\n",
       "    </tr>\n",
       "  </tbody>\n",
       "</table>\n",
       "</div>"
      ],
      "text/plain": [
       "                                user_id   event_name  \\\n",
       "0  020292ab-89bc-4156-9acf-68bc2783f894  advert_open   \n",
       "1  020292ab-89bc-4156-9acf-68bc2783f894    tips_show   \n",
       "2  020292ab-89bc-4156-9acf-68bc2783f894    tips_show   \n",
       "3  020292ab-89bc-4156-9acf-68bc2783f894  advert_open   \n",
       "4  020292ab-89bc-4156-9acf-68bc2783f894    tips_show   \n",
       "\n",
       "                  event_time source  \n",
       "0 2019-10-07 00:00:00.431357  other  \n",
       "1 2019-10-07 00:00:01.236320  other  \n",
       "2 2019-10-07 00:00:07.039334  other  \n",
       "3 2019-10-07 00:01:27.770232  other  \n",
       "4 2019-10-07 00:01:34.804591  other  "
      ]
     },
     "execution_count": 17,
     "metadata": {},
     "output_type": "execute_result"
    }
   ],
   "source": [
    "# Для начала я объединю таблицы\n",
    "\n",
    "sessions = mobile_dataset.merge(mobile_sourсes, on='user_id', how='outer')\n",
    "\n",
    "# Изменю порядок столбцов \n",
    "\n",
    "sessions = sessions[['user_id', 'event_name', 'event_time', 'source']]\n",
    "\n",
    "sessions.head()"
   ]
  },
  {
   "cell_type": "markdown",
   "metadata": {},
   "source": [
    "### Retention rate"
   ]
  },
  {
   "cell_type": "markdown",
   "metadata": {},
   "source": [
    "Для начала создам профили пользователей, с датой первого посещения и источником перехода на сайт."
   ]
  },
  {
   "cell_type": "code",
   "execution_count": 18,
   "metadata": {},
   "outputs": [],
   "source": [
    "# Функция профилей\n",
    "\n",
    "def get_profiles(x):\n",
    "\n",
    "    # сортируем сессии по ID пользователя и дате посещения\n",
    "    # группируем по ID и находим первые значения event_time и source\n",
    "    # столбец с временем первого посещения назовём first_ts\n",
    "    profiles = (\n",
    "        x.sort_values(by=['user_id', 'event_time'])\n",
    "        .groupby('user_id')\n",
    "        .agg({'event_time': 'first', 'source': 'first'})\n",
    "        .rename(columns={'event_time': 'first_ts'})\n",
    "        .reset_index()  # возвращаем user_id из индекса\n",
    "    )\n",
    "\n",
    "    # определяем дату первого посещения\n",
    "    # и первый день месяца, в который это посещение произошло\n",
    "    # эти данные понадобятся для когортного анализа\n",
    "    profiles['dt'] = profiles['first_ts'].dt.date\n",
    "    profiles['month'] = profiles['first_ts'].astype('datetime64[M]')\n",
    "\n",
    "    return profiles"
   ]
  },
  {
   "cell_type": "code",
   "execution_count": 19,
   "metadata": {},
   "outputs": [],
   "source": [
    "# Вызову функцию\n",
    "\n",
    "profiles = get_profiles(sessions)\n"
   ]
  },
  {
   "cell_type": "code",
   "execution_count": 20,
   "metadata": {},
   "outputs": [
    {
     "name": "stdout",
     "output_type": "stream",
     "text": [
      "<class 'pandas.core.frame.DataFrame'>\n",
      "RangeIndex: 4293 entries, 0 to 4292\n",
      "Data columns (total 5 columns):\n",
      " #   Column    Non-Null Count  Dtype         \n",
      "---  ------    --------------  -----         \n",
      " 0   user_id   4293 non-null   object        \n",
      " 1   first_ts  4293 non-null   datetime64[ns]\n",
      " 2   source    4293 non-null   object        \n",
      " 3   dt        4293 non-null   object        \n",
      " 4   month     4293 non-null   datetime64[ns]\n",
      "dtypes: datetime64[ns](2), object(3)\n",
      "memory usage: 167.8+ KB\n"
     ]
    }
   ],
   "source": [
    "profiles.info()"
   ]
  },
  {
   "cell_type": "markdown",
   "metadata": {},
   "source": [
    "Получилось 4293 профиля пользователей. Посмотрю, как привлекались новые пользователи по времени и по источнику, с которого было установлено приложение."
   ]
  },
  {
   "cell_type": "code",
   "execution_count": 21,
   "metadata": {},
   "outputs": [
    {
     "data": {
      "image/png": "[encoded data removed]",
      "text/plain": [
       "<Figure size 1080x360 with 1 Axes>"
      ]
     },
     "metadata": {
      "needs_background": "light"
     },
     "output_type": "display_data"
    }
   ],
   "source": [
    "# График динамики привлечения новых пользователей по 'source'\n",
    "\n",
    "profiles.pivot_table(\n",
    "    index='dt',  # даты первых посещений\n",
    "    columns='source',  # источники переходов\n",
    "    values='user_id',  # ID пользователей\n",
    "    aggfunc='nunique'  # подсчёт уникальных значений\n",
    ").plot(figsize=(15, 5), grid=True)\n",
    "\n",
    "plt.title('Динамика привлечения новых пользователей по источнику, с которого пользователь установил приложение')\n",
    "plt.ylabel('Количество пользователей')\n",
    "plt.xlabel('Дата')\n",
    "\n",
    "plt.show()"
   ]
  },
  {
   "cell_type": "markdown",
   "metadata": {},
   "source": [
    "**Вывод**\n",
    "\n",
    "На графике видно, что через 'yandex' установлено больше всего приложений. Наблюдаются колебания на всем рассматриваемом периоде, падение количества пользователей, пришедших из 'yandex' 29 октября и после. Общая тенденция также идет к снижению. В последний изучаемый день наблюдается рост из всех источников."
   ]
  },
  {
   "cell_type": "markdown",
   "metadata": {},
   "source": [
    "Профили содержат информацию о первых визитах пользователей на сайт, но для расчёта Retention Rate нужны данные обо всех посещениях из журнала сессий. Добавлю их."
   ]
  },
  {
   "cell_type": "code",
   "execution_count": 22,
   "metadata": {},
   "outputs": [],
   "source": [
    "# Функция Retention rate по дням\n",
    "\n",
    "def get_retention(y):\n",
    "    # присоединяю event_time к профилям по столбцу user_id\n",
    "    result_raw = y.merge(\n",
    "    sessions[['user_id', 'event_time']], on='user_id', how='left'\n",
    "    )\n",
    "    # вычисляю лайфтайм для каждой сессии в днях\n",
    "    result_raw['lifetime'] = (\n",
    "    result_raw['event_time'] - result_raw['first_ts']\n",
    "    ).dt.days\n",
    "    # строю таблицу удержания\n",
    "    result_grouped = result_raw.pivot_table(\n",
    "    index=['dt'], columns='lifetime', values='user_id', aggfunc='nunique'\n",
    "    )\n",
    "    # вычисляю размеры когорт\n",
    "    cohort_sizes = (\n",
    "    result_raw.groupby('dt')\n",
    "    .agg({'user_id': 'nunique'})\n",
    "    .rename(columns={'user_id': 'cohort_size'})\n",
    "    )\n",
    "    # объединяю размеры когорт и таблицу удержания\n",
    "    result_grouped = cohort_sizes.merge(\n",
    "    result_grouped, on='dt', how='left'\n",
    "    ).fillna(0)\n",
    "\n",
    "    # делю данные таблицы удержания на размеры когорт\n",
    "\n",
    "    result_grouped = result_grouped.div(\n",
    "    result_grouped['cohort_size'], axis=0\n",
    "    ).drop(columns=['cohort_size'])\n",
    "\n",
    "    # Удалю первый столбец, там общее число = 1\n",
    "    result_grouped = result_grouped.drop([0], axis=1)\n",
    "\n",
    "    # Retention Rate пользователей:\n",
    "\n",
    "    return result_grouped"
   ]
  },
  {
   "cell_type": "code",
   "execution_count": 23,
   "metadata": {},
   "outputs": [],
   "source": [
    "# Функция Retention rate по недельным когортам\n",
    "\n",
    "def week_retention(x):\n",
    "    # присоединяю event_time к профилям по столбцу user_id\n",
    "    result_raw = x.merge(\n",
    "    sessions[['user_id', 'event_time']], on='user_id', how='left'\n",
    "    )\n",
    "    result_raw['week_event'] = pd.to_datetime(result_raw['event_time']).dt.week\n",
    "    # вычисляю лайфтайм для каждой сессии в днях\n",
    "    result_raw['lifetime'] = (\n",
    "    (result_raw['week_event'] - result_raw['week'])\n",
    "    )\n",
    "    # строю таблицу удержания\n",
    "    result_grouped = result_raw.pivot_table(\n",
    "    index=['week'], columns='lifetime', values='user_id', aggfunc='nunique'\n",
    "    )\n",
    "    # вычисляю размеры когорт\n",
    "    cohort_sizes = (\n",
    "    result_raw.groupby('week')\n",
    "    .agg({'user_id': 'nunique'})\n",
    "    .rename(columns={'user_id': 'cohort_size'})\n",
    "    )\n",
    "    # объединяю размеры когорт и таблицу удержания\n",
    "    result_grouped = cohort_sizes.merge(\n",
    "    result_grouped, on='week', how='left'\n",
    "    ).fillna(0)\n",
    "    # делю данные таблицы удержания на размеры когорт\n",
    "\n",
    "    result_grouped = result_grouped.div(\n",
    "    result_grouped['cohort_size'], axis=0\n",
    "    ).drop(columns=['cohort_size'])\n",
    "    \n",
    "    # Удалю первый столбец, там общее число = 1\n",
    "    result_grouped = result_grouped.drop([0], axis=1)\n",
    "\n",
    "    # Retention Rate пользователей:\n",
    "\n",
    "    return result_grouped"
   ]
  },
  {
   "cell_type": "code",
   "execution_count": 24,
   "metadata": {},
   "outputs": [
    {
     "data": {
      "text/html": [
       "<div>\n",
       "<style scoped>\n",
       "    .dataframe tbody tr th:only-of-type {\n",
       "        vertical-align: middle;\n",
       "    }\n",
       "\n",
       "    .dataframe tbody tr th {\n",
       "        vertical-align: top;\n",
       "    }\n",
       "\n",
       "    .dataframe thead th {\n",
       "        text-align: right;\n",
       "    }\n",
       "</style>\n",
       "<table border=\"1\" class=\"dataframe\">\n",
       "  <thead>\n",
       "    <tr style=\"text-align: right;\">\n",
       "      <th></th>\n",
       "      <th>1</th>\n",
       "      <th>2</th>\n",
       "      <th>3</th>\n",
       "      <th>4</th>\n",
       "      <th>5</th>\n",
       "      <th>6</th>\n",
       "      <th>7</th>\n",
       "      <th>8</th>\n",
       "      <th>9</th>\n",
       "      <th>10</th>\n",
       "      <th>...</th>\n",
       "      <th>17</th>\n",
       "      <th>18</th>\n",
       "      <th>19</th>\n",
       "      <th>20</th>\n",
       "      <th>21</th>\n",
       "      <th>22</th>\n",
       "      <th>23</th>\n",
       "      <th>24</th>\n",
       "      <th>25</th>\n",
       "      <th>26</th>\n",
       "    </tr>\n",
       "    <tr>\n",
       "      <th>dt</th>\n",
       "      <th></th>\n",
       "      <th></th>\n",
       "      <th></th>\n",
       "      <th></th>\n",
       "      <th></th>\n",
       "      <th></th>\n",
       "      <th></th>\n",
       "      <th></th>\n",
       "      <th></th>\n",
       "      <th></th>\n",
       "      <th></th>\n",
       "      <th></th>\n",
       "      <th></th>\n",
       "      <th></th>\n",
       "      <th></th>\n",
       "      <th></th>\n",
       "      <th></th>\n",
       "      <th></th>\n",
       "      <th></th>\n",
       "      <th></th>\n",
       "      <th></th>\n",
       "    </tr>\n",
       "  </thead>\n",
       "  <tbody>\n",
       "    <tr>\n",
       "      <th>2019-10-07</th>\n",
       "      <td>0.122549</td>\n",
       "      <td>0.098039</td>\n",
       "      <td>0.107843</td>\n",
       "      <td>0.053922</td>\n",
       "      <td>0.039216</td>\n",
       "      <td>0.058824</td>\n",
       "      <td>0.078431</td>\n",
       "      <td>0.053922</td>\n",
       "      <td>0.049020</td>\n",
       "      <td>0.049020</td>\n",
       "      <td>...</td>\n",
       "      <td>0.019608</td>\n",
       "      <td>0.044118</td>\n",
       "      <td>0.024510</td>\n",
       "      <td>0.014706</td>\n",
       "      <td>0.019608</td>\n",
       "      <td>0.034314</td>\n",
       "      <td>0.034314</td>\n",
       "      <td>0.039216</td>\n",
       "      <td>0.044118</td>\n",
       "      <td>0.029412</td>\n",
       "    </tr>\n",
       "    <tr>\n",
       "      <th>2019-10-08</th>\n",
       "      <td>0.161677</td>\n",
       "      <td>0.125749</td>\n",
       "      <td>0.053892</td>\n",
       "      <td>0.041916</td>\n",
       "      <td>0.065868</td>\n",
       "      <td>0.053892</td>\n",
       "      <td>0.071856</td>\n",
       "      <td>0.059880</td>\n",
       "      <td>0.041916</td>\n",
       "      <td>0.059880</td>\n",
       "      <td>...</td>\n",
       "      <td>0.029940</td>\n",
       "      <td>0.017964</td>\n",
       "      <td>0.047904</td>\n",
       "      <td>0.035928</td>\n",
       "      <td>0.017964</td>\n",
       "      <td>0.023952</td>\n",
       "      <td>0.041916</td>\n",
       "      <td>0.029940</td>\n",
       "      <td>0.023952</td>\n",
       "      <td>0.011976</td>\n",
       "    </tr>\n",
       "    <tr>\n",
       "      <th>2019-10-09</th>\n",
       "      <td>0.073864</td>\n",
       "      <td>0.062500</td>\n",
       "      <td>0.056818</td>\n",
       "      <td>0.068182</td>\n",
       "      <td>0.068182</td>\n",
       "      <td>0.056818</td>\n",
       "      <td>0.073864</td>\n",
       "      <td>0.062500</td>\n",
       "      <td>0.034091</td>\n",
       "      <td>0.022727</td>\n",
       "      <td>...</td>\n",
       "      <td>0.017045</td>\n",
       "      <td>0.011364</td>\n",
       "      <td>0.028409</td>\n",
       "      <td>0.011364</td>\n",
       "      <td>0.034091</td>\n",
       "      <td>0.011364</td>\n",
       "      <td>0.005682</td>\n",
       "      <td>0.022727</td>\n",
       "      <td>0.017045</td>\n",
       "      <td>0.000000</td>\n",
       "    </tr>\n",
       "  </tbody>\n",
       "</table>\n",
       "<p>3 rows × 26 columns</p>\n",
       "</div>"
      ],
      "text/plain": [
       "                  1         2         3         4         5         6   \\\n",
       "dt                                                                       \n",
       "2019-10-07  0.122549  0.098039  0.107843  0.053922  0.039216  0.058824   \n",
       "2019-10-08  0.161677  0.125749  0.053892  0.041916  0.065868  0.053892   \n",
       "2019-10-09  0.073864  0.062500  0.056818  0.068182  0.068182  0.056818   \n",
       "\n",
       "                  7         8         9         10  ...        17        18  \\\n",
       "dt                                                  ...                       \n",
       "2019-10-07  0.078431  0.053922  0.049020  0.049020  ...  0.019608  0.044118   \n",
       "2019-10-08  0.071856  0.059880  0.041916  0.059880  ...  0.029940  0.017964   \n",
       "2019-10-09  0.073864  0.062500  0.034091  0.022727  ...  0.017045  0.011364   \n",
       "\n",
       "                  19        20        21        22        23        24  \\\n",
       "dt                                                                       \n",
       "2019-10-07  0.024510  0.014706  0.019608  0.034314  0.034314  0.039216   \n",
       "2019-10-08  0.047904  0.035928  0.017964  0.023952  0.041916  0.029940   \n",
       "2019-10-09  0.028409  0.011364  0.034091  0.011364  0.005682  0.022727   \n",
       "\n",
       "                  25        26  \n",
       "dt                              \n",
       "2019-10-07  0.044118  0.029412  \n",
       "2019-10-08  0.023952  0.011976  \n",
       "2019-10-09  0.017045  0.000000  \n",
       "\n",
       "[3 rows x 26 columns]"
      ]
     },
     "execution_count": 24,
     "metadata": {},
     "output_type": "execute_result"
    }
   ],
   "source": [
    "# Retention Rate пользователей:\n",
    "get_retention(profiles)\n",
    "retention_rate = get_retention(profiles)\n",
    "retention_rate.head(3)"
   ]
  },
  {
   "cell_type": "code",
   "execution_count": 25,
   "metadata": {},
   "outputs": [
    {
     "data": {
      "image/png": "[encoded data removed]",
      "text/plain": [
       "<Figure size 1440x576 with 2 Axes>"
      ]
     },
     "metadata": {
      "needs_background": "light"
     },
     "output_type": "display_data"
    }
   ],
   "source": [
    "# График удержания\n",
    "\n",
    "plt.figure(figsize = (20,8))\n",
    "\n",
    "sns.heatmap(retention_rate, cmap= \"ocean_r\", annot= True, fmt='.1%')\n",
    "\n",
    "plt.title('Коэффициент удержания пользователей', fontsize = 14)\n",
    "plt.xlabel('Лайфтайм', fontsize = 12)\n",
    "plt.ylabel('Дата привлечения', fontsize = 12)\n",
    "plt.show()"
   ]
  },
  {
   "cell_type": "markdown",
   "metadata": {},
   "source": [
    "**Вывод**\n",
    "\n",
    "Видим пиковый день удержания на 1 день лайфтайма для пользователей, привлеченных 29 октября. А если вспомнить график динамики привлечения новых пользователей, то именно 29 октября было падение у пользователей из yandex и явный рост у пользователей, пришедших из иных источников. \n",
    "\n",
    "В целом, отмечается падение удержания в последние дни: для пользователей от 31 октября - 2 день лайфтайма удержание всего 4.5%, а для пользователей от 1 ноября - на 2 день лайфтайма удержание и вовсе 2.7%. Т.е и привлекаться стало меньше клиентов, и удерживаются они хуже. Стоит разобраться, это случайность или что-то идет не так?\n",
    "\n",
    "Посмотрю результаты по недельным когортам."
   ]
  },
  {
   "cell_type": "code",
   "execution_count": 26,
   "metadata": {},
   "outputs": [
    {
     "data": {
      "text/html": [
       "<div>\n",
       "<style scoped>\n",
       "    .dataframe tbody tr th:only-of-type {\n",
       "        vertical-align: middle;\n",
       "    }\n",
       "\n",
       "    .dataframe tbody tr th {\n",
       "        vertical-align: top;\n",
       "    }\n",
       "\n",
       "    .dataframe thead th {\n",
       "        text-align: right;\n",
       "    }\n",
       "</style>\n",
       "<table border=\"1\" class=\"dataframe\">\n",
       "  <thead>\n",
       "    <tr style=\"text-align: right;\">\n",
       "      <th></th>\n",
       "      <th>user_id</th>\n",
       "      <th>first_ts</th>\n",
       "      <th>source</th>\n",
       "      <th>dt</th>\n",
       "      <th>month</th>\n",
       "      <th>week</th>\n",
       "    </tr>\n",
       "  </thead>\n",
       "  <tbody>\n",
       "    <tr>\n",
       "      <th>0</th>\n",
       "      <td>0001b1d5-b74a-4cbf-aeb0-7df5947bf349</td>\n",
       "      <td>2019-10-07 13:39:45.989359</td>\n",
       "      <td>other</td>\n",
       "      <td>2019-10-07</td>\n",
       "      <td>2019-10-01</td>\n",
       "      <td>41</td>\n",
       "    </tr>\n",
       "    <tr>\n",
       "      <th>1</th>\n",
       "      <td>00157779-810c-4498-9e05-a1e9e3cedf93</td>\n",
       "      <td>2019-10-19 21:34:33.849769</td>\n",
       "      <td>yandex</td>\n",
       "      <td>2019-10-19</td>\n",
       "      <td>2019-10-01</td>\n",
       "      <td>42</td>\n",
       "    </tr>\n",
       "    <tr>\n",
       "      <th>2</th>\n",
       "      <td>00463033-5717-4bf1-91b4-09183923b9df</td>\n",
       "      <td>2019-11-01 13:54:35.385028</td>\n",
       "      <td>yandex</td>\n",
       "      <td>2019-11-01</td>\n",
       "      <td>2019-11-01</td>\n",
       "      <td>44</td>\n",
       "    </tr>\n",
       "    <tr>\n",
       "      <th>3</th>\n",
       "      <td>004690c3-5a84-4bb7-a8af-e0c8f8fca64e</td>\n",
       "      <td>2019-10-18 22:14:05.555052</td>\n",
       "      <td>google</td>\n",
       "      <td>2019-10-18</td>\n",
       "      <td>2019-10-01</td>\n",
       "      <td>42</td>\n",
       "    </tr>\n",
       "    <tr>\n",
       "      <th>4</th>\n",
       "      <td>00551e79-152e-4441-9cf7-565d7eb04090</td>\n",
       "      <td>2019-10-25 16:44:41.263364</td>\n",
       "      <td>yandex</td>\n",
       "      <td>2019-10-25</td>\n",
       "      <td>2019-10-01</td>\n",
       "      <td>43</td>\n",
       "    </tr>\n",
       "  </tbody>\n",
       "</table>\n",
       "</div>"
      ],
      "text/plain": [
       "                                user_id                   first_ts  source  \\\n",
       "0  0001b1d5-b74a-4cbf-aeb0-7df5947bf349 2019-10-07 13:39:45.989359   other   \n",
       "1  00157779-810c-4498-9e05-a1e9e3cedf93 2019-10-19 21:34:33.849769  yandex   \n",
       "2  00463033-5717-4bf1-91b4-09183923b9df 2019-11-01 13:54:35.385028  yandex   \n",
       "3  004690c3-5a84-4bb7-a8af-e0c8f8fca64e 2019-10-18 22:14:05.555052  google   \n",
       "4  00551e79-152e-4441-9cf7-565d7eb04090 2019-10-25 16:44:41.263364  yandex   \n",
       "\n",
       "           dt      month  week  \n",
       "0  2019-10-07 2019-10-01    41  \n",
       "1  2019-10-19 2019-10-01    42  \n",
       "2  2019-11-01 2019-11-01    44  \n",
       "3  2019-10-18 2019-10-01    42  \n",
       "4  2019-10-25 2019-10-01    43  "
      ]
     },
     "execution_count": 26,
     "metadata": {},
     "output_type": "execute_result"
    }
   ],
   "source": [
    "# Добавлю столбец с неделями\n",
    "\n",
    "profiles['week'] = pd.to_datetime(profiles['first_ts']).dt.week\n",
    "profiles.head()"
   ]
  },
  {
   "cell_type": "code",
   "execution_count": 27,
   "metadata": {},
   "outputs": [
    {
     "data": {
      "text/html": [
       "<div>\n",
       "<style scoped>\n",
       "    .dataframe tbody tr th:only-of-type {\n",
       "        vertical-align: middle;\n",
       "    }\n",
       "\n",
       "    .dataframe tbody tr th {\n",
       "        vertical-align: top;\n",
       "    }\n",
       "\n",
       "    .dataframe thead th {\n",
       "        text-align: right;\n",
       "    }\n",
       "</style>\n",
       "<table border=\"1\" class=\"dataframe\">\n",
       "  <thead>\n",
       "    <tr style=\"text-align: right;\">\n",
       "      <th></th>\n",
       "      <th>1</th>\n",
       "      <th>2</th>\n",
       "      <th>3</th>\n",
       "    </tr>\n",
       "    <tr>\n",
       "      <th>week</th>\n",
       "      <th></th>\n",
       "      <th></th>\n",
       "      <th></th>\n",
       "    </tr>\n",
       "  </thead>\n",
       "  <tbody>\n",
       "    <tr>\n",
       "      <th>41</th>\n",
       "      <td>0.240708</td>\n",
       "      <td>0.150442</td>\n",
       "      <td>0.10531</td>\n",
       "    </tr>\n",
       "    <tr>\n",
       "      <th>42</th>\n",
       "      <td>0.241852</td>\n",
       "      <td>0.132933</td>\n",
       "      <td>0.00000</td>\n",
       "    </tr>\n",
       "    <tr>\n",
       "      <th>43</th>\n",
       "      <td>0.218464</td>\n",
       "      <td>0.000000</td>\n",
       "      <td>0.00000</td>\n",
       "    </tr>\n",
       "    <tr>\n",
       "      <th>44</th>\n",
       "      <td>0.000000</td>\n",
       "      <td>0.000000</td>\n",
       "      <td>0.00000</td>\n",
       "    </tr>\n",
       "  </tbody>\n",
       "</table>\n",
       "</div>"
      ],
      "text/plain": [
       "             1         2        3\n",
       "week                             \n",
       "41    0.240708  0.150442  0.10531\n",
       "42    0.241852  0.132933  0.00000\n",
       "43    0.218464  0.000000  0.00000\n",
       "44    0.000000  0.000000  0.00000"
      ]
     },
     "execution_count": 27,
     "metadata": {},
     "output_type": "execute_result"
    }
   ],
   "source": [
    "week_retention(profiles)"
   ]
  },
  {
   "cell_type": "code",
   "execution_count": 28,
   "metadata": {},
   "outputs": [
    {
     "data": {
      "image/png": "[encoded data removed]",
      "text/plain": [
       "<Figure size 1080x432 with 2 Axes>"
      ]
     },
     "metadata": {
      "needs_background": "light"
     },
     "output_type": "display_data"
    }
   ],
   "source": [
    "# График удержания по недельным когортам\n",
    "\n",
    "plt.figure(figsize = (15,6))\n",
    "\n",
    "sns.heatmap(week_retention(profiles), cmap=\"magma_r\", annot= True, fmt='.1%')\n",
    "\n",
    "plt.title('Коэффициент удержания пользователей', fontsize = 15)\n",
    "plt.xlabel('Лайфтайм', fontsize = 14)\n",
    "plt.ylabel('Недельная когорта', fontsize = 14)\n",
    "plt.show()"
   ]
  },
  {
   "cell_type": "markdown",
   "metadata": {},
   "source": [
    "Наблюдается снижение удержания пользователей, пришедших в последнюю неделю."
   ]
  },
  {
   "cell_type": "markdown",
   "metadata": {},
   "source": [
    "### Время, проведённое в приложении"
   ]
  },
  {
   "cell_type": "markdown",
   "metadata": {},
   "source": [
    "Выделенных сессий в данных нет, поэтому я буду рассчитывать один день - как одну сессию. Посмотрю, какое время в приложении проводят пользователи в течение одной сессии и сколько событий совершается в пределах одной сессии."
   ]
  },
  {
   "cell_type": "code",
   "execution_count": 29,
   "metadata": {},
   "outputs": [
    {
     "data": {
      "text/html": [
       "<div>\n",
       "<style scoped>\n",
       "    .dataframe tbody tr th:only-of-type {\n",
       "        vertical-align: middle;\n",
       "    }\n",
       "\n",
       "    .dataframe tbody tr th {\n",
       "        vertical-align: top;\n",
       "    }\n",
       "\n",
       "    .dataframe thead th {\n",
       "        text-align: right;\n",
       "    }\n",
       "</style>\n",
       "<table border=\"1\" class=\"dataframe\">\n",
       "  <thead>\n",
       "    <tr style=\"text-align: right;\">\n",
       "      <th></th>\n",
       "      <th>user_id</th>\n",
       "      <th>event_name</th>\n",
       "      <th>event_time</th>\n",
       "      <th>source</th>\n",
       "      <th>date</th>\n",
       "    </tr>\n",
       "  </thead>\n",
       "  <tbody>\n",
       "    <tr>\n",
       "      <th>2171</th>\n",
       "      <td>0001b1d5-b74a-4cbf-aeb0-7df5947bf349</td>\n",
       "      <td>tips_show</td>\n",
       "      <td>2019-10-07 13:39:45.989359</td>\n",
       "      <td>other</td>\n",
       "      <td>2019-10-07</td>\n",
       "    </tr>\n",
       "    <tr>\n",
       "      <th>2172</th>\n",
       "      <td>0001b1d5-b74a-4cbf-aeb0-7df5947bf349</td>\n",
       "      <td>tips_show</td>\n",
       "      <td>2019-10-07 13:40:31.052909</td>\n",
       "      <td>other</td>\n",
       "      <td>2019-10-07</td>\n",
       "    </tr>\n",
       "    <tr>\n",
       "      <th>2173</th>\n",
       "      <td>0001b1d5-b74a-4cbf-aeb0-7df5947bf349</td>\n",
       "      <td>tips_show</td>\n",
       "      <td>2019-10-07 13:41:05.722489</td>\n",
       "      <td>other</td>\n",
       "      <td>2019-10-07</td>\n",
       "    </tr>\n",
       "  </tbody>\n",
       "</table>\n",
       "</div>"
      ],
      "text/plain": [
       "                                   user_id event_name  \\\n",
       "2171  0001b1d5-b74a-4cbf-aeb0-7df5947bf349  tips_show   \n",
       "2172  0001b1d5-b74a-4cbf-aeb0-7df5947bf349  tips_show   \n",
       "2173  0001b1d5-b74a-4cbf-aeb0-7df5947bf349  tips_show   \n",
       "\n",
       "                     event_time source        date  \n",
       "2171 2019-10-07 13:39:45.989359  other  2019-10-07  \n",
       "2172 2019-10-07 13:40:31.052909  other  2019-10-07  \n",
       "2173 2019-10-07 13:41:05.722489  other  2019-10-07  "
      ]
     },
     "execution_count": 29,
     "metadata": {},
     "output_type": "execute_result"
    }
   ],
   "source": [
    "# Отсортирую датасет и выделю день для сессий\n",
    "\n",
    "sessions['date'] = pd.to_datetime(sessions['event_time']).dt.date\n",
    "sessions_time = sessions.sort_values(['user_id', 'date'])\n",
    "\n",
    "sessions_time.head(3)"
   ]
  },
  {
   "cell_type": "code",
   "execution_count": 30,
   "metadata": {},
   "outputs": [
    {
     "data": {
      "text/html": [
       "<div>\n",
       "<style scoped>\n",
       "    .dataframe tbody tr th:only-of-type {\n",
       "        vertical-align: middle;\n",
       "    }\n",
       "\n",
       "    .dataframe tbody tr th {\n",
       "        vertical-align: top;\n",
       "    }\n",
       "\n",
       "    .dataframe thead th {\n",
       "        text-align: right;\n",
       "    }\n",
       "</style>\n",
       "<table border=\"1\" class=\"dataframe\">\n",
       "  <thead>\n",
       "    <tr style=\"text-align: right;\">\n",
       "      <th></th>\n",
       "      <th>user_id</th>\n",
       "      <th>date</th>\n",
       "      <th>event_name</th>\n",
       "      <th>event_time</th>\n",
       "      <th>event_time</th>\n",
       "      <th>event_name</th>\n",
       "    </tr>\n",
       "  </thead>\n",
       "  <tbody>\n",
       "    <tr>\n",
       "      <th>0</th>\n",
       "      <td>0001b1d5-b74a-4cbf-aeb0-7df5947bf349</td>\n",
       "      <td>2019-10-07</td>\n",
       "      <td>tips_show</td>\n",
       "      <td>2019-10-07 13:39:45.989359</td>\n",
       "      <td>2019-10-07 13:49:41.716617</td>\n",
       "      <td>9</td>\n",
       "    </tr>\n",
       "    <tr>\n",
       "      <th>1</th>\n",
       "      <td>0001b1d5-b74a-4cbf-aeb0-7df5947bf349</td>\n",
       "      <td>2019-10-09</td>\n",
       "      <td>map</td>\n",
       "      <td>2019-10-09 18:33:55.577963</td>\n",
       "      <td>2019-10-09 18:35:28.260975</td>\n",
       "      <td>2</td>\n",
       "    </tr>\n",
       "    <tr>\n",
       "      <th>2</th>\n",
       "      <td>0001b1d5-b74a-4cbf-aeb0-7df5947bf349</td>\n",
       "      <td>2019-10-09</td>\n",
       "      <td>tips_show</td>\n",
       "      <td>2019-10-09 18:40:28.738785</td>\n",
       "      <td>2019-10-09 18:42:22.963948</td>\n",
       "      <td>2</td>\n",
       "    </tr>\n",
       "  </tbody>\n",
       "</table>\n",
       "</div>"
      ],
      "text/plain": [
       "                                user_id        date  event_name  \\\n",
       "0  0001b1d5-b74a-4cbf-aeb0-7df5947bf349  2019-10-07   tips_show   \n",
       "1  0001b1d5-b74a-4cbf-aeb0-7df5947bf349  2019-10-09         map   \n",
       "2  0001b1d5-b74a-4cbf-aeb0-7df5947bf349  2019-10-09   tips_show   \n",
       "\n",
       "                  event_time                 event_time  event_name  \n",
       "0 2019-10-07 13:39:45.989359 2019-10-07 13:49:41.716617           9  \n",
       "1 2019-10-09 18:33:55.577963 2019-10-09 18:35:28.260975           2  \n",
       "2 2019-10-09 18:40:28.738785 2019-10-09 18:42:22.963948           2  "
      ]
     },
     "execution_count": 30,
     "metadata": {},
     "output_type": "execute_result"
    }
   ],
   "source": [
    "# Добавлю столбцы с началом времени в сессии и концом, а также количеством событий в сессии\n",
    "\n",
    "sessions_time = (\n",
    "    sessions_time.groupby(['user_id','date','event_name'])\n",
    "    .agg({'event_time': ['min', 'max'], 'event_name': 'count'})\n",
    "    .reset_index()\n",
    ")\n",
    "\n",
    "sessions_time.columns = sessions_time.columns.droplevel(1)\n",
    "\n",
    "sessions_time.head(3)"
   ]
  },
  {
   "cell_type": "code",
   "execution_count": 31,
   "metadata": {},
   "outputs": [],
   "source": [
    "# Переименую столбцы\n",
    "\n",
    "sessions_time.columns = ['user_id','date', 'event_name', 'time_min','time_max','event_count']"
   ]
  },
  {
   "cell_type": "code",
   "execution_count": 32,
   "metadata": {},
   "outputs": [
    {
     "data": {
      "text/html": [
       "<div>\n",
       "<style scoped>\n",
       "    .dataframe tbody tr th:only-of-type {\n",
       "        vertical-align: middle;\n",
       "    }\n",
       "\n",
       "    .dataframe tbody tr th {\n",
       "        vertical-align: top;\n",
       "    }\n",
       "\n",
       "    .dataframe thead th {\n",
       "        text-align: right;\n",
       "    }\n",
       "</style>\n",
       "<table border=\"1\" class=\"dataframe\">\n",
       "  <thead>\n",
       "    <tr style=\"text-align: right;\">\n",
       "      <th></th>\n",
       "      <th>user_id</th>\n",
       "      <th>date</th>\n",
       "      <th>event_name</th>\n",
       "      <th>time_min</th>\n",
       "      <th>time_max</th>\n",
       "      <th>event_count</th>\n",
       "      <th>time_sessions</th>\n",
       "    </tr>\n",
       "  </thead>\n",
       "  <tbody>\n",
       "    <tr>\n",
       "      <th>0</th>\n",
       "      <td>0001b1d5-b74a-4cbf-aeb0-7df5947bf349</td>\n",
       "      <td>2019-10-07</td>\n",
       "      <td>tips_show</td>\n",
       "      <td>2019-10-07 13:39:45.989359</td>\n",
       "      <td>2019-10-07 13:49:41.716617</td>\n",
       "      <td>9</td>\n",
       "      <td>0 days 00:09:55.727258</td>\n",
       "    </tr>\n",
       "    <tr>\n",
       "      <th>1</th>\n",
       "      <td>0001b1d5-b74a-4cbf-aeb0-7df5947bf349</td>\n",
       "      <td>2019-10-09</td>\n",
       "      <td>map</td>\n",
       "      <td>2019-10-09 18:33:55.577963</td>\n",
       "      <td>2019-10-09 18:35:28.260975</td>\n",
       "      <td>2</td>\n",
       "      <td>0 days 00:01:32.683012</td>\n",
       "    </tr>\n",
       "    <tr>\n",
       "      <th>2</th>\n",
       "      <td>0001b1d5-b74a-4cbf-aeb0-7df5947bf349</td>\n",
       "      <td>2019-10-09</td>\n",
       "      <td>tips_show</td>\n",
       "      <td>2019-10-09 18:40:28.738785</td>\n",
       "      <td>2019-10-09 18:42:22.963948</td>\n",
       "      <td>2</td>\n",
       "      <td>0 days 00:01:54.225163</td>\n",
       "    </tr>\n",
       "  </tbody>\n",
       "</table>\n",
       "</div>"
      ],
      "text/plain": [
       "                                user_id        date event_name  \\\n",
       "0  0001b1d5-b74a-4cbf-aeb0-7df5947bf349  2019-10-07  tips_show   \n",
       "1  0001b1d5-b74a-4cbf-aeb0-7df5947bf349  2019-10-09        map   \n",
       "2  0001b1d5-b74a-4cbf-aeb0-7df5947bf349  2019-10-09  tips_show   \n",
       "\n",
       "                    time_min                   time_max  event_count  \\\n",
       "0 2019-10-07 13:39:45.989359 2019-10-07 13:49:41.716617            9   \n",
       "1 2019-10-09 18:33:55.577963 2019-10-09 18:35:28.260975            2   \n",
       "2 2019-10-09 18:40:28.738785 2019-10-09 18:42:22.963948            2   \n",
       "\n",
       "           time_sessions  \n",
       "0 0 days 00:09:55.727258  \n",
       "1 0 days 00:01:32.683012  \n",
       "2 0 days 00:01:54.225163  "
      ]
     },
     "execution_count": 32,
     "metadata": {},
     "output_type": "execute_result"
    }
   ],
   "source": [
    "# Добавлю столбец со временем за 1 сессию\n",
    "\n",
    "sessions_time['time_sessions'] = sessions_time['time_max']-sessions_time['time_min']\n",
    "\n",
    "sessions_time.head(3)"
   ]
  },
  {
   "cell_type": "code",
   "execution_count": 33,
   "metadata": {},
   "outputs": [
    {
     "data": {
      "text/plain": [
       "Timedelta('0 days 23:37:28.666352')"
      ]
     },
     "execution_count": 33,
     "metadata": {},
     "output_type": "execute_result"
    }
   ],
   "source": [
    "# Проверю самую длинную сессию\n",
    "\n",
    "sessions_time['time_sessions'].max()"
   ]
  },
  {
   "cell_type": "code",
   "execution_count": 34,
   "metadata": {},
   "outputs": [
    {
     "data": {
      "text/plain": [
       "Timedelta('0 days 00:00:00')"
      ]
     },
     "execution_count": 34,
     "metadata": {},
     "output_type": "execute_result"
    }
   ],
   "source": [
    "# Проверю самую короткую сессию\n",
    "\n",
    "sessions_time['time_sessions'].min()"
   ]
  },
  {
   "cell_type": "markdown",
   "metadata": {},
   "source": [
    "Обнаружена нулевая сессия - \"0 days 00:00:00\", посмотрю, сколько таких всего."
   ]
  },
  {
   "cell_type": "code",
   "execution_count": 35,
   "metadata": {},
   "outputs": [
    {
     "data": {
      "text/plain": [
       "4762"
      ]
     },
     "execution_count": 35,
     "metadata": {},
     "output_type": "execute_result"
    }
   ],
   "source": [
    "sessions_null = sessions_time.query('time_sessions==\"0 days 00:00:00\"')\n",
    "sessions_null.shape[0]"
   ]
  },
  {
   "cell_type": "code",
   "execution_count": 36,
   "metadata": {},
   "outputs": [
    {
     "data": {
      "text/plain": [
       "2430"
      ]
     },
     "execution_count": 36,
     "metadata": {},
     "output_type": "execute_result"
    }
   ],
   "source": [
    "# Сколько уникальных пользователей по таким сессиям\n",
    "\n",
    "sessions_null['user_id'].nunique()"
   ]
  },
  {
   "cell_type": "markdown",
   "metadata": {},
   "source": [
    "Посмотрю, как нулевые сессии распределены по событиям."
   ]
  },
  {
   "cell_type": "code",
   "execution_count": 37,
   "metadata": {},
   "outputs": [
    {
     "data": {
      "text/html": [
       "<div>\n",
       "<style scoped>\n",
       "    .dataframe tbody tr th:only-of-type {\n",
       "        vertical-align: middle;\n",
       "    }\n",
       "\n",
       "    .dataframe tbody tr th {\n",
       "        vertical-align: top;\n",
       "    }\n",
       "\n",
       "    .dataframe thead th {\n",
       "        text-align: right;\n",
       "    }\n",
       "</style>\n",
       "<table border=\"1\" class=\"dataframe\">\n",
       "  <thead>\n",
       "    <tr style=\"text-align: right;\">\n",
       "      <th></th>\n",
       "      <th>event_name</th>\n",
       "      <th>event_count</th>\n",
       "    </tr>\n",
       "  </thead>\n",
       "  <tbody>\n",
       "    <tr>\n",
       "      <th>4</th>\n",
       "      <td>map</td>\n",
       "      <td>1162</td>\n",
       "    </tr>\n",
       "    <tr>\n",
       "      <th>6</th>\n",
       "      <td>search</td>\n",
       "      <td>825</td>\n",
       "    </tr>\n",
       "    <tr>\n",
       "      <th>8</th>\n",
       "      <td>tips_show</td>\n",
       "      <td>692</td>\n",
       "    </tr>\n",
       "    <tr>\n",
       "      <th>2</th>\n",
       "      <td>contacts_show</td>\n",
       "      <td>688</td>\n",
       "    </tr>\n",
       "    <tr>\n",
       "      <th>5</th>\n",
       "      <td>photos_show</td>\n",
       "      <td>527</td>\n",
       "    </tr>\n",
       "    <tr>\n",
       "      <th>0</th>\n",
       "      <td>advert_open</td>\n",
       "      <td>272</td>\n",
       "    </tr>\n",
       "    <tr>\n",
       "      <th>3</th>\n",
       "      <td>favorites_add</td>\n",
       "      <td>241</td>\n",
       "    </tr>\n",
       "    <tr>\n",
       "      <th>7</th>\n",
       "      <td>tips_click</td>\n",
       "      <td>207</td>\n",
       "    </tr>\n",
       "    <tr>\n",
       "      <th>1</th>\n",
       "      <td>contacts_call</td>\n",
       "      <td>148</td>\n",
       "    </tr>\n",
       "  </tbody>\n",
       "</table>\n",
       "</div>"
      ],
      "text/plain": [
       "      event_name  event_count\n",
       "4            map         1162\n",
       "6         search          825\n",
       "8      tips_show          692\n",
       "2  contacts_show          688\n",
       "5    photos_show          527\n",
       "0    advert_open          272\n",
       "3  favorites_add          241\n",
       "7     tips_click          207\n",
       "1  contacts_call          148"
      ]
     },
     "execution_count": 37,
     "metadata": {},
     "output_type": "execute_result"
    }
   ],
   "source": [
    "sessions_null_event = (\n",
    "    sessions_null.groupby('event_name')['event_count'].sum()\n",
    "    .reset_index().\n",
    "    sort_values(by='event_count', ascending=False)\n",
    ")\n",
    "sessions_null_event"
   ]
  },
  {
   "cell_type": "code",
   "execution_count": 38,
   "metadata": {},
   "outputs": [
    {
     "data": {
      "image/png": "[encoded data removed]"
     },
     "metadata": {},
     "output_type": "display_data"
    }
   ],
   "source": [
    "# строю столбчатую диаграмму \n",
    "\n",
    "fig = px.bar(sessions_null_event.sort_values(by='event_count', ascending=True), # загружаю данные и заново их сортирую\n",
    "             x='event_count', # столбец с данными для оси X\n",
    "             y='event_name', # столбец с данными для оси Y\n",
    "             text='event_count', # добавляю аргумент, который отобразит текст с информацией\n",
    "             color='event_count',\n",
    "             color_discrete_sequence=[\n",
    "                 px.colors.qualitative.T10[3],\n",
    "                 px.colors.qualitative.Alphabet[11], \n",
    "               px.colors.qualitative.Set3[11],\n",
    "               px.colors.qualitative.Plotly[2],\n",
    "                 px.colors.qualitative.Plotly[7],\n",
    "                 px.colors.qualitative.Set2[0],\n",
    "                 px.colors.qualitative.Set2[3],\n",
    "                 px.colors.qualitative.Alphabet[15]]                   \n",
    "            )\n",
    "\n",
    "fig.update_layout(title='Количество событий, отображаемых в нулевых сессиях',\n",
    "                  showlegend=False,\n",
    "                  xaxis_title='Количество событий',\n",
    "                  yaxis_title='Событие')\n",
    "fig.show(\"png\")"
   ]
  },
  {
   "cell_type": "code",
   "execution_count": 39,
   "metadata": {},
   "outputs": [
    {
     "data": {
      "text/html": [
       "<div>\n",
       "<style scoped>\n",
       "    .dataframe tbody tr th:only-of-type {\n",
       "        vertical-align: middle;\n",
       "    }\n",
       "\n",
       "    .dataframe tbody tr th {\n",
       "        vertical-align: top;\n",
       "    }\n",
       "\n",
       "    .dataframe thead th {\n",
       "        text-align: right;\n",
       "    }\n",
       "</style>\n",
       "<table border=\"1\" class=\"dataframe\">\n",
       "  <thead>\n",
       "    <tr style=\"text-align: right;\">\n",
       "      <th></th>\n",
       "      <th>user_id</th>\n",
       "      <th>event_count</th>\n",
       "    </tr>\n",
       "  </thead>\n",
       "  <tbody>\n",
       "    <tr>\n",
       "      <th>1214</th>\n",
       "      <td>80a9887a-d45f-44a2-9473-1446f68b9c16</td>\n",
       "      <td>1</td>\n",
       "    </tr>\n",
       "    <tr>\n",
       "      <th>1017</th>\n",
       "      <td>6aed2242-353e-4527-a27b-ab235832003d</td>\n",
       "      <td>1</td>\n",
       "    </tr>\n",
       "    <tr>\n",
       "      <th>1016</th>\n",
       "      <td>6a9c836b-5381-4669-9570-a1b8152aaef1</td>\n",
       "      <td>1</td>\n",
       "    </tr>\n",
       "  </tbody>\n",
       "</table>\n",
       "</div>"
      ],
      "text/plain": [
       "                                   user_id  event_count\n",
       "1214  80a9887a-d45f-44a2-9473-1446f68b9c16            1\n",
       "1017  6aed2242-353e-4527-a27b-ab235832003d            1\n",
       "1016  6a9c836b-5381-4669-9570-a1b8152aaef1            1"
      ]
     },
     "execution_count": 39,
     "metadata": {},
     "output_type": "execute_result"
    }
   ],
   "source": [
    "# Посмотрю по количеству пользователей\n",
    "\n",
    "sessions_null_event = (\n",
    "    sessions_null.groupby('user_id')['event_count'].sum()\n",
    "    .reset_index().\n",
    "    sort_values(by='event_count', ascending=True)\n",
    ")\n",
    "sessions_null_event.head(3)"
   ]
  },
  {
   "cell_type": "code",
   "execution_count": 40,
   "metadata": {},
   "outputs": [
    {
     "data": {
      "text/html": [
       "<div>\n",
       "<style scoped>\n",
       "    .dataframe tbody tr th:only-of-type {\n",
       "        vertical-align: middle;\n",
       "    }\n",
       "\n",
       "    .dataframe tbody tr th {\n",
       "        vertical-align: top;\n",
       "    }\n",
       "\n",
       "    .dataframe thead th {\n",
       "        text-align: right;\n",
       "    }\n",
       "</style>\n",
       "<table border=\"1\" class=\"dataframe\">\n",
       "  <thead>\n",
       "    <tr style=\"text-align: right;\">\n",
       "      <th></th>\n",
       "      <th>event_count</th>\n",
       "      <th>user_id</th>\n",
       "    </tr>\n",
       "  </thead>\n",
       "  <tbody>\n",
       "    <tr>\n",
       "      <th>18</th>\n",
       "      <td>23</td>\n",
       "      <td>1</td>\n",
       "    </tr>\n",
       "    <tr>\n",
       "      <th>17</th>\n",
       "      <td>22</td>\n",
       "      <td>1</td>\n",
       "    </tr>\n",
       "    <tr>\n",
       "      <th>16</th>\n",
       "      <td>19</td>\n",
       "      <td>3</td>\n",
       "    </tr>\n",
       "    <tr>\n",
       "      <th>15</th>\n",
       "      <td>18</td>\n",
       "      <td>1</td>\n",
       "    </tr>\n",
       "    <tr>\n",
       "      <th>14</th>\n",
       "      <td>17</td>\n",
       "      <td>1</td>\n",
       "    </tr>\n",
       "  </tbody>\n",
       "</table>\n",
       "</div>"
      ],
      "text/plain": [
       "    event_count  user_id\n",
       "18           23        1\n",
       "17           22        1\n",
       "16           19        3\n",
       "15           18        1\n",
       "14           17        1"
      ]
     },
     "execution_count": 40,
     "metadata": {},
     "output_type": "execute_result"
    }
   ],
   "source": [
    "sessions_null_event = (\n",
    "    sessions_null_event.groupby('event_count')['user_id'].count()\n",
    "    .reset_index()\n",
    "    .sort_values(by='event_count', ascending=False)\n",
    ")\n",
    "sessions_null_event.head()"
   ]
  },
  {
   "cell_type": "code",
   "execution_count": 41,
   "metadata": {},
   "outputs": [
    {
     "data": {
      "image/png": "[encoded data removed]"
     },
     "metadata": {},
     "output_type": "display_data"
    }
   ],
   "source": [
    "# Количество нулевых сессий на пользователя\n",
    "\n",
    "fig = go.Figure()\n",
    "fig.add_trace(go.Scatter(\n",
    "    x=sessions_null_event['event_count'], \n",
    "    y=sessions_null_event['user_id'],\n",
    "    mode='lines+markers',\n",
    "    marker=dict(color=sessions_null_event['event_count'], colorbar=dict(title=\"event_count\"), colorscale='turbo')\n",
    "))\n",
    "\n",
    "fig.update_layout(title=\"Количество нулевых сессий на пользователя\",\n",
    "                  xaxis_title=\"Количество нулевых сессий\",\n",
    "                  yaxis_title=\"Количество пользователей\",\n",
    "                  width=980,\n",
    "                  height=500\n",
    "                 )\n",
    "fig.show(\"png\")"
   ]
  },
  {
   "cell_type": "code",
   "execution_count": 42,
   "metadata": {},
   "outputs": [
    {
     "data": {
      "image/png": "[encoded data removed]"
     },
     "metadata": {},
     "output_type": "display_data"
    }
   ],
   "source": [
    "# Построю box\n",
    "\n",
    "fig = go.Figure(data=[go.Box(y=sessions_null_event['event_count'],\n",
    "            boxpoints='all',\n",
    "            marker_color = '#3D9970',\n",
    "            name='Количество нулевых сессий',\n",
    "            jitter=0.3, \n",
    "            pointpos=-1.8 \n",
    "              )])\n",
    "fig.update_layout(title=\"Количество нулевых сессий по количеству пользователей\")\n",
    "fig.show(\"png\")"
   ]
  },
  {
   "cell_type": "markdown",
   "metadata": {},
   "source": [
    "Что это за нулевые сессии не понятно. Техническая ошибка? Нужно передать информацию тем, кто собирает данные."
   ]
  },
  {
   "cell_type": "code",
   "execution_count": 43,
   "metadata": {},
   "outputs": [
    {
     "data": {
      "text/plain": [
       "4293"
      ]
     },
     "execution_count": 43,
     "metadata": {},
     "output_type": "execute_result"
    }
   ],
   "source": [
    "# Сколько всего уникальных пользователей в сессиях\n",
    "\n",
    "sessions_time['user_id'].nunique()"
   ]
  },
  {
   "cell_type": "code",
   "execution_count": 44,
   "metadata": {},
   "outputs": [
    {
     "data": {
      "text/html": [
       "<div>\n",
       "<style scoped>\n",
       "    .dataframe tbody tr th:only-of-type {\n",
       "        vertical-align: middle;\n",
       "    }\n",
       "\n",
       "    .dataframe tbody tr th {\n",
       "        vertical-align: top;\n",
       "    }\n",
       "\n",
       "    .dataframe thead th {\n",
       "        text-align: right;\n",
       "    }\n",
       "</style>\n",
       "<table border=\"1\" class=\"dataframe\">\n",
       "  <thead>\n",
       "    <tr style=\"text-align: right;\">\n",
       "      <th></th>\n",
       "      <th>user_id</th>\n",
       "      <th>time_sessions</th>\n",
       "    </tr>\n",
       "  </thead>\n",
       "  <tbody>\n",
       "    <tr>\n",
       "      <th>3794</th>\n",
       "      <td>e13f9f32-7ae3-4204-8d60-898db040bcfc</td>\n",
       "      <td>10 days 21:59:31.143064</td>\n",
       "    </tr>\n",
       "    <tr>\n",
       "      <th>401</th>\n",
       "      <td>1580911b-65db-4f1a-be7e-1ca39becac30</td>\n",
       "      <td>9 days 00:10:08.945077</td>\n",
       "    </tr>\n",
       "    <tr>\n",
       "      <th>615</th>\n",
       "      <td>21230dd9-2f7f-4b77-a436-43d4d10388e0</td>\n",
       "      <td>8 days 07:38:55.326546</td>\n",
       "    </tr>\n",
       "    <tr>\n",
       "      <th>1161</th>\n",
       "      <td>43b5c2b3-b1da-4ed4-88c0-404de977ef41</td>\n",
       "      <td>6 days 20:17:19.701824</td>\n",
       "    </tr>\n",
       "    <tr>\n",
       "      <th>235</th>\n",
       "      <td>0d9e5bb7-0ad6-4b62-a118-b1e4f5b31dfa</td>\n",
       "      <td>6 days 08:28:10.691531</td>\n",
       "    </tr>\n",
       "  </tbody>\n",
       "</table>\n",
       "</div>"
      ],
      "text/plain": [
       "                                   user_id           time_sessions\n",
       "3794  e13f9f32-7ae3-4204-8d60-898db040bcfc 10 days 21:59:31.143064\n",
       "401   1580911b-65db-4f1a-be7e-1ca39becac30  9 days 00:10:08.945077\n",
       "615   21230dd9-2f7f-4b77-a436-43d4d10388e0  8 days 07:38:55.326546\n",
       "1161  43b5c2b3-b1da-4ed4-88c0-404de977ef41  6 days 20:17:19.701824\n",
       "235   0d9e5bb7-0ad6-4b62-a118-b1e4f5b31dfa  6 days 08:28:10.691531"
      ]
     },
     "execution_count": 44,
     "metadata": {},
     "output_type": "execute_result"
    }
   ],
   "source": [
    "# Посмотрю общую сумму времени, которую пользователи провели в приложении\n",
    "\n",
    "sessions_time_sum = (\n",
    "    sessions_time.groupby('user_id')['time_sessions'].sum()\n",
    "    .reset_index()\n",
    "    .sort_values(by='time_sessions', ascending = False)\n",
    ")\n",
    "sessions_time_sum.head()"
   ]
  },
  {
   "cell_type": "code",
   "execution_count": 45,
   "metadata": {},
   "outputs": [],
   "source": [
    "# Уберу сумму сессий, которая менее 1 минуты\n",
    "\n",
    "sessions_time_sum = sessions_time_sum.query('time_sessions >= \"0 days 00:01:00\"')"
   ]
  },
  {
   "cell_type": "code",
   "execution_count": 46,
   "metadata": {},
   "outputs": [
    {
     "data": {
      "text/plain": [
       "3930"
      ]
     },
     "execution_count": 46,
     "metadata": {},
     "output_type": "execute_result"
    }
   ],
   "source": [
    "# Посмотрю, сколько уникальных пользователей останется\n",
    "\n",
    "sessions_time_sum['user_id'].nunique()"
   ]
  },
  {
   "cell_type": "code",
   "execution_count": 47,
   "metadata": {},
   "outputs": [
    {
     "data": {
      "text/plain": [
       "363"
      ]
     },
     "execution_count": 47,
     "metadata": {},
     "output_type": "execute_result"
    }
   ],
   "source": [
    "(sessions_time['user_id'].nunique()) - (sessions_time_sum['user_id'].nunique())"
   ]
  },
  {
   "cell_type": "markdown",
   "metadata": {},
   "source": [
    "Получается, что 363 пользователя по факту и не пользовались приложением в исследуемом периоде. За 1 минуту вряд ли можно найти нужную вещь. Разместить объявление за минуту тоже вряд ли. На самом деле таких пользователей может быть гораздо больше, ведь нет информации, сколько минимум времени необходимо, чтобы разместить объявление или найти нужную вещь."
   ]
  },
  {
   "cell_type": "markdown",
   "metadata": {},
   "source": [
    "**Вывод**\n",
    "\n",
    "В исследуемых данных обнаружено 4762 строки с событиями, которые, якобы произошли за нулевое время. Откуда возникли такие данные неизвестно. Большинство таких нулевых событий - это открытие карты объявлений (1162 события).\n",
    "\n",
    "У 1368 пользователей есть одно такое событие. А у одного пользователя их 23 штуки.\n",
    "\n",
    "Еще у 363 уникальных пользователей сумма времени, проведенном в приложении менее 1 минуты."
   ]
  },
  {
   "cell_type": "markdown",
   "metadata": {},
   "source": [
    "### Частота действий пользователей"
   ]
  },
  {
   "cell_type": "code",
   "execution_count": 48,
   "metadata": {},
   "outputs": [
    {
     "data": {
      "text/html": [
       "<div>\n",
       "<style scoped>\n",
       "    .dataframe tbody tr th:only-of-type {\n",
       "        vertical-align: middle;\n",
       "    }\n",
       "\n",
       "    .dataframe tbody tr th {\n",
       "        vertical-align: top;\n",
       "    }\n",
       "\n",
       "    .dataframe thead th {\n",
       "        text-align: right;\n",
       "    }\n",
       "</style>\n",
       "<table border=\"1\" class=\"dataframe\">\n",
       "  <thead>\n",
       "    <tr style=\"text-align: right;\">\n",
       "      <th></th>\n",
       "      <th>event</th>\n",
       "      <th>user_id</th>\n",
       "    </tr>\n",
       "  </thead>\n",
       "  <tbody>\n",
       "    <tr>\n",
       "      <th>7</th>\n",
       "      <td>Просмотр рекомендованных объявлений</td>\n",
       "      <td>40055</td>\n",
       "    </tr>\n",
       "    <tr>\n",
       "      <th>8</th>\n",
       "      <td>Просмотр фотографий в объявлении</td>\n",
       "      <td>10012</td>\n",
       "    </tr>\n",
       "    <tr>\n",
       "      <th>4</th>\n",
       "      <td>Поиск по сайту</td>\n",
       "      <td>6784</td>\n",
       "    </tr>\n",
       "    <tr>\n",
       "      <th>3</th>\n",
       "      <td>Открыть объявление</td>\n",
       "      <td>6164</td>\n",
       "    </tr>\n",
       "    <tr>\n",
       "      <th>5</th>\n",
       "      <td>Посмотреть номер телефона</td>\n",
       "      <td>4529</td>\n",
       "    </tr>\n",
       "    <tr>\n",
       "      <th>6</th>\n",
       "      <td>Просмотр карты объявлений</td>\n",
       "      <td>3881</td>\n",
       "    </tr>\n",
       "    <tr>\n",
       "      <th>0</th>\n",
       "      <td>Добавление в избранное</td>\n",
       "      <td>1417</td>\n",
       "    </tr>\n",
       "    <tr>\n",
       "      <th>2</th>\n",
       "      <td>Клик по рекомендованному объявлению</td>\n",
       "      <td>814</td>\n",
       "    </tr>\n",
       "    <tr>\n",
       "      <th>1</th>\n",
       "      <td>Звонок по номеру телефона</td>\n",
       "      <td>541</td>\n",
       "    </tr>\n",
       "  </tbody>\n",
       "</table>\n",
       "</div>"
      ],
      "text/plain": [
       "                                 event  user_id\n",
       "7  Просмотр рекомендованных объявлений    40055\n",
       "8     Просмотр фотографий в объявлении    10012\n",
       "4                       Поиск по сайту     6784\n",
       "3                   Открыть объявление     6164\n",
       "5            Посмотреть номер телефона     4529\n",
       "6            Просмотр карты объявлений     3881\n",
       "0               Добавление в избранное     1417\n",
       "2  Клик по рекомендованному объявлению      814\n",
       "1            Звонок по номеру телефона      541"
      ]
     },
     "execution_count": 48,
     "metadata": {},
     "output_type": "execute_result"
    }
   ],
   "source": [
    "# Добавлю новый столбец\n",
    "\n",
    "sessions['event'] = sessions['event_name']\n",
    "sessions = sessions.replace({'event':{\n",
    "    'advert_open':'Открыть объявление',\n",
    "    'tips_show':'Просмотр рекомендованных объявлений',\n",
    "    'map':'Просмотр карты объявлений',\n",
    "    'contacts_show':'Посмотреть номер телефона',\n",
    "    'tips_click':'Клик по рекомендованному объявлению',\n",
    "    'photos_show':'Просмотр фотографий в объявлении',\n",
    "    'favorites_add':'Добавление в избранное',\n",
    "    'contacts_call':'Звонок по номеру телефона',\n",
    "    'search':'Поиск по сайту'\n",
    "}})\n",
    "\n",
    "actions = sessions.groupby('event')['user_id'].count().reset_index()\n",
    "\n",
    "\n",
    "actions = actions.sort_values(by='user_id', ascending=False)\n",
    "actions"
   ]
  },
  {
   "cell_type": "code",
   "execution_count": 49,
   "metadata": {},
   "outputs": [
    {
     "data": {
      "image/png": "[encoded data removed]"
     },
     "metadata": {},
     "output_type": "display_data"
    }
   ],
   "source": [
    "# строю столбчатую диаграмму \n",
    "\n",
    "fig = px.bar(actions.sort_values(by='user_id', ascending=False), # загружаю данные и заново их сортирую\n",
    "             x='user_id', # столбец с данными для оси X\n",
    "             y='event', # столбец с данными для оси Y\n",
    "             text='user_id', # добавляю аргумент, который отобразит текст с информацией\n",
    "             color='event',\n",
    "             color_discrete_sequence=[\n",
    "                 px.colors.qualitative.T10[3],\n",
    "                 px.colors.qualitative.Alphabet[11], \n",
    "               px.colors.qualitative.Set3[11],\n",
    "               px.colors.qualitative.Plotly[2],\n",
    "                 px.colors.qualitative.Plotly[7],\n",
    "                 px.colors.qualitative.Set2[0],\n",
    "                 px.colors.qualitative.Set2[3],\n",
    "                 px.colors.qualitative.Alphabet[15]]                   \n",
    "            )\n",
    "\n",
    "fig.update_layout(title='Количество событий, совершенное пользователями',\n",
    "                  showlegend=False,\n",
    "                  xaxis_title='Количество действий',\n",
    "                  yaxis_title='Событие')\n",
    "fig.show(\"png\")"
   ]
  },
  {
   "cell_type": "code",
   "execution_count": 50,
   "metadata": {},
   "outputs": [],
   "source": [
    "# Посмотрю активность пользователей по событиям по дням недели\n",
    "\n",
    "week_event = sessions\n",
    "\n",
    "week_event['weekday'] = week_event['event_time'].dt.weekday"
   ]
  },
  {
   "cell_type": "code",
   "execution_count": 51,
   "metadata": {},
   "outputs": [
    {
     "data": {
      "text/html": [
       "<div>\n",
       "<style scoped>\n",
       "    .dataframe tbody tr th:only-of-type {\n",
       "        vertical-align: middle;\n",
       "    }\n",
       "\n",
       "    .dataframe tbody tr th {\n",
       "        vertical-align: top;\n",
       "    }\n",
       "\n",
       "    .dataframe thead th {\n",
       "        text-align: right;\n",
       "    }\n",
       "</style>\n",
       "<table border=\"1\" class=\"dataframe\">\n",
       "  <thead>\n",
       "    <tr style=\"text-align: right;\">\n",
       "      <th></th>\n",
       "      <th>weekday</th>\n",
       "      <th>event_name</th>\n",
       "      <th>user_id</th>\n",
       "    </tr>\n",
       "  </thead>\n",
       "  <tbody>\n",
       "    <tr>\n",
       "      <th>37</th>\n",
       "      <td>4</td>\n",
       "      <td>contacts_call</td>\n",
       "      <td>53</td>\n",
       "    </tr>\n",
       "    <tr>\n",
       "      <th>46</th>\n",
       "      <td>5</td>\n",
       "      <td>contacts_call</td>\n",
       "      <td>67</td>\n",
       "    </tr>\n",
       "    <tr>\n",
       "      <th>55</th>\n",
       "      <td>6</td>\n",
       "      <td>contacts_call</td>\n",
       "      <td>70</td>\n",
       "    </tr>\n",
       "  </tbody>\n",
       "</table>\n",
       "</div>"
      ],
      "text/plain": [
       "    weekday     event_name  user_id\n",
       "37        4  contacts_call       53\n",
       "46        5  contacts_call       67\n",
       "55        6  contacts_call       70"
      ]
     },
     "execution_count": 51,
     "metadata": {},
     "output_type": "execute_result"
    }
   ],
   "source": [
    "week_event = week_event.groupby(['weekday', 'event_name'])['user_id'].count().reset_index().sort_values(by='user_id')\n",
    "week_event.head(3)"
   ]
  },
  {
   "cell_type": "code",
   "execution_count": 52,
   "metadata": {},
   "outputs": [
    {
     "data": {
      "image/png": "[encoded data removed]"
     },
     "metadata": {},
     "output_type": "display_data"
    }
   ],
   "source": [
    "fig = px.bar(\n",
    "    week_event,\n",
    "    x='weekday',\n",
    "    y='user_id', \n",
    "    width=980, \n",
    "    height=600, \n",
    "    color='event_name',\n",
    "    text='user_id'\n",
    ")\n",
    "\n",
    "fig.update_xaxes(tickangle=30)\n",
    "fig.update_layout(\n",
    "    title='Распределение событий по дням недели',\n",
    "    xaxis_title='День недели',\n",
    "    yaxis_title='Количество пользователей',\n",
    "    barmode='stack'\n",
    ")\n",
    "\n",
    "fig.show(\"png\")"
   ]
  },
  {
   "cell_type": "markdown",
   "metadata": {},
   "source": [
    "**Вывод**\n",
    "\n",
    "Самое большое количество действий у события 'Просмотр рекомендованных объявлений'. Вероятно, это главная страница приложения, с которой все и начинается. 10012 просмотров фотографий в объявлении, 6784 поисков по сайту и 6164 открытых объявлений.\n",
    "\n",
    "Меньше всего совершено звонков по номеру телефона.\n",
    "\n",
    "Больше всего пользователи активны в понедельник и менее всего в субботу. А вот целевое действие 'Просмотр номера телефона' пользователи чаще всего совершают в четверг."
   ]
  },
  {
   "cell_type": "markdown",
   "metadata": {},
   "source": [
    "### Конверсия в целевое действие — просмотр контактов"
   ]
  },
  {
   "cell_type": "code",
   "execution_count": 53,
   "metadata": {},
   "outputs": [
    {
     "data": {
      "text/plain": [
       "4293"
      ]
     },
     "execution_count": 53,
     "metadata": {},
     "output_type": "execute_result"
    }
   ],
   "source": [
    "sessions['user_id'].nunique()"
   ]
  },
  {
   "cell_type": "code",
   "execution_count": 54,
   "metadata": {},
   "outputs": [
    {
     "data": {
      "text/plain": [
       "981"
      ]
     },
     "execution_count": 54,
     "metadata": {},
     "output_type": "execute_result"
    }
   ],
   "source": [
    "# Сделаю срез по событию\n",
    "\n",
    "conversion = sessions.query('event==\"Посмотреть номер телефона\"')\n",
    "conversion['user_id'].nunique()"
   ]
  },
  {
   "cell_type": "code",
   "execution_count": 55,
   "metadata": {},
   "outputs": [
    {
     "data": {
      "text/plain": [
       "'Конверсия уникальных пользователей по событию \"Посмотреть номер телефона\":'"
      ]
     },
     "metadata": {},
     "output_type": "display_data"
    },
    {
     "data": {
      "text/plain": [
       "22.85"
      ]
     },
     "metadata": {},
     "output_type": "display_data"
    }
   ],
   "source": [
    "a = round((conversion['user_id'].nunique()/sessions['user_id'].nunique()*100),2)\n",
    "display('Конверсия уникальных пользователей по событию \"Посмотреть номер телефона\":', a)"
   ]
  },
  {
   "cell_type": "markdown",
   "metadata": {},
   "source": [
    "Теперь посчитаю в разрезе количества событий.\n",
    "\n",
    "Основное целевое действие, это - просмотр номера телефона (4529 действий). Не все пользователи предпочитают звонить из приложения и звонить прямо сейчас. Многим удобнее записать номер и позвонить не через приложение в удобное для себя время.\n",
    "\n",
    "Все события не последовательны, в конверсию 'просмотр контактов' можно перейти из нескольких событий.\n",
    "\n",
    "Я сформирую явную последовательность:\n",
    "- 'Просмотр рекомендованных объявлений' - это явно первая страница, с которой начинаются действия пользователей.\n",
    "- 'Открыть объявление' - чтобы увидеть нужный номер, без открытия объявления никак не обойтись\n",
    "- 'Посмотреть номер телефона' - само целевое действие"
   ]
  },
  {
   "cell_type": "code",
   "execution_count": 56,
   "metadata": {},
   "outputs": [],
   "source": [
    "# Подготовлю таблицу\n",
    "\n",
    "sessions_new = sessions.loc[((sessions['event'] == 'Просмотр рекомендованных объявлений') |\n",
    "    (sessions['event'] == 'Открыть объявление') |\n",
    "    (sessions['event'] == 'Посмотреть номер телефона'))\n",
    "]\n",
    "sessions_new = sessions_new.groupby('event').agg({'user_id':'nunique'}).reset_index().sort_values(by='user_id', ascending=False)"
   ]
  },
  {
   "cell_type": "code",
   "execution_count": 57,
   "metadata": {},
   "outputs": [
    {
     "data": {
      "image/png": "[encoded data removed]"
     },
     "metadata": {},
     "output_type": "display_data"
    }
   ],
   "source": [
    "# Построю воронку событий\n",
    "\n",
    "fig = go.Figure(go.Funnel(\n",
    "    y = [\"Просмотр рекомендованных объявлений\", \"Открыть объявление\", \"Посмотреть номер телефона\"],\n",
    "    x = sessions_new['user_id'],\n",
    "    textposition = \"inside\",\n",
    "    textinfo = \"value+percent initial\",\n",
    "    opacity = 0.65, marker = {\"color\": [\"#AB63FA\", \"#FF6692\", \"#00CC96\"],\n",
    "    \"line\": {\"width\": [3, 2, 2], \"color\": [\"yellowgreen\", \"yellowgreen\", \"yellowgreen\"]}},\n",
    "    connector = {\"line\": {\"color\": \"violet\", \"dash\": \"solid\", \"width\": 3}})\n",
    "    )\n",
    "fig.update_layout(title='Доля пользователей, доходящая от первого события до просмотра номера телефона', width=900, height=550)\n",
    "fig.show(\"png\")"
   ]
  },
  {
   "cell_type": "markdown",
   "metadata": {},
   "source": [
    "**Вывод**\n",
    "\n",
    "Конверсия всех уникальных пользователей в событие 'Просмотр контактов' составляет 22.85%.\n",
    "\n",
    "\n",
    "Все события не последовательны, в конверсию 'Просмотр контактов' можно перейти из нескольких событий.\n",
    "\n",
    "\n",
    "Я сформировала явную последовательность:\n",
    "\n",
    "- 'Просмотр рекомендованных объявлений' - это явно первая страница, с которой начинаются действия пользователей.\n",
    "- 'Открыть объявление' - чтобы увидеть нужный номер, без открытия объявления никак не обойтись\n",
    "- 'Посмотреть номер телефона' - само целевое действие\n",
    "\n",
    "Основная потеря в данной воронке событий проходит от момента просмотра рекомендованных объявлений до открытия нужного объявления (конверсия 35%). Необходимо проверить алгоритм показа рекомендованных объявлений. Возможно есть способы настроить его лучше и тем самым увеличить конверсию пользователей в целевое событие 'Просмотр контактов'. Конверсия из события 'Открыть объявление' в событие 'Просмотр контактов' составляет 27%."
   ]
  },
  {
   "cell_type": "markdown",
   "metadata": {},
   "source": [
    "## Сегментация пользователей на основе их действий"
   ]
  },
  {
   "cell_type": "markdown",
   "metadata": {},
   "source": [
    "Необходимо произвести сегментацию пользователей.\n",
    "\n",
    "Цель данной сегментации в том, чтобы выявить группы, у которых меньше конверсия, а так же, которые хуже удерживаются.\n",
    "\n",
    "Я хочу провести сегментацию пользователей по времени суток, когда они пользуются приложением. \n",
    "\n",
    "Сегментировав пользователей по времени суток, можно будет воздействовать прицельно на группы и их пользовательскую активность, что в свою очередь может позволить увеличить конверсию и удержание пользователей.\n",
    "\n",
    "Разделю на 4 группы:\n",
    "- ночные - с 0 часов до 6 утра\n",
    "- утренние - с 6 часов утра до 12 дня\n",
    "- дневные - с 12 до 18 часов\n",
    "- вечерние с 18 до 24"
   ]
  },
  {
   "cell_type": "markdown",
   "metadata": {},
   "source": [
    "### Сегментация пользователей по времени, проведенном в приложении"
   ]
  },
  {
   "cell_type": "markdown",
   "metadata": {},
   "source": [
    "В ранее созданные профили пользователей добавлю столбец с часом суток, из столбца с первым заходом в приложение. Затем создам столбец с группой."
   ]
  },
  {
   "cell_type": "code",
   "execution_count": 58,
   "metadata": {},
   "outputs": [
    {
     "data": {
      "text/html": [
       "<div>\n",
       "<style scoped>\n",
       "    .dataframe tbody tr th:only-of-type {\n",
       "        vertical-align: middle;\n",
       "    }\n",
       "\n",
       "    .dataframe tbody tr th {\n",
       "        vertical-align: top;\n",
       "    }\n",
       "\n",
       "    .dataframe thead th {\n",
       "        text-align: right;\n",
       "    }\n",
       "</style>\n",
       "<table border=\"1\" class=\"dataframe\">\n",
       "  <thead>\n",
       "    <tr style=\"text-align: right;\">\n",
       "      <th></th>\n",
       "      <th>user_id</th>\n",
       "      <th>first_ts</th>\n",
       "      <th>source</th>\n",
       "      <th>dt</th>\n",
       "      <th>month</th>\n",
       "      <th>week</th>\n",
       "      <th>hour</th>\n",
       "      <th>group</th>\n",
       "    </tr>\n",
       "  </thead>\n",
       "  <tbody>\n",
       "    <tr>\n",
       "      <th>0</th>\n",
       "      <td>0001b1d5-b74a-4cbf-aeb0-7df5947bf349</td>\n",
       "      <td>2019-10-07 13:39:45.989359</td>\n",
       "      <td>other</td>\n",
       "      <td>2019-10-07</td>\n",
       "      <td>2019-10-01</td>\n",
       "      <td>41</td>\n",
       "      <td>13</td>\n",
       "      <td>День</td>\n",
       "    </tr>\n",
       "    <tr>\n",
       "      <th>1</th>\n",
       "      <td>00157779-810c-4498-9e05-a1e9e3cedf93</td>\n",
       "      <td>2019-10-19 21:34:33.849769</td>\n",
       "      <td>yandex</td>\n",
       "      <td>2019-10-19</td>\n",
       "      <td>2019-10-01</td>\n",
       "      <td>42</td>\n",
       "      <td>21</td>\n",
       "      <td>Вечер</td>\n",
       "    </tr>\n",
       "    <tr>\n",
       "      <th>2</th>\n",
       "      <td>00463033-5717-4bf1-91b4-09183923b9df</td>\n",
       "      <td>2019-11-01 13:54:35.385028</td>\n",
       "      <td>yandex</td>\n",
       "      <td>2019-11-01</td>\n",
       "      <td>2019-11-01</td>\n",
       "      <td>44</td>\n",
       "      <td>13</td>\n",
       "      <td>День</td>\n",
       "    </tr>\n",
       "  </tbody>\n",
       "</table>\n",
       "</div>"
      ],
      "text/plain": [
       "                                user_id                   first_ts  source  \\\n",
       "0  0001b1d5-b74a-4cbf-aeb0-7df5947bf349 2019-10-07 13:39:45.989359   other   \n",
       "1  00157779-810c-4498-9e05-a1e9e3cedf93 2019-10-19 21:34:33.849769  yandex   \n",
       "2  00463033-5717-4bf1-91b4-09183923b9df 2019-11-01 13:54:35.385028  yandex   \n",
       "\n",
       "           dt      month  week  hour  group  \n",
       "0  2019-10-07 2019-10-01    41    13   День  \n",
       "1  2019-10-19 2019-10-01    42    21  Вечер  \n",
       "2  2019-11-01 2019-11-01    44    13   День  "
      ]
     },
     "execution_count": 58,
     "metadata": {},
     "output_type": "execute_result"
    }
   ],
   "source": [
    "profiles['hour'] = profiles['first_ts'].dt.hour\n",
    "\n",
    "# Добавлю новый столбец с группой\n",
    "\n",
    "def f(row):\n",
    "    if (row['hour'] >= 0) &  (row['hour'] < 6):\n",
    "        val = 'Ночь'\n",
    "    elif (row['hour'] >= 6) &  (row['hour'] < 12):\n",
    "        val = 'Утро'\n",
    "    elif (row['hour'] >= 12) &  (row['hour'] < 18):\n",
    "        val = 'День'\n",
    "    else: \n",
    "        val = 'Вечер'\n",
    "    return val\n",
    "\n",
    "profiles['group'] = profiles.apply (f, axis=1)\n",
    "\n",
    "profiles.head(3)"
   ]
  },
  {
   "cell_type": "code",
   "execution_count": 59,
   "metadata": {},
   "outputs": [],
   "source": [
    "# Сформирую срез для групп и добавлю столбцы с выделенным номером недели\n",
    "\n",
    "profiles_1 = profiles.query('group==\"Ночь\"')\n",
    "profiles_1['week'] = pd.to_datetime(profiles_1['first_ts']).dt.week\n",
    "profiles_2 = profiles.query('group==\"Утро\"')\n",
    "profiles_2['week'] = pd.to_datetime(profiles_2['first_ts']).dt.week\n",
    "profiles_3 = profiles.query('group==\"День\"')\n",
    "profiles_3['week'] = pd.to_datetime(profiles_3['first_ts']).dt.week\n",
    "profiles_4 = profiles.query('group==\"Вечер\"')\n",
    "profiles_4['week'] = pd.to_datetime(profiles_4['first_ts']).dt.week\n"
   ]
  },
  {
   "cell_type": "code",
   "execution_count": 60,
   "metadata": {},
   "outputs": [
    {
     "data": {
      "text/plain": [
       "'Количество действий в ночной группе:'"
      ]
     },
     "metadata": {},
     "output_type": "display_data"
    },
    {
     "data": {
      "text/plain": [
       "221"
      ]
     },
     "metadata": {},
     "output_type": "display_data"
    },
    {
     "data": {
      "text/plain": [
       "'Количество действий в утренней группе:'"
      ]
     },
     "metadata": {},
     "output_type": "display_data"
    },
    {
     "data": {
      "text/plain": [
       "943"
      ]
     },
     "metadata": {},
     "output_type": "display_data"
    },
    {
     "data": {
      "text/plain": [
       "'Количество действий в дневной группе:'"
      ]
     },
     "metadata": {},
     "output_type": "display_data"
    },
    {
     "data": {
      "text/plain": [
       "1713"
      ]
     },
     "metadata": {},
     "output_type": "display_data"
    },
    {
     "data": {
      "text/plain": [
       "'Количество действий в вечерней группе:'"
      ]
     },
     "metadata": {},
     "output_type": "display_data"
    },
    {
     "data": {
      "text/plain": [
       "1416"
      ]
     },
     "metadata": {},
     "output_type": "display_data"
    }
   ],
   "source": [
    "display('Количество действий в ночной группе:', profiles_1.shape[0])\n",
    "display('Количество действий в утренней группе:', profiles_2.shape[0])\n",
    "display('Количество действий в дневной группе:', profiles_3.shape[0])\n",
    "display('Количество действий в вечерней группе:', profiles_4.shape[0])"
   ]
  },
  {
   "cell_type": "markdown",
   "metadata": {},
   "source": [
    "**Вывод**\n",
    "\n",
    "Выделены 4 группы:\n",
    "- ночная\n",
    "- утренняя\n",
    "- дневная\n",
    "- вечерняя\n",
    "\n",
    "Самые активные группы по действиям - дневная и вечерняя. Самая малоактивная - ночная. Проверю, как удерживаются пользователи по группам."
   ]
  },
  {
   "cell_type": "markdown",
   "metadata": {},
   "source": [
    "### Retention rate, по сегментированным пользователям"
   ]
  },
  {
   "cell_type": "code",
   "execution_count": 61,
   "metadata": {},
   "outputs": [
    {
     "data": {
      "text/html": [
       "<div>\n",
       "<style scoped>\n",
       "    .dataframe tbody tr th:only-of-type {\n",
       "        vertical-align: middle;\n",
       "    }\n",
       "\n",
       "    .dataframe tbody tr th {\n",
       "        vertical-align: top;\n",
       "    }\n",
       "\n",
       "    .dataframe thead th {\n",
       "        text-align: right;\n",
       "    }\n",
       "</style>\n",
       "<table border=\"1\" class=\"dataframe\">\n",
       "  <thead>\n",
       "    <tr style=\"text-align: right;\">\n",
       "      <th></th>\n",
       "      <th>1</th>\n",
       "      <th>2</th>\n",
       "      <th>3</th>\n",
       "      <th>4</th>\n",
       "      <th>5</th>\n",
       "      <th>6</th>\n",
       "      <th>7</th>\n",
       "      <th>8</th>\n",
       "      <th>9</th>\n",
       "      <th>10</th>\n",
       "      <th>...</th>\n",
       "      <th>13</th>\n",
       "      <th>14</th>\n",
       "      <th>15</th>\n",
       "      <th>16</th>\n",
       "      <th>17</th>\n",
       "      <th>18</th>\n",
       "      <th>19</th>\n",
       "      <th>21</th>\n",
       "      <th>22</th>\n",
       "      <th>23</th>\n",
       "    </tr>\n",
       "    <tr>\n",
       "      <th>dt</th>\n",
       "      <th></th>\n",
       "      <th></th>\n",
       "      <th></th>\n",
       "      <th></th>\n",
       "      <th></th>\n",
       "      <th></th>\n",
       "      <th></th>\n",
       "      <th></th>\n",
       "      <th></th>\n",
       "      <th></th>\n",
       "      <th></th>\n",
       "      <th></th>\n",
       "      <th></th>\n",
       "      <th></th>\n",
       "      <th></th>\n",
       "      <th></th>\n",
       "      <th></th>\n",
       "      <th></th>\n",
       "      <th></th>\n",
       "      <th></th>\n",
       "      <th></th>\n",
       "    </tr>\n",
       "  </thead>\n",
       "  <tbody>\n",
       "    <tr>\n",
       "      <th>2019-10-07</th>\n",
       "      <td>0.111111</td>\n",
       "      <td>0.000000</td>\n",
       "      <td>0.333333</td>\n",
       "      <td>0.0</td>\n",
       "      <td>0.000000</td>\n",
       "      <td>0.111111</td>\n",
       "      <td>0.0</td>\n",
       "      <td>0.0</td>\n",
       "      <td>0.111111</td>\n",
       "      <td>0.111111</td>\n",
       "      <td>...</td>\n",
       "      <td>0.111111</td>\n",
       "      <td>0.111111</td>\n",
       "      <td>0.0</td>\n",
       "      <td>0.111111</td>\n",
       "      <td>0.0</td>\n",
       "      <td>0.0</td>\n",
       "      <td>0.111111</td>\n",
       "      <td>0.000000</td>\n",
       "      <td>0.111111</td>\n",
       "      <td>0.222222</td>\n",
       "    </tr>\n",
       "    <tr>\n",
       "      <th>2019-10-08</th>\n",
       "      <td>0.000000</td>\n",
       "      <td>0.000000</td>\n",
       "      <td>0.000000</td>\n",
       "      <td>0.2</td>\n",
       "      <td>0.000000</td>\n",
       "      <td>0.200000</td>\n",
       "      <td>0.0</td>\n",
       "      <td>0.2</td>\n",
       "      <td>0.000000</td>\n",
       "      <td>0.000000</td>\n",
       "      <td>...</td>\n",
       "      <td>0.200000</td>\n",
       "      <td>0.000000</td>\n",
       "      <td>0.0</td>\n",
       "      <td>0.200000</td>\n",
       "      <td>0.0</td>\n",
       "      <td>0.0</td>\n",
       "      <td>0.000000</td>\n",
       "      <td>0.000000</td>\n",
       "      <td>0.000000</td>\n",
       "      <td>0.000000</td>\n",
       "    </tr>\n",
       "    <tr>\n",
       "      <th>2019-10-09</th>\n",
       "      <td>0.000000</td>\n",
       "      <td>0.166667</td>\n",
       "      <td>0.000000</td>\n",
       "      <td>0.0</td>\n",
       "      <td>0.166667</td>\n",
       "      <td>0.166667</td>\n",
       "      <td>0.0</td>\n",
       "      <td>0.0</td>\n",
       "      <td>0.000000</td>\n",
       "      <td>0.000000</td>\n",
       "      <td>...</td>\n",
       "      <td>0.000000</td>\n",
       "      <td>0.000000</td>\n",
       "      <td>0.0</td>\n",
       "      <td>0.000000</td>\n",
       "      <td>0.0</td>\n",
       "      <td>0.0</td>\n",
       "      <td>0.000000</td>\n",
       "      <td>0.166667</td>\n",
       "      <td>0.000000</td>\n",
       "      <td>0.000000</td>\n",
       "    </tr>\n",
       "  </tbody>\n",
       "</table>\n",
       "<p>3 rows × 22 columns</p>\n",
       "</div>"
      ],
      "text/plain": [
       "                  1         2         3    4         5         6    7    8   \\\n",
       "dt                                                                            \n",
       "2019-10-07  0.111111  0.000000  0.333333  0.0  0.000000  0.111111  0.0  0.0   \n",
       "2019-10-08  0.000000  0.000000  0.000000  0.2  0.000000  0.200000  0.0  0.2   \n",
       "2019-10-09  0.000000  0.166667  0.000000  0.0  0.166667  0.166667  0.0  0.0   \n",
       "\n",
       "                  9         10  ...        13        14   15        16   17  \\\n",
       "dt                              ...                                           \n",
       "2019-10-07  0.111111  0.111111  ...  0.111111  0.111111  0.0  0.111111  0.0   \n",
       "2019-10-08  0.000000  0.000000  ...  0.200000  0.000000  0.0  0.200000  0.0   \n",
       "2019-10-09  0.000000  0.000000  ...  0.000000  0.000000  0.0  0.000000  0.0   \n",
       "\n",
       "             18        19        21        22        23  \n",
       "dt                                                       \n",
       "2019-10-07  0.0  0.111111  0.000000  0.111111  0.222222  \n",
       "2019-10-08  0.0  0.000000  0.000000  0.000000  0.000000  \n",
       "2019-10-09  0.0  0.000000  0.166667  0.000000  0.000000  \n",
       "\n",
       "[3 rows x 22 columns]"
      ]
     },
     "execution_count": 61,
     "metadata": {},
     "output_type": "execute_result"
    }
   ],
   "source": [
    "# Retention rate для ночной группы\n",
    "\n",
    "retention_1 = get_retention(profiles_1)\n",
    "retention_1.head(3)"
   ]
  },
  {
   "cell_type": "code",
   "execution_count": 62,
   "metadata": {},
   "outputs": [
    {
     "data": {
      "text/html": [
       "<div>\n",
       "<style scoped>\n",
       "    .dataframe tbody tr th:only-of-type {\n",
       "        vertical-align: middle;\n",
       "    }\n",
       "\n",
       "    .dataframe tbody tr th {\n",
       "        vertical-align: top;\n",
       "    }\n",
       "\n",
       "    .dataframe thead th {\n",
       "        text-align: right;\n",
       "    }\n",
       "</style>\n",
       "<table border=\"1\" class=\"dataframe\">\n",
       "  <thead>\n",
       "    <tr style=\"text-align: right;\">\n",
       "      <th></th>\n",
       "      <th>1</th>\n",
       "      <th>2</th>\n",
       "      <th>3</th>\n",
       "    </tr>\n",
       "    <tr>\n",
       "      <th>week</th>\n",
       "      <th></th>\n",
       "      <th></th>\n",
       "      <th></th>\n",
       "    </tr>\n",
       "  </thead>\n",
       "  <tbody>\n",
       "    <tr>\n",
       "      <th>41</th>\n",
       "      <td>0.280702</td>\n",
       "      <td>0.192982</td>\n",
       "      <td>0.175439</td>\n",
       "    </tr>\n",
       "    <tr>\n",
       "      <th>42</th>\n",
       "      <td>0.323529</td>\n",
       "      <td>0.132353</td>\n",
       "      <td>0.000000</td>\n",
       "    </tr>\n",
       "    <tr>\n",
       "      <th>43</th>\n",
       "      <td>0.250000</td>\n",
       "      <td>0.000000</td>\n",
       "      <td>0.000000</td>\n",
       "    </tr>\n",
       "    <tr>\n",
       "      <th>44</th>\n",
       "      <td>0.000000</td>\n",
       "      <td>0.000000</td>\n",
       "      <td>0.000000</td>\n",
       "    </tr>\n",
       "  </tbody>\n",
       "</table>\n",
       "</div>"
      ],
      "text/plain": [
       "             1         2         3\n",
       "week                              \n",
       "41    0.280702  0.192982  0.175439\n",
       "42    0.323529  0.132353  0.000000\n",
       "43    0.250000  0.000000  0.000000\n",
       "44    0.000000  0.000000  0.000000"
      ]
     },
     "execution_count": 62,
     "metadata": {},
     "output_type": "execute_result"
    }
   ],
   "source": [
    "# По недельным когортам\n",
    "\n",
    "week_retention(profiles_1)"
   ]
  },
  {
   "cell_type": "code",
   "execution_count": 63,
   "metadata": {},
   "outputs": [
    {
     "data": {
      "text/html": [
       "<div>\n",
       "<style scoped>\n",
       "    .dataframe tbody tr th:only-of-type {\n",
       "        vertical-align: middle;\n",
       "    }\n",
       "\n",
       "    .dataframe tbody tr th {\n",
       "        vertical-align: top;\n",
       "    }\n",
       "\n",
       "    .dataframe thead th {\n",
       "        text-align: right;\n",
       "    }\n",
       "</style>\n",
       "<table border=\"1\" class=\"dataframe\">\n",
       "  <thead>\n",
       "    <tr style=\"text-align: right;\">\n",
       "      <th></th>\n",
       "      <th>1</th>\n",
       "      <th>2</th>\n",
       "      <th>3</th>\n",
       "      <th>4</th>\n",
       "      <th>5</th>\n",
       "      <th>6</th>\n",
       "      <th>7</th>\n",
       "      <th>8</th>\n",
       "      <th>9</th>\n",
       "      <th>10</th>\n",
       "      <th>...</th>\n",
       "      <th>17</th>\n",
       "      <th>18</th>\n",
       "      <th>19</th>\n",
       "      <th>20</th>\n",
       "      <th>21</th>\n",
       "      <th>22</th>\n",
       "      <th>23</th>\n",
       "      <th>24</th>\n",
       "      <th>25</th>\n",
       "      <th>26</th>\n",
       "    </tr>\n",
       "    <tr>\n",
       "      <th>dt</th>\n",
       "      <th></th>\n",
       "      <th></th>\n",
       "      <th></th>\n",
       "      <th></th>\n",
       "      <th></th>\n",
       "      <th></th>\n",
       "      <th></th>\n",
       "      <th></th>\n",
       "      <th></th>\n",
       "      <th></th>\n",
       "      <th></th>\n",
       "      <th></th>\n",
       "      <th></th>\n",
       "      <th></th>\n",
       "      <th></th>\n",
       "      <th></th>\n",
       "      <th></th>\n",
       "      <th></th>\n",
       "      <th></th>\n",
       "      <th></th>\n",
       "      <th></th>\n",
       "    </tr>\n",
       "  </thead>\n",
       "  <tbody>\n",
       "    <tr>\n",
       "      <th>2019-10-07</th>\n",
       "      <td>0.209302</td>\n",
       "      <td>0.116279</td>\n",
       "      <td>0.116279</td>\n",
       "      <td>0.046512</td>\n",
       "      <td>0.069767</td>\n",
       "      <td>0.069767</td>\n",
       "      <td>0.116279</td>\n",
       "      <td>0.023256</td>\n",
       "      <td>0.069767</td>\n",
       "      <td>0.046512</td>\n",
       "      <td>...</td>\n",
       "      <td>0.000000</td>\n",
       "      <td>0.023256</td>\n",
       "      <td>0.000000</td>\n",
       "      <td>0.000000</td>\n",
       "      <td>0.023256</td>\n",
       "      <td>0.046512</td>\n",
       "      <td>0.023256</td>\n",
       "      <td>0.023256</td>\n",
       "      <td>0.023256</td>\n",
       "      <td>0.023256</td>\n",
       "    </tr>\n",
       "    <tr>\n",
       "      <th>2019-10-08</th>\n",
       "      <td>0.191489</td>\n",
       "      <td>0.127660</td>\n",
       "      <td>0.063830</td>\n",
       "      <td>0.042553</td>\n",
       "      <td>0.063830</td>\n",
       "      <td>0.063830</td>\n",
       "      <td>0.042553</td>\n",
       "      <td>0.063830</td>\n",
       "      <td>0.063830</td>\n",
       "      <td>0.085106</td>\n",
       "      <td>...</td>\n",
       "      <td>0.042553</td>\n",
       "      <td>0.000000</td>\n",
       "      <td>0.021277</td>\n",
       "      <td>0.021277</td>\n",
       "      <td>0.000000</td>\n",
       "      <td>0.021277</td>\n",
       "      <td>0.085106</td>\n",
       "      <td>0.042553</td>\n",
       "      <td>0.000000</td>\n",
       "      <td>0.000000</td>\n",
       "    </tr>\n",
       "    <tr>\n",
       "      <th>2019-10-09</th>\n",
       "      <td>0.044444</td>\n",
       "      <td>0.111111</td>\n",
       "      <td>0.044444</td>\n",
       "      <td>0.044444</td>\n",
       "      <td>0.133333</td>\n",
       "      <td>0.022222</td>\n",
       "      <td>0.066667</td>\n",
       "      <td>0.088889</td>\n",
       "      <td>0.044444</td>\n",
       "      <td>0.022222</td>\n",
       "      <td>...</td>\n",
       "      <td>0.022222</td>\n",
       "      <td>0.000000</td>\n",
       "      <td>0.022222</td>\n",
       "      <td>0.022222</td>\n",
       "      <td>0.022222</td>\n",
       "      <td>0.000000</td>\n",
       "      <td>0.022222</td>\n",
       "      <td>0.044444</td>\n",
       "      <td>0.044444</td>\n",
       "      <td>0.000000</td>\n",
       "    </tr>\n",
       "  </tbody>\n",
       "</table>\n",
       "<p>3 rows × 26 columns</p>\n",
       "</div>"
      ],
      "text/plain": [
       "                  1         2         3         4         5         6   \\\n",
       "dt                                                                       \n",
       "2019-10-07  0.209302  0.116279  0.116279  0.046512  0.069767  0.069767   \n",
       "2019-10-08  0.191489  0.127660  0.063830  0.042553  0.063830  0.063830   \n",
       "2019-10-09  0.044444  0.111111  0.044444  0.044444  0.133333  0.022222   \n",
       "\n",
       "                  7         8         9         10  ...        17        18  \\\n",
       "dt                                                  ...                       \n",
       "2019-10-07  0.116279  0.023256  0.069767  0.046512  ...  0.000000  0.023256   \n",
       "2019-10-08  0.042553  0.063830  0.063830  0.085106  ...  0.042553  0.000000   \n",
       "2019-10-09  0.066667  0.088889  0.044444  0.022222  ...  0.022222  0.000000   \n",
       "\n",
       "                  19        20        21        22        23        24  \\\n",
       "dt                                                                       \n",
       "2019-10-07  0.000000  0.000000  0.023256  0.046512  0.023256  0.023256   \n",
       "2019-10-08  0.021277  0.021277  0.000000  0.021277  0.085106  0.042553   \n",
       "2019-10-09  0.022222  0.022222  0.022222  0.000000  0.022222  0.044444   \n",
       "\n",
       "                  25        26  \n",
       "dt                              \n",
       "2019-10-07  0.023256  0.023256  \n",
       "2019-10-08  0.000000  0.000000  \n",
       "2019-10-09  0.044444  0.000000  \n",
       "\n",
       "[3 rows x 26 columns]"
      ]
     },
     "execution_count": 63,
     "metadata": {},
     "output_type": "execute_result"
    }
   ],
   "source": [
    "# Retention rate для утренней группы\n",
    "\n",
    "retention_2 = get_retention(profiles_2)\n",
    "retention_2.head(3)"
   ]
  },
  {
   "cell_type": "code",
   "execution_count": 64,
   "metadata": {},
   "outputs": [
    {
     "data": {
      "text/html": [
       "<div>\n",
       "<style scoped>\n",
       "    .dataframe tbody tr th:only-of-type {\n",
       "        vertical-align: middle;\n",
       "    }\n",
       "\n",
       "    .dataframe tbody tr th {\n",
       "        vertical-align: top;\n",
       "    }\n",
       "\n",
       "    .dataframe thead th {\n",
       "        text-align: right;\n",
       "    }\n",
       "</style>\n",
       "<table border=\"1\" class=\"dataframe\">\n",
       "  <thead>\n",
       "    <tr style=\"text-align: right;\">\n",
       "      <th></th>\n",
       "      <th>1</th>\n",
       "      <th>2</th>\n",
       "      <th>3</th>\n",
       "    </tr>\n",
       "    <tr>\n",
       "      <th>week</th>\n",
       "      <th></th>\n",
       "      <th></th>\n",
       "      <th></th>\n",
       "    </tr>\n",
       "  </thead>\n",
       "  <tbody>\n",
       "    <tr>\n",
       "      <th>41</th>\n",
       "      <td>0.223577</td>\n",
       "      <td>0.121951</td>\n",
       "      <td>0.097561</td>\n",
       "    </tr>\n",
       "    <tr>\n",
       "      <th>42</th>\n",
       "      <td>0.226923</td>\n",
       "      <td>0.134615</td>\n",
       "      <td>0.000000</td>\n",
       "    </tr>\n",
       "    <tr>\n",
       "      <th>43</th>\n",
       "      <td>0.172131</td>\n",
       "      <td>0.000000</td>\n",
       "      <td>0.000000</td>\n",
       "    </tr>\n",
       "    <tr>\n",
       "      <th>44</th>\n",
       "      <td>0.000000</td>\n",
       "      <td>0.000000</td>\n",
       "      <td>0.000000</td>\n",
       "    </tr>\n",
       "  </tbody>\n",
       "</table>\n",
       "</div>"
      ],
      "text/plain": [
       "             1         2         3\n",
       "week                              \n",
       "41    0.223577  0.121951  0.097561\n",
       "42    0.226923  0.134615  0.000000\n",
       "43    0.172131  0.000000  0.000000\n",
       "44    0.000000  0.000000  0.000000"
      ]
     },
     "execution_count": 64,
     "metadata": {},
     "output_type": "execute_result"
    }
   ],
   "source": [
    "# По недельным когортам\n",
    "\n",
    "week_retention(profiles_2)"
   ]
  },
  {
   "cell_type": "code",
   "execution_count": 65,
   "metadata": {},
   "outputs": [
    {
     "data": {
      "text/html": [
       "<div>\n",
       "<style scoped>\n",
       "    .dataframe tbody tr th:only-of-type {\n",
       "        vertical-align: middle;\n",
       "    }\n",
       "\n",
       "    .dataframe tbody tr th {\n",
       "        vertical-align: top;\n",
       "    }\n",
       "\n",
       "    .dataframe thead th {\n",
       "        text-align: right;\n",
       "    }\n",
       "</style>\n",
       "<table border=\"1\" class=\"dataframe\">\n",
       "  <thead>\n",
       "    <tr style=\"text-align: right;\">\n",
       "      <th></th>\n",
       "      <th>1</th>\n",
       "      <th>2</th>\n",
       "      <th>3</th>\n",
       "      <th>4</th>\n",
       "      <th>5</th>\n",
       "      <th>6</th>\n",
       "      <th>7</th>\n",
       "      <th>8</th>\n",
       "      <th>9</th>\n",
       "      <th>10</th>\n",
       "      <th>...</th>\n",
       "      <th>17</th>\n",
       "      <th>18</th>\n",
       "      <th>19</th>\n",
       "      <th>20</th>\n",
       "      <th>21</th>\n",
       "      <th>22</th>\n",
       "      <th>23</th>\n",
       "      <th>24</th>\n",
       "      <th>25</th>\n",
       "      <th>26</th>\n",
       "    </tr>\n",
       "    <tr>\n",
       "      <th>dt</th>\n",
       "      <th></th>\n",
       "      <th></th>\n",
       "      <th></th>\n",
       "      <th></th>\n",
       "      <th></th>\n",
       "      <th></th>\n",
       "      <th></th>\n",
       "      <th></th>\n",
       "      <th></th>\n",
       "      <th></th>\n",
       "      <th></th>\n",
       "      <th></th>\n",
       "      <th></th>\n",
       "      <th></th>\n",
       "      <th></th>\n",
       "      <th></th>\n",
       "      <th></th>\n",
       "      <th></th>\n",
       "      <th></th>\n",
       "      <th></th>\n",
       "      <th></th>\n",
       "    </tr>\n",
       "  </thead>\n",
       "  <tbody>\n",
       "    <tr>\n",
       "      <th>2019-10-07</th>\n",
       "      <td>0.098765</td>\n",
       "      <td>0.111111</td>\n",
       "      <td>0.111111</td>\n",
       "      <td>0.049383</td>\n",
       "      <td>0.024691</td>\n",
       "      <td>0.061728</td>\n",
       "      <td>0.074074</td>\n",
       "      <td>0.086420</td>\n",
       "      <td>0.049383</td>\n",
       "      <td>0.049383</td>\n",
       "      <td>...</td>\n",
       "      <td>0.037037</td>\n",
       "      <td>0.049383</td>\n",
       "      <td>0.012346</td>\n",
       "      <td>0.037037</td>\n",
       "      <td>0.037037</td>\n",
       "      <td>0.049383</td>\n",
       "      <td>0.049383</td>\n",
       "      <td>0.074074</td>\n",
       "      <td>0.074074</td>\n",
       "      <td>0.037037</td>\n",
       "    </tr>\n",
       "    <tr>\n",
       "      <th>2019-10-08</th>\n",
       "      <td>0.154930</td>\n",
       "      <td>0.126761</td>\n",
       "      <td>0.056338</td>\n",
       "      <td>0.028169</td>\n",
       "      <td>0.056338</td>\n",
       "      <td>0.028169</td>\n",
       "      <td>0.056338</td>\n",
       "      <td>0.014085</td>\n",
       "      <td>0.028169</td>\n",
       "      <td>0.028169</td>\n",
       "      <td>...</td>\n",
       "      <td>0.014085</td>\n",
       "      <td>0.014085</td>\n",
       "      <td>0.042254</td>\n",
       "      <td>0.028169</td>\n",
       "      <td>0.028169</td>\n",
       "      <td>0.028169</td>\n",
       "      <td>0.028169</td>\n",
       "      <td>0.014085</td>\n",
       "      <td>0.028169</td>\n",
       "      <td>0.014085</td>\n",
       "    </tr>\n",
       "    <tr>\n",
       "      <th>2019-10-09</th>\n",
       "      <td>0.095890</td>\n",
       "      <td>0.013699</td>\n",
       "      <td>0.027397</td>\n",
       "      <td>0.068493</td>\n",
       "      <td>0.054795</td>\n",
       "      <td>0.095890</td>\n",
       "      <td>0.082192</td>\n",
       "      <td>0.054795</td>\n",
       "      <td>0.027397</td>\n",
       "      <td>0.027397</td>\n",
       "      <td>...</td>\n",
       "      <td>0.013699</td>\n",
       "      <td>0.013699</td>\n",
       "      <td>0.041096</td>\n",
       "      <td>0.000000</td>\n",
       "      <td>0.041096</td>\n",
       "      <td>0.027397</td>\n",
       "      <td>0.000000</td>\n",
       "      <td>0.000000</td>\n",
       "      <td>0.013699</td>\n",
       "      <td>0.000000</td>\n",
       "    </tr>\n",
       "  </tbody>\n",
       "</table>\n",
       "<p>3 rows × 26 columns</p>\n",
       "</div>"
      ],
      "text/plain": [
       "                  1         2         3         4         5         6   \\\n",
       "dt                                                                       \n",
       "2019-10-07  0.098765  0.111111  0.111111  0.049383  0.024691  0.061728   \n",
       "2019-10-08  0.154930  0.126761  0.056338  0.028169  0.056338  0.028169   \n",
       "2019-10-09  0.095890  0.013699  0.027397  0.068493  0.054795  0.095890   \n",
       "\n",
       "                  7         8         9         10  ...        17        18  \\\n",
       "dt                                                  ...                       \n",
       "2019-10-07  0.074074  0.086420  0.049383  0.049383  ...  0.037037  0.049383   \n",
       "2019-10-08  0.056338  0.014085  0.028169  0.028169  ...  0.014085  0.014085   \n",
       "2019-10-09  0.082192  0.054795  0.027397  0.027397  ...  0.013699  0.013699   \n",
       "\n",
       "                  19        20        21        22        23        24  \\\n",
       "dt                                                                       \n",
       "2019-10-07  0.012346  0.037037  0.037037  0.049383  0.049383  0.074074   \n",
       "2019-10-08  0.042254  0.028169  0.028169  0.028169  0.028169  0.014085   \n",
       "2019-10-09  0.041096  0.000000  0.041096  0.027397  0.000000  0.000000   \n",
       "\n",
       "                  25        26  \n",
       "dt                              \n",
       "2019-10-07  0.074074  0.037037  \n",
       "2019-10-08  0.028169  0.014085  \n",
       "2019-10-09  0.013699  0.000000  \n",
       "\n",
       "[3 rows x 26 columns]"
      ]
     },
     "execution_count": 65,
     "metadata": {},
     "output_type": "execute_result"
    }
   ],
   "source": [
    "# Retention rate для дневной группы\n",
    "\n",
    "retention_3 = get_retention(profiles_3)\n",
    "retention_3.head(3)"
   ]
  },
  {
   "cell_type": "code",
   "execution_count": 66,
   "metadata": {},
   "outputs": [
    {
     "data": {
      "text/html": [
       "<div>\n",
       "<style scoped>\n",
       "    .dataframe tbody tr th:only-of-type {\n",
       "        vertical-align: middle;\n",
       "    }\n",
       "\n",
       "    .dataframe tbody tr th {\n",
       "        vertical-align: top;\n",
       "    }\n",
       "\n",
       "    .dataframe thead th {\n",
       "        text-align: right;\n",
       "    }\n",
       "</style>\n",
       "<table border=\"1\" class=\"dataframe\">\n",
       "  <thead>\n",
       "    <tr style=\"text-align: right;\">\n",
       "      <th></th>\n",
       "      <th>1</th>\n",
       "      <th>2</th>\n",
       "      <th>3</th>\n",
       "    </tr>\n",
       "    <tr>\n",
       "      <th>week</th>\n",
       "      <th></th>\n",
       "      <th></th>\n",
       "      <th></th>\n",
       "    </tr>\n",
       "  </thead>\n",
       "  <tbody>\n",
       "    <tr>\n",
       "      <th>41</th>\n",
       "      <td>0.247379</td>\n",
       "      <td>0.159329</td>\n",
       "      <td>0.1174</td>\n",
       "    </tr>\n",
       "    <tr>\n",
       "      <th>42</th>\n",
       "      <td>0.213793</td>\n",
       "      <td>0.110345</td>\n",
       "      <td>0.0000</td>\n",
       "    </tr>\n",
       "    <tr>\n",
       "      <th>43</th>\n",
       "      <td>0.230599</td>\n",
       "      <td>0.000000</td>\n",
       "      <td>0.0000</td>\n",
       "    </tr>\n",
       "    <tr>\n",
       "      <th>44</th>\n",
       "      <td>0.000000</td>\n",
       "      <td>0.000000</td>\n",
       "      <td>0.0000</td>\n",
       "    </tr>\n",
       "  </tbody>\n",
       "</table>\n",
       "</div>"
      ],
      "text/plain": [
       "             1         2       3\n",
       "week                            \n",
       "41    0.247379  0.159329  0.1174\n",
       "42    0.213793  0.110345  0.0000\n",
       "43    0.230599  0.000000  0.0000\n",
       "44    0.000000  0.000000  0.0000"
      ]
     },
     "execution_count": 66,
     "metadata": {},
     "output_type": "execute_result"
    }
   ],
   "source": [
    "# По недельным когортам\n",
    "\n",
    "week_retention(profiles_3)"
   ]
  },
  {
   "cell_type": "code",
   "execution_count": 67,
   "metadata": {},
   "outputs": [
    {
     "data": {
      "text/html": [
       "<div>\n",
       "<style scoped>\n",
       "    .dataframe tbody tr th:only-of-type {\n",
       "        vertical-align: middle;\n",
       "    }\n",
       "\n",
       "    .dataframe tbody tr th {\n",
       "        vertical-align: top;\n",
       "    }\n",
       "\n",
       "    .dataframe thead th {\n",
       "        text-align: right;\n",
       "    }\n",
       "</style>\n",
       "<table border=\"1\" class=\"dataframe\">\n",
       "  <thead>\n",
       "    <tr style=\"text-align: right;\">\n",
       "      <th></th>\n",
       "      <th>1</th>\n",
       "      <th>2</th>\n",
       "      <th>3</th>\n",
       "      <th>4</th>\n",
       "      <th>5</th>\n",
       "      <th>6</th>\n",
       "      <th>7</th>\n",
       "      <th>8</th>\n",
       "      <th>9</th>\n",
       "      <th>10</th>\n",
       "      <th>...</th>\n",
       "      <th>17</th>\n",
       "      <th>18</th>\n",
       "      <th>19</th>\n",
       "      <th>20</th>\n",
       "      <th>21</th>\n",
       "      <th>22</th>\n",
       "      <th>23</th>\n",
       "      <th>24</th>\n",
       "      <th>25</th>\n",
       "      <th>26</th>\n",
       "    </tr>\n",
       "    <tr>\n",
       "      <th>dt</th>\n",
       "      <th></th>\n",
       "      <th></th>\n",
       "      <th></th>\n",
       "      <th></th>\n",
       "      <th></th>\n",
       "      <th></th>\n",
       "      <th></th>\n",
       "      <th></th>\n",
       "      <th></th>\n",
       "      <th></th>\n",
       "      <th></th>\n",
       "      <th></th>\n",
       "      <th></th>\n",
       "      <th></th>\n",
       "      <th></th>\n",
       "      <th></th>\n",
       "      <th></th>\n",
       "      <th></th>\n",
       "      <th></th>\n",
       "      <th></th>\n",
       "      <th></th>\n",
       "    </tr>\n",
       "  </thead>\n",
       "  <tbody>\n",
       "    <tr>\n",
       "      <th>2019-10-07</th>\n",
       "      <td>0.098592</td>\n",
       "      <td>0.084507</td>\n",
       "      <td>0.070423</td>\n",
       "      <td>0.070423</td>\n",
       "      <td>0.042254</td>\n",
       "      <td>0.042254</td>\n",
       "      <td>0.070423</td>\n",
       "      <td>0.042254</td>\n",
       "      <td>0.028169</td>\n",
       "      <td>0.042254</td>\n",
       "      <td>...</td>\n",
       "      <td>0.014085</td>\n",
       "      <td>0.056338</td>\n",
       "      <td>0.042254</td>\n",
       "      <td>0.000000</td>\n",
       "      <td>0.000000</td>\n",
       "      <td>0.000000</td>\n",
       "      <td>0.000000</td>\n",
       "      <td>0.014085</td>\n",
       "      <td>0.028169</td>\n",
       "      <td>0.028169</td>\n",
       "    </tr>\n",
       "    <tr>\n",
       "      <th>2019-10-08</th>\n",
       "      <td>0.159091</td>\n",
       "      <td>0.136364</td>\n",
       "      <td>0.045455</td>\n",
       "      <td>0.045455</td>\n",
       "      <td>0.090909</td>\n",
       "      <td>0.068182</td>\n",
       "      <td>0.136364</td>\n",
       "      <td>0.113636</td>\n",
       "      <td>0.045455</td>\n",
       "      <td>0.090909</td>\n",
       "      <td>...</td>\n",
       "      <td>0.045455</td>\n",
       "      <td>0.045455</td>\n",
       "      <td>0.090909</td>\n",
       "      <td>0.068182</td>\n",
       "      <td>0.022727</td>\n",
       "      <td>0.022727</td>\n",
       "      <td>0.022727</td>\n",
       "      <td>0.045455</td>\n",
       "      <td>0.045455</td>\n",
       "      <td>0.022727</td>\n",
       "    </tr>\n",
       "    <tr>\n",
       "      <th>2019-10-09</th>\n",
       "      <td>0.076923</td>\n",
       "      <td>0.076923</td>\n",
       "      <td>0.115385</td>\n",
       "      <td>0.096154</td>\n",
       "      <td>0.019231</td>\n",
       "      <td>0.019231</td>\n",
       "      <td>0.076923</td>\n",
       "      <td>0.057692</td>\n",
       "      <td>0.038462</td>\n",
       "      <td>0.019231</td>\n",
       "      <td>...</td>\n",
       "      <td>0.019231</td>\n",
       "      <td>0.019231</td>\n",
       "      <td>0.019231</td>\n",
       "      <td>0.019231</td>\n",
       "      <td>0.019231</td>\n",
       "      <td>0.000000</td>\n",
       "      <td>0.000000</td>\n",
       "      <td>0.038462</td>\n",
       "      <td>0.000000</td>\n",
       "      <td>0.000000</td>\n",
       "    </tr>\n",
       "  </tbody>\n",
       "</table>\n",
       "<p>3 rows × 26 columns</p>\n",
       "</div>"
      ],
      "text/plain": [
       "                  1         2         3         4         5         6   \\\n",
       "dt                                                                       \n",
       "2019-10-07  0.098592  0.084507  0.070423  0.070423  0.042254  0.042254   \n",
       "2019-10-08  0.159091  0.136364  0.045455  0.045455  0.090909  0.068182   \n",
       "2019-10-09  0.076923  0.076923  0.115385  0.096154  0.019231  0.019231   \n",
       "\n",
       "                  7         8         9         10  ...        17        18  \\\n",
       "dt                                                  ...                       \n",
       "2019-10-07  0.070423  0.042254  0.028169  0.042254  ...  0.014085  0.056338   \n",
       "2019-10-08  0.136364  0.113636  0.045455  0.090909  ...  0.045455  0.045455   \n",
       "2019-10-09  0.076923  0.057692  0.038462  0.019231  ...  0.019231  0.019231   \n",
       "\n",
       "                  19        20        21        22        23        24  \\\n",
       "dt                                                                       \n",
       "2019-10-07  0.042254  0.000000  0.000000  0.000000  0.000000  0.014085   \n",
       "2019-10-08  0.090909  0.068182  0.022727  0.022727  0.022727  0.045455   \n",
       "2019-10-09  0.019231  0.019231  0.019231  0.000000  0.000000  0.038462   \n",
       "\n",
       "                  25        26  \n",
       "dt                              \n",
       "2019-10-07  0.028169  0.028169  \n",
       "2019-10-08  0.045455  0.022727  \n",
       "2019-10-09  0.000000  0.000000  \n",
       "\n",
       "[3 rows x 26 columns]"
      ]
     },
     "execution_count": 67,
     "metadata": {},
     "output_type": "execute_result"
    }
   ],
   "source": [
    "# Retention rate для вечерней группы\n",
    "\n",
    "retention_4 = get_retention(profiles_4)\n",
    "retention_4.head(3)"
   ]
  },
  {
   "cell_type": "code",
   "execution_count": 68,
   "metadata": {},
   "outputs": [
    {
     "data": {
      "text/html": [
       "<div>\n",
       "<style scoped>\n",
       "    .dataframe tbody tr th:only-of-type {\n",
       "        vertical-align: middle;\n",
       "    }\n",
       "\n",
       "    .dataframe tbody tr th {\n",
       "        vertical-align: top;\n",
       "    }\n",
       "\n",
       "    .dataframe thead th {\n",
       "        text-align: right;\n",
       "    }\n",
       "</style>\n",
       "<table border=\"1\" class=\"dataframe\">\n",
       "  <thead>\n",
       "    <tr style=\"text-align: right;\">\n",
       "      <th></th>\n",
       "      <th>1</th>\n",
       "      <th>2</th>\n",
       "      <th>3</th>\n",
       "    </tr>\n",
       "    <tr>\n",
       "      <th>week</th>\n",
       "      <th></th>\n",
       "      <th></th>\n",
       "      <th></th>\n",
       "    </tr>\n",
       "  </thead>\n",
       "  <tbody>\n",
       "    <tr>\n",
       "      <th>41</th>\n",
       "      <td>0.237143</td>\n",
       "      <td>0.151429</td>\n",
       "      <td>0.082857</td>\n",
       "    </tr>\n",
       "    <tr>\n",
       "      <th>42</th>\n",
       "      <td>0.267990</td>\n",
       "      <td>0.156328</td>\n",
       "      <td>0.000000</td>\n",
       "    </tr>\n",
       "    <tr>\n",
       "      <th>43</th>\n",
       "      <td>0.230986</td>\n",
       "      <td>0.000000</td>\n",
       "      <td>0.000000</td>\n",
       "    </tr>\n",
       "    <tr>\n",
       "      <th>44</th>\n",
       "      <td>0.000000</td>\n",
       "      <td>0.000000</td>\n",
       "      <td>0.000000</td>\n",
       "    </tr>\n",
       "  </tbody>\n",
       "</table>\n",
       "</div>"
      ],
      "text/plain": [
       "             1         2         3\n",
       "week                              \n",
       "41    0.237143  0.151429  0.082857\n",
       "42    0.267990  0.156328  0.000000\n",
       "43    0.230986  0.000000  0.000000\n",
       "44    0.000000  0.000000  0.000000"
      ]
     },
     "execution_count": 68,
     "metadata": {},
     "output_type": "execute_result"
    }
   ],
   "source": [
    "# По недельным когортам\n",
    "\n",
    "week_retention(profiles_4)"
   ]
  },
  {
   "cell_type": "markdown",
   "metadata": {},
   "source": [
    "**Вывод**\n",
    "\n",
    "Лучше всего удерживается ночная группа. Но удержание пользователей, пришедших на последней неделе, падает.\n",
    "\n",
    "Также, хорошо удерживаются пользователи вечерней группы. Но снижение удержания пользователей последней недели тоже очевидно.\n",
    "\n",
    "Утренние и дневные пользователи удерживаются примерно на одном уровне. Однако, у дневных пользователей заметен рост удержания пользователей, пришедших в последнюю неделю."
   ]
  },
  {
   "cell_type": "markdown",
   "metadata": {},
   "source": [
    "### Конверсия в целевое действие — просмотр контактов, по сегментированным пользователям"
   ]
  },
  {
   "cell_type": "code",
   "execution_count": 69,
   "metadata": {},
   "outputs": [],
   "source": [
    "profiles_1 = profiles_1.merge(sessions[['user_id','event']], on='user_id', how='left')\n",
    "profiles_2 = profiles_2.merge(sessions[['user_id','event']], on='user_id', how='left')\n",
    "profiles_3 = profiles_3.merge(sessions[['user_id','event']], on='user_id', how='left')\n",
    "profiles_4 = profiles_4.merge(sessions[['user_id','event']], on='user_id', how='left')\n"
   ]
  },
  {
   "cell_type": "code",
   "execution_count": 70,
   "metadata": {},
   "outputs": [],
   "source": [
    "conversion_1 = profiles_1.query('event==\"Посмотреть номер телефона\"')\n",
    "conversion_2 = profiles_2.query('event==\"Посмотреть номер телефона\"')\n",
    "conversion_3 = profiles_3.query('event==\"Посмотреть номер телефона\"')\n",
    "conversion_4 = profiles_4.query('event==\"Посмотреть номер телефона\"')\n"
   ]
  },
  {
   "cell_type": "code",
   "execution_count": 71,
   "metadata": {},
   "outputs": [
    {
     "data": {
      "text/plain": [
       "'Конверсия уникальных пользователей по событию \"Посмотреть номер телефона\" для ночной группы:'"
      ]
     },
     "metadata": {},
     "output_type": "display_data"
    },
    {
     "data": {
      "text/plain": [
       "18.1"
      ]
     },
     "metadata": {},
     "output_type": "display_data"
    },
    {
     "data": {
      "text/plain": [
       "'Конверсия уникальных пользователей по событию \"Посмотреть номер телефона\" для утренней группы:'"
      ]
     },
     "metadata": {},
     "output_type": "display_data"
    },
    {
     "data": {
      "text/plain": [
       "23.22"
      ]
     },
     "metadata": {},
     "output_type": "display_data"
    },
    {
     "data": {
      "text/plain": [
       "'Конверсия уникальных пользователей по событию \"Посмотреть номер телефона\" для дневной группы:'"
      ]
     },
     "metadata": {},
     "output_type": "display_data"
    },
    {
     "data": {
      "text/plain": [
       "24.52"
      ]
     },
     "metadata": {},
     "output_type": "display_data"
    },
    {
     "data": {
      "text/plain": [
       "'Конверсия уникальных пользователей по событию \"Посмотреть номер телефона\" для вечерней группы:'"
      ]
     },
     "metadata": {},
     "output_type": "display_data"
    },
    {
     "data": {
      "text/plain": [
       "21.33"
      ]
     },
     "metadata": {},
     "output_type": "display_data"
    }
   ],
   "source": [
    "a = round((conversion_1['user_id'].nunique()/profiles_1['user_id'].nunique()*100),2)\n",
    "b = round((conversion_2['user_id'].nunique()/profiles_2['user_id'].nunique()*100),2)\n",
    "c = round((conversion_3['user_id'].nunique()/profiles_3['user_id'].nunique()*100),2)\n",
    "d = round((conversion_4['user_id'].nunique()/profiles_4['user_id'].nunique()*100),2)\n",
    "\n",
    "display('Конверсия уникальных пользователей по событию \"Посмотреть номер телефона\" для ночной группы:', a)\n",
    "display('Конверсия уникальных пользователей по событию \"Посмотреть номер телефона\" для утренней группы:', b)\n",
    "display('Конверсия уникальных пользователей по событию \"Посмотреть номер телефона\" для дневной группы:', c)\n",
    "display('Конверсия уникальных пользователей по событию \"Посмотреть номер телефона\" для вечерней группы:', d)"
   ]
  },
  {
   "cell_type": "markdown",
   "metadata": {},
   "source": [
    "**Вывод**\n",
    "\n",
    "Самая большая конверсия в событие 'Посмотреть номер телефона' у дневной группы. \n",
    "\n",
    "Самая низкая у ночной. Есть вероятность, что они откладывают просмотр и звонок на дневное время, ведь ночью звонить нелогично. Но тут можно потерять также этих клиентов, днем они могут уже забыть или передумать звонить и покупать вещь. Можно ночным пользователям добавить, например, всплывающее сообщение, что они могут записать контакт прямо сейчас и позвонить утром. Или напомнить добавить объявление в избранное."
   ]
  },
  {
   "cell_type": "markdown",
   "metadata": {},
   "source": [
    "## Проверка статистических гипотез"
   ]
  },
  {
   "cell_type": "markdown",
   "metadata": {},
   "source": [
    "### Гипотеза: Конверсия пользователей, установивших приложение из разных источников, равны."
   ]
  },
  {
   "cell_type": "code",
   "execution_count": 72,
   "metadata": {},
   "outputs": [
    {
     "data": {
      "text/html": [
       "<div>\n",
       "<style scoped>\n",
       "    .dataframe tbody tr th:only-of-type {\n",
       "        vertical-align: middle;\n",
       "    }\n",
       "\n",
       "    .dataframe tbody tr th {\n",
       "        vertical-align: top;\n",
       "    }\n",
       "\n",
       "    .dataframe thead th {\n",
       "        text-align: right;\n",
       "    }\n",
       "</style>\n",
       "<table border=\"1\" class=\"dataframe\">\n",
       "  <thead>\n",
       "    <tr style=\"text-align: right;\">\n",
       "      <th></th>\n",
       "      <th>Добавление в избранное</th>\n",
       "      <th>Звонок по номеру телефона</th>\n",
       "      <th>Клик по рекомендованному объявлению</th>\n",
       "      <th>Открыть объявление</th>\n",
       "      <th>Поиск по сайту</th>\n",
       "      <th>Посмотреть номер телефона</th>\n",
       "      <th>Просмотр карты объявлений</th>\n",
       "      <th>Просмотр рекомендованных объявлений</th>\n",
       "      <th>Просмотр фотографий в объявлении</th>\n",
       "      <th>total_number</th>\n",
       "    </tr>\n",
       "    <tr>\n",
       "      <th>source</th>\n",
       "      <th></th>\n",
       "      <th></th>\n",
       "      <th></th>\n",
       "      <th></th>\n",
       "      <th></th>\n",
       "      <th></th>\n",
       "      <th></th>\n",
       "      <th></th>\n",
       "      <th></th>\n",
       "      <th></th>\n",
       "    </tr>\n",
       "  </thead>\n",
       "  <tbody>\n",
       "    <tr>\n",
       "      <th>google</th>\n",
       "      <td>114</td>\n",
       "      <td>67</td>\n",
       "      <td>71</td>\n",
       "      <td>195</td>\n",
       "      <td>485</td>\n",
       "      <td>275</td>\n",
       "      <td>354</td>\n",
       "      <td>651</td>\n",
       "      <td>363</td>\n",
       "      <td>1129</td>\n",
       "    </tr>\n",
       "    <tr>\n",
       "      <th>other</th>\n",
       "      <td>77</td>\n",
       "      <td>54</td>\n",
       "      <td>101</td>\n",
       "      <td>259</td>\n",
       "      <td>557</td>\n",
       "      <td>228</td>\n",
       "      <td>415</td>\n",
       "      <td>840</td>\n",
       "      <td>289</td>\n",
       "      <td>1230</td>\n",
       "    </tr>\n",
       "    <tr>\n",
       "      <th>yandex</th>\n",
       "      <td>160</td>\n",
       "      <td>92</td>\n",
       "      <td>150</td>\n",
       "      <td>297</td>\n",
       "      <td>624</td>\n",
       "      <td>478</td>\n",
       "      <td>687</td>\n",
       "      <td>1310</td>\n",
       "      <td>443</td>\n",
       "      <td>1934</td>\n",
       "    </tr>\n",
       "  </tbody>\n",
       "</table>\n",
       "</div>"
      ],
      "text/plain": [
       "        Добавление в избранное  Звонок по номеру телефона  \\\n",
       "source                                                      \n",
       "google                     114                         67   \n",
       "other                       77                         54   \n",
       "yandex                     160                         92   \n",
       "\n",
       "        Клик по рекомендованному объявлению  Открыть объявление  \\\n",
       "source                                                            \n",
       "google                                   71                 195   \n",
       "other                                   101                 259   \n",
       "yandex                                  150                 297   \n",
       "\n",
       "        Поиск по сайту  Посмотреть номер телефона  Просмотр карты объявлений  \\\n",
       "source                                                                         \n",
       "google             485                        275                        354   \n",
       "other              557                        228                        415   \n",
       "yandex             624                        478                        687   \n",
       "\n",
       "        Просмотр рекомендованных объявлений  Просмотр фотографий в объявлении  \\\n",
       "source                                                                          \n",
       "google                                  651                               363   \n",
       "other                                   840                               289   \n",
       "yandex                                 1310                               443   \n",
       "\n",
       "        total_number  \n",
       "source                \n",
       "google          1129  \n",
       "other           1230  \n",
       "yandex          1934  "
      ]
     },
     "execution_count": 72,
     "metadata": {},
     "output_type": "execute_result"
    }
   ],
   "source": [
    "# Сделаю таблицу по группам и событиям для проведения тестов\n",
    "\n",
    "sessions_test = sessions.pivot_table(index='source', columns = 'event', values = 'user_id', aggfunc = 'nunique')\n",
    "\n",
    "# Добавлю столбец с общей численностью\n",
    "\n",
    "sessions_test['total_number'] = sessions.groupby('source')['user_id'].nunique()\n",
    "\n",
    "\n",
    "sessions_test.columns.name = None\n",
    "sessions_test"
   ]
  },
  {
   "cell_type": "code",
   "execution_count": 73,
   "metadata": {},
   "outputs": [
    {
     "data": {
      "text/plain": [
       "source\n",
       "google    1129\n",
       "other     1230\n",
       "yandex    1934\n",
       "Name: user_id, dtype: int64"
      ]
     },
     "execution_count": 73,
     "metadata": {},
     "output_type": "execute_result"
    }
   ],
   "source": [
    "# Сколько пользователей в каждой экспериментальной группе\n",
    "\n",
    "sessions.groupby('source')['user_id'].nunique()"
   ]
  },
  {
   "cell_type": "code",
   "execution_count": 74,
   "metadata": {},
   "outputs": [
    {
     "data": {
      "text/html": [
       "<div>\n",
       "<style scoped>\n",
       "    .dataframe tbody tr th:only-of-type {\n",
       "        vertical-align: middle;\n",
       "    }\n",
       "\n",
       "    .dataframe tbody tr th {\n",
       "        vertical-align: top;\n",
       "    }\n",
       "\n",
       "    .dataframe thead th {\n",
       "        text-align: right;\n",
       "    }\n",
       "</style>\n",
       "<table border=\"1\" class=\"dataframe\">\n",
       "  <thead>\n",
       "    <tr style=\"text-align: right;\">\n",
       "      <th></th>\n",
       "      <th>source</th>\n",
       "    </tr>\n",
       "    <tr>\n",
       "      <th>user_id</th>\n",
       "      <th></th>\n",
       "    </tr>\n",
       "  </thead>\n",
       "  <tbody>\n",
       "  </tbody>\n",
       "</table>\n",
       "</div>"
      ],
      "text/plain": [
       "Empty DataFrame\n",
       "Columns: [source]\n",
       "Index: []"
      ]
     },
     "execution_count": 74,
     "metadata": {},
     "output_type": "execute_result"
    }
   ],
   "source": [
    "# Проверю, не попали ли пользователи сразу в несколько групп\n",
    "\n",
    "(\n",
    "sessions\n",
    "    .groupby('user_id')\n",
    "    .agg({'source':'nunique'})\n",
    "    .query('source>1')\n",
    ")\n",
    "\n",
    "# пусто, значит, пересечений нет"
   ]
  },
  {
   "cell_type": "code",
   "execution_count": 75,
   "metadata": {},
   "outputs": [],
   "source": [
    "# Создам переменные групп по событиям\n",
    "\n",
    "google = sessions_test.iloc[0][[0,1,2,3,4,5,6,7,8,9]]\n",
    "\n",
    "other = sessions_test.iloc[1][[0,1,2,3,4,5,6,7,8,9]]\n",
    "\n",
    "yandex = sessions_test.iloc[2][[0,1,2,3,4,5,6,7,8,9]]"
   ]
  },
  {
   "cell_type": "code",
   "execution_count": 76,
   "metadata": {},
   "outputs": [],
   "source": [
    "# Функция для проведения теста\n",
    "\n",
    "def z_value_count(purchases1, purchases2, leads1, leads2, alpha = 0.01):\n",
    "    purchases = np.array([purchases1, purchases2])\n",
    "    leads = np.array([leads1,leads2])\n",
    "# пропорция успехов в первой группе:\n",
    "    p1 = purchases[0]/leads[0]\n",
    "\n",
    "        # пропорция успехов во второй группе:\n",
    "    p2 = purchases[1]/leads[1]\n",
    "\n",
    "    p_combined = (purchases[0] + purchases[1]) / (leads[0] + leads[1])\n",
    "\n",
    "        # разница пропорций в датасетах\n",
    "    difference = p1 - p2 \n",
    "\n",
    "    z_value = difference / mth.sqrt(p_combined * (1 - p_combined) * (1/leads[0] + 1/leads[1]))\n",
    "\n",
    "        # задаем стандартное нормальное распределение (среднее 0, ст.отклонение 1)\n",
    "    distr = stats.norm(0, 1) \n",
    "\n",
    "\n",
    "    p_value = (1 - distr.cdf(abs(z_value))) * 2 \n",
    "\n",
    "    print('p-значение: ', p_value)\n",
    "\n",
    "    if p_value < alpha: \n",
    "        print('Отвергаем нулевую гипотезу: между долями есть значимая разница')\n",
    "    else:\n",
    "        print(\n",
    "        'Не получилось отвергнуть нулевую гипотезу, нет оснований считать доли разными'\n",
    "            )"
   ]
  },
  {
   "cell_type": "markdown",
   "metadata": {},
   "source": [
    "#### Проверка групп google и other\n",
    "\n",
    "**Событие: Посмотреть номер телефона.**\n",
    "- Гипотеза Н_0: Конверсия пользователей, установивших приложение из google и other, равна.\n",
    "- Гипотеза Н_1: Конверсия пользователей, установивших приложение изиз google и other,  не равна."
   ]
  },
  {
   "cell_type": "code",
   "execution_count": 77,
   "metadata": {},
   "outputs": [
    {
     "name": "stdout",
     "output_type": "stream",
     "text": [
      "p-значение:  0.0005640941887214979\n",
      "Отвергаем нулевую гипотезу: между долями есть значимая разница\n"
     ]
    }
   ],
   "source": [
    "z_value_count(google[5], other[5], google[9], other[9])"
   ]
  },
  {
   "cell_type": "markdown",
   "metadata": {},
   "source": [
    "#### Проверка групп google и yandex\t\n",
    "\n",
    "**Событие: Посмотреть номер телефона.**\n",
    "- Гипотеза Н_0: Конверсия пользователей, установивших приложение из google и yandex, равна.\n",
    "- Гипотеза Н_1: Конверсия пользователей, установивших приложение изиз google и yandex,  не равна."
   ]
  },
  {
   "cell_type": "code",
   "execution_count": 78,
   "metadata": {},
   "outputs": [
    {
     "name": "stdout",
     "output_type": "stream",
     "text": [
      "p-значение:  0.8244316027993777\n",
      "Не получилось отвергнуть нулевую гипотезу, нет оснований считать доли разными\n"
     ]
    }
   ],
   "source": [
    "z_value_count(google[5], yandex[5], google[9], yandex[9])"
   ]
  },
  {
   "cell_type": "markdown",
   "metadata": {},
   "source": [
    "#### Проверка групп other и yandex\n",
    "\n",
    "**Событие: Посмотреть номер телефона.**\n",
    "- Гипотеза Н_0: Конверсия пользователей, установивших приложение из other и yandex, равна.\n",
    "- Гипотеза Н_1: Конверсия пользователей, установивших приложение изиз other и yandex,  не равна."
   ]
  },
  {
   "cell_type": "code",
   "execution_count": 79,
   "metadata": {},
   "outputs": [
    {
     "name": "stdout",
     "output_type": "stream",
     "text": [
      "p-значение:  4.7142597613403225e-05\n",
      "Отвергаем нулевую гипотезу: между долями есть значимая разница\n"
     ]
    }
   ],
   "source": [
    "z_value_count(other[5], yandex[5], other[9], yandex[9])"
   ]
  },
  {
   "cell_type": "markdown",
   "metadata": {},
   "source": [
    "**Вывод**\n",
    "\n",
    "Различий в конверсиях в событие 'Посмотреть номер телефона' между пользователями, установившими приложение из Яндекс или Гугла, нет. А вот между остальными источниками и Яндекс/Гугл есть статистическое различие."
   ]
  },
  {
   "cell_type": "markdown",
   "metadata": {},
   "source": [
    "## Вывод и рекомендации"
   ]
  },
  {
   "cell_type": "markdown",
   "metadata": {},
   "source": [
    "1. В моем распоряжении были данные о событиях, совершенных в мобильном приложении \"Ненужные вещи\". Была проведена предобработка данных.\n",
    "\n",
    "2. Полные данные в датасете за период с 7.10.2019 по 3.11.2019. \n",
    "\n",
    "3. Пользователи привлекаются из трех групп:  Яндекса, Гугла и иных источников. Больше всего привлеченных пользователей из Яндекса. \n",
    "4. Наблюдается снижение удержания пользователей, пришедших в последнюю неделю. \n",
    "\n",
    "5. В исследуемых данных обнаружено 4762 строки с событиями, которые, якобы, произошли за нулевое время. Откуда возникли такие данные неизвестно. Большинство таких нулевых событий - это открытие карты объявлений (1162 события).\n",
    "\n",
    "У 1368 пользователей есть одно такое событие. А у одного пользователя их 23 штуки.\n",
    "\n",
    "Еще у 363 уникальных пользователей сумма времени, проведенном в приложении менее 1 минуты. Вряд ли возможно что-то успеть за это время.\n",
    "\n",
    "6. Пользователи совершают следующие события:\n",
    "- Просмотр рекомендованных объявлений - 40055 событий\n",
    "- Просмотр фотографий в объявлении - 10012 событий\n",
    "- Поиск по сайту - 6784 событий\n",
    "- Открыть объявление - 6164 событий\n",
    "- Посмотреть номер телефона - 4529 событий\n",
    "- Просмотр карты объявлений\t- 3881 событий\n",
    "- Добавление в избранное - 1417 событий\n",
    "- Клик по рекомендованному объявлению - 814 событий\n",
    "- Звонок по номеру телефона\t- 541 событий\n",
    "\n",
    "Целевое действие: Посмотреть номер телефона. Конверсия уникальных пользователей по событию \"Посмотреть номер телефона\": 22.85%.\n",
    "\n",
    "7. Была проведена сегментация пользователей на 4 группы:\n",
    "- ночные - с 0 часов до 6 утра\n",
    "- утренние - с 6 часов утра до 12 дня\n",
    "- дневные - с 12 до 18 часов\n",
    "- вечерние с 18 до 24\n",
    "\n",
    "Самые активные группы по действиям - дневная и вечерняя. Самая малоактивная - ночная. Лучше всего удерживается ночная группа. Также, хорошо удерживаются пользователи вечерней группы. Утренние и дневные пользователи удерживаются примерно на одном уровне. Однако, у дневных пользователей заметен рост удержания пользователей, пришедших в последнюю неделю. Самая большая конверсия в событие 'Посмотреть номер телефона' у дневной группы. Самая низкая у ночной.\n",
    "\n",
    "8. Была проверена потеза:\n",
    "- Гипотеза: Конверсия пользователей, установивших приложение из разных источников, равны.\n",
    "\n",
    "Различий в конверсиях в событие 'Посмотреть номер телефона' между пользователями, установившими приложение из Яндекс или Гугла, нет. А вот между остальными источниками и Яндекс/Гугл есть статистическое различие.\n",
    "\n",
    "Могу порекомендовать: обратить внимание на пользователей, которые уходят сразу после одного дня. Предложить им какой-то \"вип-статус\", например, на неделю пользования. Или скидку на продвижение объявлений в первые дни и тп. Необходимо их лучше удерживать, что может помочь увеличть конверсию в целевое действие. Можно продумать этот момент и запустить новый А/Б тест. Так же проверить алгоритм показа рекомендованных объявлений.\n",
    "\n",
    "Обратить внимание на ночных пользователей, какие образом им напомнить утром/днем, чтоб они не забыли позвонить по ранее просмотренным объявлениям, плюс ночью напоминать добавлять в избранное, например.\n",
    "\n",
    "Различий в удержании пользователей между Яндекс и Гуглом нет. Однако, количество новых пользователей падает. Возможно, пришло время запустить новую рекламу, в том числе, возможно, обратить внимание на новые рекламные площадки для развития приложения.\n",
    "\n",
    "Конверсия у пользователей, которые совершили первое действие в будни - выше. И разница статистически значима. Добавить больше рекламы в выходные дни, добавить скидки на продвижение и тп.\n",
    "\n",
    "В целом данных недостаточно, чтоб дать точную оценку. Не выделены сессии пользователей. Рекомендую провести дополнительное исследование по более полным данным."
   ]
  },
  {
   "cell_type": "code",
   "execution_count": null,
   "metadata": {},
   "outputs": [],
   "source": []
  }
 ],
 "metadata": {
  "ExecuteTimeLog": [
   {
    "duration": 1880,
    "start_time": "2023-04-30T16:19:18.607Z"
   },
   {
    "duration": 81,
    "start_time": "2023-04-30T16:19:30.668Z"
   },
   {
    "duration": 22,
    "start_time": "2023-04-30T16:19:39.953Z"
   },
   {
    "duration": 19,
    "start_time": "2023-04-30T16:19:51.022Z"
   },
   {
    "duration": 18,
    "start_time": "2023-04-30T16:20:25.049Z"
   },
   {
    "duration": 28,
    "start_time": "2023-04-30T16:20:32.657Z"
   },
   {
    "duration": 41,
    "start_time": "2023-04-30T16:21:14.637Z"
   },
   {
    "duration": 13,
    "start_time": "2023-04-30T16:21:28.380Z"
   },
   {
    "duration": 32,
    "start_time": "2023-04-30T16:21:35.947Z"
   },
   {
    "duration": 5,
    "start_time": "2023-04-30T16:21:44.647Z"
   },
   {
    "duration": 13,
    "start_time": "2023-04-30T16:21:55.369Z"
   },
   {
    "duration": 55,
    "start_time": "2023-04-30T16:22:04.827Z"
   },
   {
    "duration": 6,
    "start_time": "2023-04-30T16:22:26.639Z"
   },
   {
    "duration": 16,
    "start_time": "2023-04-30T16:22:34.715Z"
   },
   {
    "duration": 71,
    "start_time": "2023-04-30T16:22:45.019Z"
   },
   {
    "duration": 12,
    "start_time": "2023-04-30T16:22:54.279Z"
   },
   {
    "duration": 7,
    "start_time": "2023-04-30T16:23:49.703Z"
   },
   {
    "duration": 8,
    "start_time": "2023-04-30T16:23:59.122Z"
   },
   {
    "duration": 18,
    "start_time": "2023-04-30T16:24:08.073Z"
   },
   {
    "duration": 6,
    "start_time": "2023-04-30T16:24:19.421Z"
   },
   {
    "duration": 9,
    "start_time": "2023-04-30T16:24:27.738Z"
   },
   {
    "duration": 19,
    "start_time": "2023-04-30T16:24:36.514Z"
   },
   {
    "duration": 10,
    "start_time": "2023-04-30T16:28:16.146Z"
   },
   {
    "duration": 12029,
    "start_time": "2023-04-30T16:31:06.388Z"
   },
   {
    "duration": 91,
    "start_time": "2023-04-30T16:31:18.420Z"
   },
   {
    "duration": 42,
    "start_time": "2023-04-30T16:31:18.513Z"
   },
   {
    "duration": 52,
    "start_time": "2023-04-30T16:31:18.558Z"
   },
   {
    "duration": 55,
    "start_time": "2023-04-30T16:31:18.612Z"
   },
   {
    "duration": 37,
    "start_time": "2023-04-30T16:31:18.669Z"
   },
   {
    "duration": 68,
    "start_time": "2023-04-30T16:31:18.709Z"
   },
   {
    "duration": 19,
    "start_time": "2023-04-30T16:31:18.780Z"
   },
   {
    "duration": 67,
    "start_time": "2023-04-30T16:31:18.801Z"
   },
   {
    "duration": 8,
    "start_time": "2023-04-30T16:31:18.873Z"
   },
   {
    "duration": 53,
    "start_time": "2023-04-30T16:31:18.883Z"
   },
   {
    "duration": 55,
    "start_time": "2023-04-30T16:31:18.938Z"
   },
   {
    "duration": 7,
    "start_time": "2023-04-30T16:31:18.995Z"
   },
   {
    "duration": 40,
    "start_time": "2023-04-30T16:31:19.005Z"
   },
   {
    "duration": 138,
    "start_time": "2023-04-30T16:31:19.048Z"
   },
   {
    "duration": 19,
    "start_time": "2023-04-30T16:31:19.189Z"
   },
   {
    "duration": 16,
    "start_time": "2023-04-30T16:31:19.211Z"
   },
   {
    "duration": 63,
    "start_time": "2023-04-30T16:31:19.244Z"
   },
   {
    "duration": 39,
    "start_time": "2023-04-30T16:31:19.309Z"
   },
   {
    "duration": 27,
    "start_time": "2023-04-30T16:31:19.350Z"
   },
   {
    "duration": 44,
    "start_time": "2023-04-30T16:31:19.381Z"
   },
   {
    "duration": 41,
    "start_time": "2023-04-30T16:31:19.428Z"
   },
   {
    "duration": 24,
    "start_time": "2023-04-30T16:31:19.472Z"
   },
   {
    "duration": 1573,
    "start_time": "2023-04-30T16:31:19.499Z"
   },
   {
    "duration": 21,
    "start_time": "2023-04-30T16:31:59.455Z"
   },
   {
    "duration": 18,
    "start_time": "2023-04-30T16:32:10.780Z"
   },
   {
    "duration": 615,
    "start_time": "2023-04-30T16:32:33.579Z"
   },
   {
    "duration": 169,
    "start_time": "2023-04-30T16:34:13.855Z"
   },
   {
    "duration": 39,
    "start_time": "2023-04-30T16:34:30.731Z"
   },
   {
    "duration": 586,
    "start_time": "2023-04-30T16:34:48.964Z"
   },
   {
    "duration": 179,
    "start_time": "2023-04-30T16:35:38.349Z"
   },
   {
    "duration": 187,
    "start_time": "2023-04-30T16:36:00.274Z"
   },
   {
    "duration": 40,
    "start_time": "2023-04-30T16:37:10.982Z"
   },
   {
    "duration": 348,
    "start_time": "2023-04-30T16:37:19.559Z"
   },
   {
    "duration": 49,
    "start_time": "2023-04-30T16:38:09.615Z"
   },
   {
    "duration": 34,
    "start_time": "2023-04-30T16:38:21.135Z"
   },
   {
    "duration": 636,
    "start_time": "2023-04-30T16:38:49.270Z"
   },
   {
    "duration": 14,
    "start_time": "2023-04-30T16:42:24.714Z"
   },
   {
    "duration": 144,
    "start_time": "2023-04-30T16:42:46.071Z"
   },
   {
    "duration": 15,
    "start_time": "2023-04-30T16:43:32.853Z"
   },
   {
    "duration": 8,
    "start_time": "2023-04-30T16:43:46.014Z"
   },
   {
    "duration": 981,
    "start_time": "2023-04-30T16:46:43.137Z"
   },
   {
    "duration": 7,
    "start_time": "2023-04-30T16:46:52.480Z"
   },
   {
    "duration": 4698,
    "start_time": "2023-04-30T16:47:48.575Z"
   },
   {
    "duration": 90,
    "start_time": "2023-04-30T16:47:53.276Z"
   },
   {
    "duration": 23,
    "start_time": "2023-04-30T16:47:53.368Z"
   },
   {
    "duration": 17,
    "start_time": "2023-04-30T16:47:53.394Z"
   },
   {
    "duration": 49,
    "start_time": "2023-04-30T16:47:53.413Z"
   },
   {
    "duration": 26,
    "start_time": "2023-04-30T16:47:53.465Z"
   },
   {
    "duration": 61,
    "start_time": "2023-04-30T16:47:53.493Z"
   },
   {
    "duration": 17,
    "start_time": "2023-04-30T16:47:53.556Z"
   },
   {
    "duration": 28,
    "start_time": "2023-04-30T16:47:53.576Z"
   },
   {
    "duration": 4,
    "start_time": "2023-04-30T16:47:53.609Z"
   },
   {
    "duration": 29,
    "start_time": "2023-04-30T16:47:53.644Z"
   },
   {
    "duration": 41,
    "start_time": "2023-04-30T16:47:53.675Z"
   },
   {
    "duration": 7,
    "start_time": "2023-04-30T16:47:53.718Z"
   },
   {
    "duration": 31,
    "start_time": "2023-04-30T16:47:53.727Z"
   },
   {
    "duration": 109,
    "start_time": "2023-04-30T16:47:53.761Z"
   },
   {
    "duration": 18,
    "start_time": "2023-04-30T16:47:53.872Z"
   },
   {
    "duration": 9,
    "start_time": "2023-04-30T16:47:53.892Z"
   },
   {
    "duration": 9,
    "start_time": "2023-04-30T16:47:53.903Z"
   },
   {
    "duration": 44,
    "start_time": "2023-04-30T16:47:53.915Z"
   },
   {
    "duration": 6,
    "start_time": "2023-04-30T16:47:53.962Z"
   },
   {
    "duration": 11,
    "start_time": "2023-04-30T16:47:53.971Z"
   },
   {
    "duration": 22,
    "start_time": "2023-04-30T16:47:53.984Z"
   },
   {
    "duration": 7,
    "start_time": "2023-04-30T16:47:54.008Z"
   },
   {
    "duration": 1172,
    "start_time": "2023-04-30T16:47:54.016Z"
   },
   {
    "duration": 20,
    "start_time": "2023-04-30T16:47:55.191Z"
   },
   {
    "duration": 51,
    "start_time": "2023-04-30T16:47:55.213Z"
   },
   {
    "duration": 638,
    "start_time": "2023-04-30T16:47:55.267Z"
   },
   {
    "duration": 238,
    "start_time": "2023-04-30T16:47:55.909Z"
   },
   {
    "duration": 43,
    "start_time": "2023-04-30T16:47:56.152Z"
   },
   {
    "duration": 579,
    "start_time": "2023-04-30T16:47:56.198Z"
   },
   {
    "duration": 229,
    "start_time": "2023-04-30T16:47:56.780Z"
   },
   {
    "duration": 183,
    "start_time": "2023-04-30T16:47:57.012Z"
   },
   {
    "duration": 72,
    "start_time": "2023-04-30T16:47:57.197Z"
   },
   {
    "duration": 313,
    "start_time": "2023-04-30T16:47:57.272Z"
   },
   {
    "duration": 32,
    "start_time": "2023-04-30T16:47:57.588Z"
   },
   {
    "duration": 35,
    "start_time": "2023-04-30T16:47:57.622Z"
   },
   {
    "duration": 601,
    "start_time": "2023-04-30T16:47:57.659Z"
   },
   {
    "duration": 15,
    "start_time": "2023-04-30T16:47:58.263Z"
   },
   {
    "duration": 170,
    "start_time": "2023-04-30T16:47:58.280Z"
   },
   {
    "duration": 19,
    "start_time": "2023-04-30T16:47:58.454Z"
   },
   {
    "duration": 7,
    "start_time": "2023-04-30T16:47:58.475Z"
   },
   {
    "duration": 13,
    "start_time": "2023-04-30T16:47:58.484Z"
   },
   {
    "duration": 11,
    "start_time": "2023-04-30T16:47:58.499Z"
   },
   {
    "duration": 19,
    "start_time": "2023-04-30T16:48:22.246Z"
   },
   {
    "duration": 38,
    "start_time": "2023-04-30T16:48:50.655Z"
   },
   {
    "duration": 568,
    "start_time": "2023-04-30T16:49:32.335Z"
   },
   {
    "duration": 3356,
    "start_time": "2023-04-30T17:11:15.075Z"
   },
   {
    "duration": 631,
    "start_time": "2023-04-30T17:12:10.426Z"
   },
   {
    "duration": 5374,
    "start_time": "2023-04-30T17:12:22.629Z"
   },
   {
    "duration": 788,
    "start_time": "2023-04-30T17:12:28.006Z"
   },
   {
    "duration": 131,
    "start_time": "2023-04-30T17:12:28.796Z"
   },
   {
    "duration": 18,
    "start_time": "2023-04-30T17:12:32.986Z"
   },
   {
    "duration": 17,
    "start_time": "2023-04-30T17:12:42.505Z"
   },
   {
    "duration": 34,
    "start_time": "2023-04-30T17:12:50.623Z"
   },
   {
    "duration": 20,
    "start_time": "2023-04-30T17:12:58.421Z"
   },
   {
    "duration": 4,
    "start_time": "2023-04-30T17:13:53.416Z"
   },
   {
    "duration": 17,
    "start_time": "2023-04-30T17:13:59.783Z"
   },
   {
    "duration": 22,
    "start_time": "2023-04-30T17:14:08.806Z"
   },
   {
    "duration": 21,
    "start_time": "2023-04-30T17:14:16.706Z"
   },
   {
    "duration": 3,
    "start_time": "2023-04-30T17:14:32.725Z"
   },
   {
    "duration": 31,
    "start_time": "2023-04-30T17:14:44.886Z"
   },
   {
    "duration": 12,
    "start_time": "2023-04-30T17:14:56.190Z"
   },
   {
    "duration": 100,
    "start_time": "2023-04-30T17:15:15.941Z"
   },
   {
    "duration": 35,
    "start_time": "2023-04-30T17:15:23.532Z"
   },
   {
    "duration": 30,
    "start_time": "2023-04-30T17:15:35.138Z"
   },
   {
    "duration": 17,
    "start_time": "2023-04-30T17:15:53.411Z"
   },
   {
    "duration": 52,
    "start_time": "2023-04-30T17:16:28.060Z"
   },
   {
    "duration": 9,
    "start_time": "2023-04-30T17:16:58.668Z"
   },
   {
    "duration": 86,
    "start_time": "2023-04-30T17:17:11.419Z"
   },
   {
    "duration": 20,
    "start_time": "2023-04-30T17:17:18.842Z"
   },
   {
    "duration": 494,
    "start_time": "2023-04-30T17:17:43.161Z"
   },
   {
    "duration": 7,
    "start_time": "2023-04-30T17:18:14.504Z"
   },
   {
    "duration": 6,
    "start_time": "2023-04-30T17:18:23.412Z"
   },
   {
    "duration": 246,
    "start_time": "2023-04-30T17:18:36.830Z"
   },
   {
    "duration": 5138,
    "start_time": "2023-04-30T17:18:48.890Z"
   },
   {
    "duration": 29,
    "start_time": "2023-04-30T17:19:15.720Z"
   },
   {
    "duration": 129,
    "start_time": "2023-04-30T17:19:23.352Z"
   },
   {
    "duration": 592,
    "start_time": "2023-04-30T17:19:31.727Z"
   },
   {
    "duration": 117,
    "start_time": "2023-04-30T17:19:44.573Z"
   },
   {
    "duration": 22,
    "start_time": "2023-04-30T17:20:38.468Z"
   },
   {
    "duration": 46,
    "start_time": "2023-04-30T17:20:47.113Z"
   },
   {
    "duration": 94,
    "start_time": "2023-04-30T17:21:29.313Z"
   },
   {
    "duration": 96,
    "start_time": "2023-04-30T17:21:37.384Z"
   },
   {
    "duration": 4,
    "start_time": "2023-04-30T17:21:55.879Z"
   },
   {
    "duration": 20,
    "start_time": "2023-04-30T17:22:03.085Z"
   },
   {
    "duration": 6,
    "start_time": "2023-04-30T17:22:12.130Z"
   },
   {
    "duration": 5,
    "start_time": "2023-04-30T17:22:19.017Z"
   },
   {
    "duration": 113,
    "start_time": "2023-04-30T17:23:11.769Z"
   },
   {
    "duration": 10,
    "start_time": "2023-04-30T17:23:25.422Z"
   },
   {
    "duration": 8,
    "start_time": "2023-04-30T17:23:33.887Z"
   },
   {
    "duration": 13,
    "start_time": "2023-04-30T17:23:54.980Z"
   },
   {
    "duration": 1633,
    "start_time": "2023-04-30T17:24:22.980Z"
   },
   {
    "duration": 19,
    "start_time": "2023-04-30T17:25:02.215Z"
   },
   {
    "duration": 15,
    "start_time": "2023-04-30T17:25:13.772Z"
   },
   {
    "duration": 136,
    "start_time": "2023-04-30T17:25:29.879Z"
   },
   {
    "duration": 82,
    "start_time": "2023-04-30T17:25:54.641Z"
   },
   {
    "duration": 7,
    "start_time": "2023-04-30T17:26:21.714Z"
   },
   {
    "duration": 592,
    "start_time": "2023-04-30T17:26:30.391Z"
   },
   {
    "duration": 8,
    "start_time": "2023-04-30T17:26:40.170Z"
   },
   {
    "duration": 7,
    "start_time": "2023-04-30T17:27:00.481Z"
   },
   {
    "duration": 12,
    "start_time": "2023-04-30T17:27:08.214Z"
   },
   {
    "duration": 103,
    "start_time": "2023-04-30T17:28:12.903Z"
   },
   {
    "duration": 192,
    "start_time": "2023-04-30T17:28:27.677Z"
   },
   {
    "duration": 314,
    "start_time": "2023-04-30T17:28:39.663Z"
   },
   {
    "duration": 17,
    "start_time": "2023-04-30T17:28:59.137Z"
   },
   {
    "duration": 27,
    "start_time": "2023-04-30T17:29:11.300Z"
   },
   {
    "duration": 413,
    "start_time": "2023-04-30T17:29:28.393Z"
   },
   {
    "duration": 14,
    "start_time": "2023-04-30T17:30:00.825Z"
   },
   {
    "duration": 24,
    "start_time": "2023-04-30T17:30:10.128Z"
   },
   {
    "duration": 67,
    "start_time": "2023-04-30T17:30:47.833Z"
   },
   {
    "duration": 126,
    "start_time": "2023-04-30T17:31:04.386Z"
   },
   {
    "duration": 136,
    "start_time": "2023-04-30T17:33:45.496Z"
   },
   {
    "duration": 51,
    "start_time": "2023-04-30T17:33:56.619Z"
   },
   {
    "duration": 19,
    "start_time": "2023-04-30T17:34:06.592Z"
   },
   {
    "duration": 65,
    "start_time": "2023-04-30T17:35:02.021Z"
   },
   {
    "duration": 50,
    "start_time": "2023-04-30T17:35:12.076Z"
   },
   {
    "duration": 72,
    "start_time": "2023-04-30T17:35:32.900Z"
   },
   {
    "duration": 74,
    "start_time": "2023-04-30T17:35:46.334Z"
   },
   {
    "duration": 97,
    "start_time": "2023-04-30T17:35:59.878Z"
   },
   {
    "duration": 219,
    "start_time": "2023-04-30T17:36:09.330Z"
   },
   {
    "duration": 73,
    "start_time": "2023-04-30T17:36:21.861Z"
   },
   {
    "duration": 86,
    "start_time": "2023-04-30T17:36:31.919Z"
   },
   {
    "duration": 79,
    "start_time": "2023-04-30T17:37:10.112Z"
   },
   {
    "duration": 29,
    "start_time": "2023-04-30T17:37:17.284Z"
   },
   {
    "duration": 33,
    "start_time": "2023-04-30T17:37:25.072Z"
   },
   {
    "duration": 79,
    "start_time": "2023-04-30T17:38:28.782Z"
   },
   {
    "duration": 20,
    "start_time": "2023-04-30T17:38:40.519Z"
   },
   {
    "duration": 52,
    "start_time": "2023-04-30T17:38:48.516Z"
   },
   {
    "duration": 18,
    "start_time": "2023-04-30T17:39:00.844Z"
   },
   {
    "duration": 6,
    "start_time": "2023-04-30T17:39:10.029Z"
   },
   {
    "duration": 6,
    "start_time": "2023-04-30T17:39:43.211Z"
   },
   {
    "duration": 6,
    "start_time": "2023-04-30T17:40:07.515Z"
   },
   {
    "duration": 7,
    "start_time": "2023-04-30T17:40:30.769Z"
   },
   {
    "duration": 4687,
    "start_time": "2023-04-30T17:42:24.935Z"
   },
   {
    "duration": 389,
    "start_time": "2023-04-30T17:42:29.625Z"
   },
   {
    "duration": 20,
    "start_time": "2023-04-30T17:42:30.016Z"
   },
   {
    "duration": 50,
    "start_time": "2023-04-30T17:42:30.039Z"
   },
   {
    "duration": 57,
    "start_time": "2023-04-30T17:42:30.091Z"
   },
   {
    "duration": 132,
    "start_time": "2023-04-30T17:42:30.150Z"
   },
   {
    "duration": 33,
    "start_time": "2023-04-30T17:42:30.288Z"
   },
   {
    "duration": 112,
    "start_time": "2023-04-30T17:42:30.323Z"
   },
   {
    "duration": 155,
    "start_time": "2023-04-30T17:42:30.437Z"
   },
   {
    "duration": 71,
    "start_time": "2023-04-30T17:42:30.596Z"
   },
   {
    "duration": 77,
    "start_time": "2023-04-30T17:42:30.670Z"
   },
   {
    "duration": 79,
    "start_time": "2023-04-30T17:42:30.750Z"
   },
   {
    "duration": 146,
    "start_time": "2023-04-30T17:42:30.832Z"
   },
   {
    "duration": 32,
    "start_time": "2023-04-30T17:42:30.981Z"
   },
   {
    "duration": 16,
    "start_time": "2023-04-30T17:42:31.015Z"
   },
   {
    "duration": 85,
    "start_time": "2023-04-30T17:42:31.034Z"
   },
   {
    "duration": 104,
    "start_time": "2023-04-30T17:42:31.121Z"
   },
   {
    "duration": 6,
    "start_time": "2023-04-30T17:42:31.227Z"
   },
   {
    "duration": 267,
    "start_time": "2023-04-30T17:42:31.235Z"
   },
   {
    "duration": 20,
    "start_time": "2023-04-30T17:42:31.505Z"
   },
   {
    "duration": 540,
    "start_time": "2023-04-30T17:42:31.527Z"
   },
   {
    "duration": 13,
    "start_time": "2023-04-30T17:42:32.074Z"
   },
   {
    "duration": 22,
    "start_time": "2023-04-30T17:42:32.090Z"
   },
   {
    "duration": 248,
    "start_time": "2023-04-30T17:42:32.114Z"
   },
   {
    "duration": 5350,
    "start_time": "2023-04-30T17:42:32.365Z"
   },
   {
    "duration": 40,
    "start_time": "2023-04-30T17:42:37.717Z"
   },
   {
    "duration": 146,
    "start_time": "2023-04-30T17:42:37.765Z"
   },
   {
    "duration": 508,
    "start_time": "2023-04-30T17:42:37.915Z"
   },
   {
    "duration": 108,
    "start_time": "2023-04-30T17:42:38.425Z"
   },
   {
    "duration": 126,
    "start_time": "2023-04-30T17:42:38.534Z"
   },
   {
    "duration": 4,
    "start_time": "2023-04-30T17:42:38.667Z"
   },
   {
    "duration": 41,
    "start_time": "2023-04-30T17:42:38.673Z"
   },
   {
    "duration": 14,
    "start_time": "2023-04-30T17:42:38.716Z"
   },
   {
    "duration": 56,
    "start_time": "2023-04-30T17:42:38.732Z"
   },
   {
    "duration": 16,
    "start_time": "2023-04-30T17:42:38.790Z"
   },
   {
    "duration": 7,
    "start_time": "2023-04-30T17:42:38.808Z"
   },
   {
    "duration": 13,
    "start_time": "2023-04-30T17:42:38.817Z"
   },
   {
    "duration": 1682,
    "start_time": "2023-04-30T17:42:38.833Z"
   },
   {
    "duration": 39,
    "start_time": "2023-04-30T17:42:40.518Z"
   },
   {
    "duration": 15,
    "start_time": "2023-04-30T17:42:40.559Z"
   },
   {
    "duration": 153,
    "start_time": "2023-04-30T17:42:40.577Z"
   },
   {
    "duration": 87,
    "start_time": "2023-04-30T17:42:40.732Z"
   },
   {
    "duration": 30,
    "start_time": "2023-04-30T17:42:40.820Z"
   },
   {
    "duration": 580,
    "start_time": "2023-04-30T17:42:40.855Z"
   },
   {
    "duration": 22,
    "start_time": "2023-04-30T17:42:41.442Z"
   },
   {
    "duration": 26,
    "start_time": "2023-04-30T17:42:41.467Z"
   },
   {
    "duration": 13,
    "start_time": "2023-04-30T17:42:41.495Z"
   },
   {
    "duration": 150,
    "start_time": "2023-04-30T17:42:41.510Z"
   },
   {
    "duration": 296,
    "start_time": "2023-04-30T17:42:41.662Z"
   },
   {
    "duration": 27,
    "start_time": "2023-04-30T17:42:41.961Z"
   },
   {
    "duration": 32,
    "start_time": "2023-04-30T17:42:41.990Z"
   },
   {
    "duration": 456,
    "start_time": "2023-04-30T17:42:42.024Z"
   },
   {
    "duration": 16,
    "start_time": "2023-04-30T17:42:42.484Z"
   },
   {
    "duration": 12,
    "start_time": "2023-04-30T17:42:42.503Z"
   },
   {
    "duration": 36,
    "start_time": "2023-04-30T17:42:42.517Z"
   },
   {
    "duration": 54,
    "start_time": "2023-04-30T17:42:42.555Z"
   },
   {
    "duration": 105,
    "start_time": "2023-04-30T17:42:42.611Z"
   },
   {
    "duration": 168,
    "start_time": "2023-04-30T17:42:42.718Z"
   },
   {
    "duration": 33,
    "start_time": "2023-04-30T17:42:42.889Z"
   },
   {
    "duration": 36,
    "start_time": "2023-04-30T17:42:42.924Z"
   },
   {
    "duration": 63,
    "start_time": "2023-04-30T17:42:42.962Z"
   },
   {
    "duration": 90,
    "start_time": "2023-04-30T17:42:43.027Z"
   },
   {
    "duration": 76,
    "start_time": "2023-04-30T17:42:43.119Z"
   },
   {
    "duration": 92,
    "start_time": "2023-04-30T17:42:43.197Z"
   },
   {
    "duration": 94,
    "start_time": "2023-04-30T17:42:43.292Z"
   },
   {
    "duration": 90,
    "start_time": "2023-04-30T17:42:43.388Z"
   },
   {
    "duration": 95,
    "start_time": "2023-04-30T17:42:43.481Z"
   },
   {
    "duration": 239,
    "start_time": "2023-04-30T17:42:43.579Z"
   },
   {
    "duration": 87,
    "start_time": "2023-04-30T17:42:43.820Z"
   },
   {
    "duration": 43,
    "start_time": "2023-04-30T17:42:43.909Z"
   },
   {
    "duration": 39,
    "start_time": "2023-04-30T17:42:43.958Z"
   },
   {
    "duration": 104,
    "start_time": "2023-04-30T17:42:43.998Z"
   },
   {
    "duration": 20,
    "start_time": "2023-04-30T17:42:44.105Z"
   },
   {
    "duration": 53,
    "start_time": "2023-04-30T17:42:44.127Z"
   },
   {
    "duration": 11,
    "start_time": "2023-04-30T17:42:44.183Z"
   },
   {
    "duration": 17,
    "start_time": "2023-04-30T17:42:44.196Z"
   },
   {
    "duration": 20,
    "start_time": "2023-04-30T17:42:44.215Z"
   },
   {
    "duration": 44,
    "start_time": "2023-04-30T17:42:44.236Z"
   },
   {
    "duration": 14,
    "start_time": "2023-04-30T17:42:44.282Z"
   }
  ],
  "kernelspec": {
   "display_name": "Python 3 (ipykernel)",
   "language": "python",
   "name": "python3"
  },
  "language_info": {
   "codemirror_mode": {
    "name": "ipython",
    "version": 3
   },
   "file_extension": ".py",
   "mimetype": "text/x-python",
   "name": "python",
   "nbconvert_exporter": "python",
   "pygments_lexer": "ipython3",
   "version": "3.9.5"
  },
  "toc": {
   "base_numbering": 1,
   "nav_menu": {},
   "number_sections": true,
   "sideBar": true,
   "skip_h1_title": true,
   "title_cell": "Table of Contents",
   "title_sidebar": "Contents",
   "toc_cell": false,
   "toc_position": {},
   "toc_section_display": true,
   "toc_window_display": false
  }
 },
 "nbformat": 4,
 "nbformat_minor": 2
}
