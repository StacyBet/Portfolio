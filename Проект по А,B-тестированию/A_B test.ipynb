{
 "cells": [
  {
   "cell_type": "markdown",
   "metadata": {},
   "source": [
    "Проект: A/B-тестирование.\n",
    "=="
   ]
  },
  {
   "cell_type": "markdown",
   "metadata": {},
   "source": [
    "## Изучение общей информации о датасетах"
   ]
  },
  {
   "cell_type": "code",
   "execution_count": 1,
   "metadata": {},
   "outputs": [
    {
     "name": "stdout",
     "output_type": "stream",
     "text": [
      "Requirement already satisfied: kaleido in /opt/conda/lib/python3.9/site-packages (0.2.1)\r\n"
     ]
    }
   ],
   "source": [
    "# Все импортируемые библиотеки\n",
    "\n",
    "import pandas as pd\n",
    "import numpy as np\n",
    "from datetime import datetime, timedelta\n",
    "import matplotlib.pyplot as plt\n",
    "%matplotlib inline\n",
    "\n",
    "! pip install -U kaleido\n",
    "\n",
    "from plotly.subplots import make_subplots\n",
    "from plotly import graph_objects as go \n",
    "from plotly.offline import plot\n",
    "import plotly.express as px\n",
    "import seaborn as sns\n",
    "\n",
    "import scipy.stats as stats\n",
    "import math as mth\n",
    "\n",
    "import warnings\n",
    "warnings.simplefilter('ignore')"
   ]
  },
  {
   "cell_type": "code",
   "execution_count": 3,
   "metadata": {},
   "outputs": [
    {
     "data": {
      "text/html": [
       "<div>\n",
       "<style scoped>\n",
       "    .dataframe tbody tr th:only-of-type {\n",
       "        vertical-align: middle;\n",
       "    }\n",
       "\n",
       "    .dataframe tbody tr th {\n",
       "        vertical-align: top;\n",
       "    }\n",
       "\n",
       "    .dataframe thead th {\n",
       "        text-align: right;\n",
       "    }\n",
       "</style>\n",
       "<table border=\"1\" class=\"dataframe\">\n",
       "  <thead>\n",
       "    <tr style=\"text-align: right;\">\n",
       "      <th></th>\n",
       "      <th>user_id</th>\n",
       "      <th>event_dt</th>\n",
       "      <th>event_name</th>\n",
       "      <th>details</th>\n",
       "    </tr>\n",
       "  </thead>\n",
       "  <tbody>\n",
       "    <tr>\n",
       "      <th>0</th>\n",
       "      <td>E1BDDCE0DAFA2679</td>\n",
       "      <td>2020-12-07 20:22:03</td>\n",
       "      <td>purchase</td>\n",
       "      <td>99.99</td>\n",
       "    </tr>\n",
       "    <tr>\n",
       "      <th>1</th>\n",
       "      <td>7B6452F081F49504</td>\n",
       "      <td>2020-12-07 09:22:53</td>\n",
       "      <td>purchase</td>\n",
       "      <td>9.99</td>\n",
       "    </tr>\n",
       "    <tr>\n",
       "      <th>2</th>\n",
       "      <td>9CD9F34546DF254C</td>\n",
       "      <td>2020-12-07 12:59:29</td>\n",
       "      <td>purchase</td>\n",
       "      <td>4.99</td>\n",
       "    </tr>\n",
       "    <tr>\n",
       "      <th>3</th>\n",
       "      <td>96F27A054B191457</td>\n",
       "      <td>2020-12-07 04:02:40</td>\n",
       "      <td>purchase</td>\n",
       "      <td>4.99</td>\n",
       "    </tr>\n",
       "    <tr>\n",
       "      <th>4</th>\n",
       "      <td>1FD7660FDF94CA1F</td>\n",
       "      <td>2020-12-07 10:15:09</td>\n",
       "      <td>purchase</td>\n",
       "      <td>4.99</td>\n",
       "    </tr>\n",
       "  </tbody>\n",
       "</table>\n",
       "</div>"
      ],
      "text/plain": [
       "            user_id             event_dt event_name  details\n",
       "0  E1BDDCE0DAFA2679  2020-12-07 20:22:03   purchase    99.99\n",
       "1  7B6452F081F49504  2020-12-07 09:22:53   purchase     9.99\n",
       "2  9CD9F34546DF254C  2020-12-07 12:59:29   purchase     4.99\n",
       "3  96F27A054B191457  2020-12-07 04:02:40   purchase     4.99\n",
       "4  1FD7660FDF94CA1F  2020-12-07 10:15:09   purchase     4.99"
      ]
     },
     "metadata": {},
     "output_type": "display_data"
    },
    {
     "data": {
      "text/html": [
       "<div>\n",
       "<style scoped>\n",
       "    .dataframe tbody tr th:only-of-type {\n",
       "        vertical-align: middle;\n",
       "    }\n",
       "\n",
       "    .dataframe tbody tr th {\n",
       "        vertical-align: top;\n",
       "    }\n",
       "\n",
       "    .dataframe thead th {\n",
       "        text-align: right;\n",
       "    }\n",
       "</style>\n",
       "<table border=\"1\" class=\"dataframe\">\n",
       "  <thead>\n",
       "    <tr style=\"text-align: right;\">\n",
       "      <th></th>\n",
       "      <th>name</th>\n",
       "      <th>regions</th>\n",
       "      <th>start_dt</th>\n",
       "      <th>finish_dt</th>\n",
       "    </tr>\n",
       "  </thead>\n",
       "  <tbody>\n",
       "    <tr>\n",
       "      <th>0</th>\n",
       "      <td>Christmas&amp;New Year Promo</td>\n",
       "      <td>EU, N.America</td>\n",
       "      <td>2020-12-25</td>\n",
       "      <td>2021-01-03</td>\n",
       "    </tr>\n",
       "    <tr>\n",
       "      <th>1</th>\n",
       "      <td>St. Valentine's Day Giveaway</td>\n",
       "      <td>EU, CIS, APAC, N.America</td>\n",
       "      <td>2020-02-14</td>\n",
       "      <td>2020-02-16</td>\n",
       "    </tr>\n",
       "    <tr>\n",
       "      <th>2</th>\n",
       "      <td>St. Patric's Day Promo</td>\n",
       "      <td>EU, N.America</td>\n",
       "      <td>2020-03-17</td>\n",
       "      <td>2020-03-19</td>\n",
       "    </tr>\n",
       "    <tr>\n",
       "      <th>3</th>\n",
       "      <td>Easter Promo</td>\n",
       "      <td>EU, CIS, APAC, N.America</td>\n",
       "      <td>2020-04-12</td>\n",
       "      <td>2020-04-19</td>\n",
       "    </tr>\n",
       "    <tr>\n",
       "      <th>4</th>\n",
       "      <td>4th of July Promo</td>\n",
       "      <td>N.America</td>\n",
       "      <td>2020-07-04</td>\n",
       "      <td>2020-07-11</td>\n",
       "    </tr>\n",
       "  </tbody>\n",
       "</table>\n",
       "</div>"
      ],
      "text/plain": [
       "                           name                   regions    start_dt  \\\n",
       "0      Christmas&New Year Promo             EU, N.America  2020-12-25   \n",
       "1  St. Valentine's Day Giveaway  EU, CIS, APAC, N.America  2020-02-14   \n",
       "2        St. Patric's Day Promo             EU, N.America  2020-03-17   \n",
       "3                  Easter Promo  EU, CIS, APAC, N.America  2020-04-12   \n",
       "4             4th of July Promo                 N.America  2020-07-04   \n",
       "\n",
       "    finish_dt  \n",
       "0  2021-01-03  \n",
       "1  2020-02-16  \n",
       "2  2020-03-19  \n",
       "3  2020-04-19  \n",
       "4  2020-07-11  "
      ]
     },
     "metadata": {},
     "output_type": "display_data"
    },
    {
     "data": {
      "text/html": [
       "<div>\n",
       "<style scoped>\n",
       "    .dataframe tbody tr th:only-of-type {\n",
       "        vertical-align: middle;\n",
       "    }\n",
       "\n",
       "    .dataframe tbody tr th {\n",
       "        vertical-align: top;\n",
       "    }\n",
       "\n",
       "    .dataframe thead th {\n",
       "        text-align: right;\n",
       "    }\n",
       "</style>\n",
       "<table border=\"1\" class=\"dataframe\">\n",
       "  <thead>\n",
       "    <tr style=\"text-align: right;\">\n",
       "      <th></th>\n",
       "      <th>user_id</th>\n",
       "      <th>first_date</th>\n",
       "      <th>region</th>\n",
       "      <th>device</th>\n",
       "    </tr>\n",
       "  </thead>\n",
       "  <tbody>\n",
       "    <tr>\n",
       "      <th>0</th>\n",
       "      <td>D72A72121175D8BE</td>\n",
       "      <td>2020-12-07</td>\n",
       "      <td>EU</td>\n",
       "      <td>PC</td>\n",
       "    </tr>\n",
       "    <tr>\n",
       "      <th>1</th>\n",
       "      <td>F1C668619DFE6E65</td>\n",
       "      <td>2020-12-07</td>\n",
       "      <td>N.America</td>\n",
       "      <td>Android</td>\n",
       "    </tr>\n",
       "    <tr>\n",
       "      <th>2</th>\n",
       "      <td>2E1BF1D4C37EA01F</td>\n",
       "      <td>2020-12-07</td>\n",
       "      <td>EU</td>\n",
       "      <td>PC</td>\n",
       "    </tr>\n",
       "    <tr>\n",
       "      <th>3</th>\n",
       "      <td>50734A22C0C63768</td>\n",
       "      <td>2020-12-07</td>\n",
       "      <td>EU</td>\n",
       "      <td>iPhone</td>\n",
       "    </tr>\n",
       "    <tr>\n",
       "      <th>4</th>\n",
       "      <td>E1BDDCE0DAFA2679</td>\n",
       "      <td>2020-12-07</td>\n",
       "      <td>N.America</td>\n",
       "      <td>iPhone</td>\n",
       "    </tr>\n",
       "  </tbody>\n",
       "</table>\n",
       "</div>"
      ],
      "text/plain": [
       "            user_id  first_date     region   device\n",
       "0  D72A72121175D8BE  2020-12-07         EU       PC\n",
       "1  F1C668619DFE6E65  2020-12-07  N.America  Android\n",
       "2  2E1BF1D4C37EA01F  2020-12-07         EU       PC\n",
       "3  50734A22C0C63768  2020-12-07         EU   iPhone\n",
       "4  E1BDDCE0DAFA2679  2020-12-07  N.America   iPhone"
      ]
     },
     "metadata": {},
     "output_type": "display_data"
    },
    {
     "data": {
      "text/html": [
       "<div>\n",
       "<style scoped>\n",
       "    .dataframe tbody tr th:only-of-type {\n",
       "        vertical-align: middle;\n",
       "    }\n",
       "\n",
       "    .dataframe tbody tr th {\n",
       "        vertical-align: top;\n",
       "    }\n",
       "\n",
       "    .dataframe thead th {\n",
       "        text-align: right;\n",
       "    }\n",
       "</style>\n",
       "<table border=\"1\" class=\"dataframe\">\n",
       "  <thead>\n",
       "    <tr style=\"text-align: right;\">\n",
       "      <th></th>\n",
       "      <th>user_id</th>\n",
       "      <th>group</th>\n",
       "      <th>ab_test</th>\n",
       "    </tr>\n",
       "  </thead>\n",
       "  <tbody>\n",
       "    <tr>\n",
       "      <th>0</th>\n",
       "      <td>D1ABA3E2887B6A73</td>\n",
       "      <td>A</td>\n",
       "      <td>recommender_system_test</td>\n",
       "    </tr>\n",
       "    <tr>\n",
       "      <th>1</th>\n",
       "      <td>A7A3664BD6242119</td>\n",
       "      <td>A</td>\n",
       "      <td>recommender_system_test</td>\n",
       "    </tr>\n",
       "    <tr>\n",
       "      <th>2</th>\n",
       "      <td>DABC14FDDFADD29E</td>\n",
       "      <td>A</td>\n",
       "      <td>recommender_system_test</td>\n",
       "    </tr>\n",
       "    <tr>\n",
       "      <th>3</th>\n",
       "      <td>04988C5DF189632E</td>\n",
       "      <td>A</td>\n",
       "      <td>recommender_system_test</td>\n",
       "    </tr>\n",
       "    <tr>\n",
       "      <th>4</th>\n",
       "      <td>482F14783456D21B</td>\n",
       "      <td>B</td>\n",
       "      <td>recommender_system_test</td>\n",
       "    </tr>\n",
       "  </tbody>\n",
       "</table>\n",
       "</div>"
      ],
      "text/plain": [
       "            user_id group                  ab_test\n",
       "0  D1ABA3E2887B6A73     A  recommender_system_test\n",
       "1  A7A3664BD6242119     A  recommender_system_test\n",
       "2  DABC14FDDFADD29E     A  recommender_system_test\n",
       "3  04988C5DF189632E     A  recommender_system_test\n",
       "4  482F14783456D21B     B  recommender_system_test"
      ]
     },
     "metadata": {},
     "output_type": "display_data"
    }
   ],
   "source": [
    "# Посмотрю какие есть данные\n",
    "\n",
    "display(actions_new_users.head())\n",
    "display(marketing_event.head())\n",
    "display(new_users.head())\n",
    "display(test_participants.head())"
   ]
  },
  {
   "cell_type": "code",
   "execution_count": 4,
   "metadata": {},
   "outputs": [
    {
     "data": {
      "text/plain": [
       "'actions_new_users'"
      ]
     },
     "metadata": {},
     "output_type": "display_data"
    },
    {
     "name": "stdout",
     "output_type": "stream",
     "text": [
      "<class 'pandas.core.frame.DataFrame'>\n",
      "RangeIndex: 440317 entries, 0 to 440316\n",
      "Data columns (total 4 columns):\n",
      " #   Column      Non-Null Count   Dtype  \n",
      "---  ------      --------------   -----  \n",
      " 0   user_id     440317 non-null  object \n",
      " 1   event_dt    440317 non-null  object \n",
      " 2   event_name  440317 non-null  object \n",
      " 3   details     62740 non-null   float64\n",
      "dtypes: float64(1), object(3)\n",
      "memory usage: 13.4+ MB\n"
     ]
    },
    {
     "data": {
      "text/plain": [
       "None"
      ]
     },
     "metadata": {},
     "output_type": "display_data"
    },
    {
     "data": {
      "text/plain": [
       "'marketing_event'"
      ]
     },
     "metadata": {},
     "output_type": "display_data"
    },
    {
     "name": "stdout",
     "output_type": "stream",
     "text": [
      "<class 'pandas.core.frame.DataFrame'>\n",
      "RangeIndex: 14 entries, 0 to 13\n",
      "Data columns (total 4 columns):\n",
      " #   Column     Non-Null Count  Dtype \n",
      "---  ------     --------------  ----- \n",
      " 0   name       14 non-null     object\n",
      " 1   regions    14 non-null     object\n",
      " 2   start_dt   14 non-null     object\n",
      " 3   finish_dt  14 non-null     object\n",
      "dtypes: object(4)\n",
      "memory usage: 576.0+ bytes\n"
     ]
    },
    {
     "data": {
      "text/plain": [
       "None"
      ]
     },
     "metadata": {},
     "output_type": "display_data"
    },
    {
     "data": {
      "text/plain": [
       "'new_users'"
      ]
     },
     "metadata": {},
     "output_type": "display_data"
    },
    {
     "name": "stdout",
     "output_type": "stream",
     "text": [
      "<class 'pandas.core.frame.DataFrame'>\n",
      "RangeIndex: 61733 entries, 0 to 61732\n",
      "Data columns (total 4 columns):\n",
      " #   Column      Non-Null Count  Dtype \n",
      "---  ------      --------------  ----- \n",
      " 0   user_id     61733 non-null  object\n",
      " 1   first_date  61733 non-null  object\n",
      " 2   region      61733 non-null  object\n",
      " 3   device      61733 non-null  object\n",
      "dtypes: object(4)\n",
      "memory usage: 1.9+ MB\n"
     ]
    },
    {
     "data": {
      "text/plain": [
       "None"
      ]
     },
     "metadata": {},
     "output_type": "display_data"
    },
    {
     "data": {
      "text/plain": [
       "'test_participants'"
      ]
     },
     "metadata": {},
     "output_type": "display_data"
    },
    {
     "name": "stdout",
     "output_type": "stream",
     "text": [
      "<class 'pandas.core.frame.DataFrame'>\n",
      "RangeIndex: 18268 entries, 0 to 18267\n",
      "Data columns (total 3 columns):\n",
      " #   Column   Non-Null Count  Dtype \n",
      "---  ------   --------------  ----- \n",
      " 0   user_id  18268 non-null  object\n",
      " 1   group    18268 non-null  object\n",
      " 2   ab_test  18268 non-null  object\n",
      "dtypes: object(3)\n",
      "memory usage: 428.3+ KB\n"
     ]
    },
    {
     "data": {
      "text/plain": [
       "None"
      ]
     },
     "metadata": {},
     "output_type": "display_data"
    }
   ],
   "source": [
    "# Посмотрю информацию по типам столбцов\n",
    "\n",
    "display('actions_new_users')\n",
    "display(actions_new_users.info())\n",
    "\n",
    "display('marketing_event')\n",
    "display(marketing_event.info())\n",
    "\n",
    "display('new_users')\n",
    "display(new_users.info())\n",
    "\n",
    "display('test_participants')\n",
    "display(test_participants.info())"
   ]
  },
  {
   "cell_type": "markdown",
   "metadata": {},
   "source": [
    "Необходимо изменить тип столбцов с датой в датасетах.\n",
    "\n",
    "Посмотрю, за какой период есть данные по новым пользователям и совершенным ими событиям."
   ]
  },
  {
   "cell_type": "code",
   "execution_count": 5,
   "metadata": {},
   "outputs": [
    {
     "data": {
      "text/plain": [
       "'Минимальная дата привлечения новых пользователей:'"
      ]
     },
     "metadata": {},
     "output_type": "display_data"
    },
    {
     "data": {
      "text/plain": [
       "'2020-12-07'"
      ]
     },
     "metadata": {},
     "output_type": "display_data"
    },
    {
     "data": {
      "text/plain": [
       "'Максимальная дата привлечения новых пользователей:'"
      ]
     },
     "metadata": {},
     "output_type": "display_data"
    },
    {
     "data": {
      "text/plain": [
       "'2020-12-23'"
      ]
     },
     "metadata": {},
     "output_type": "display_data"
    }
   ],
   "source": [
    "display('Минимальная дата привлечения новых пользователей:', new_users['first_date'].min())\n",
    "display('Максимальная дата привлечения новых пользователей:', new_users['first_date'].max())"
   ]
  },
  {
   "cell_type": "code",
   "execution_count": 6,
   "metadata": {},
   "outputs": [
    {
     "data": {
      "text/plain": [
       "'Минимальная дата совершения событий пользователями:'"
      ]
     },
     "metadata": {},
     "output_type": "display_data"
    },
    {
     "data": {
      "text/plain": [
       "'2020-12-07 00:00:33'"
      ]
     },
     "metadata": {},
     "output_type": "display_data"
    },
    {
     "data": {
      "text/plain": [
       "'Максимальная дата совершения событий пользователями:'"
      ]
     },
     "metadata": {},
     "output_type": "display_data"
    },
    {
     "data": {
      "text/plain": [
       "'2020-12-30 23:36:33'"
      ]
     },
     "metadata": {},
     "output_type": "display_data"
    }
   ],
   "source": [
    "display('Минимальная дата совершения событий пользователями:',actions_new_users['event_dt'].min())\n",
    "display('Максимальная дата совершения событий пользователями:',actions_new_users['event_dt'].max())"
   ]
  },
  {
   "cell_type": "markdown",
   "metadata": {},
   "source": [
    "**Вывод**\n",
    "\n",
    "Датасет 'actions_new_users' - содержит информацию о действиях новых пользователей. Всего в датасете 440317 строк. Есть данные за период совершения событий с 7 декабря 2020 по 30 декабря 2020 года. Имеет некорректный тип столбца с датой.\n",
    "\n",
    "Датасет 'marketing_event' - содержит информацию о маркетинговых событиях на 2020 год. Имеет некорректный тип столбцов с датой.\n",
    "\n",
    "Датасет 'new_users' - содержит информацию о пользователях, зарегистрировавшихся с 7 по 21 декабря 2020 года. Всего в датасете 61733 строк. Имеет некорректный тип столбца с датой.\n",
    "\n",
    "Датасет 'test_participants' - это таблица участников тестов, содержит 18268 строк.\n",
    "\n",
    "Проведу предобработку данных."
   ]
  },
  {
   "cell_type": "markdown",
   "metadata": {},
   "source": [
    "## Предобработка данных"
   ]
  },
  {
   "cell_type": "markdown",
   "metadata": {},
   "source": [
    "### Корректировка типов столбцов"
   ]
  },
  {
   "cell_type": "code",
   "execution_count": 7,
   "metadata": {},
   "outputs": [],
   "source": [
    "# Преобразую типы столбцов\n",
    "\n",
    "actions_new_users['event_dt'] = pd.to_datetime(actions_new_users['event_dt'], format='%Y-%m-%d %H:%M:%S.%f') # дата и время\n",
    "\n",
    "marketing_event['start_dt'] = pd.to_datetime(marketing_event['start_dt'])\n",
    "\n",
    "marketing_event['finish_dt'] = pd.to_datetime(marketing_event['finish_dt'])\n",
    "\n",
    "new_users['first_date'] = pd.to_datetime(new_users['first_date'])"
   ]
  },
  {
   "cell_type": "code",
   "execution_count": 8,
   "metadata": {},
   "outputs": [
    {
     "name": "stdout",
     "output_type": "stream",
     "text": [
      "<class 'pandas.core.frame.DataFrame'>\n",
      "RangeIndex: 440317 entries, 0 to 440316\n",
      "Data columns (total 4 columns):\n",
      " #   Column      Non-Null Count   Dtype         \n",
      "---  ------      --------------   -----         \n",
      " 0   user_id     440317 non-null  object        \n",
      " 1   event_dt    440317 non-null  datetime64[ns]\n",
      " 2   event_name  440317 non-null  object        \n",
      " 3   details     62740 non-null   float64       \n",
      "dtypes: datetime64[ns](1), float64(1), object(2)\n",
      "memory usage: 13.4+ MB\n"
     ]
    },
    {
     "data": {
      "text/plain": [
       "None"
      ]
     },
     "metadata": {},
     "output_type": "display_data"
    },
    {
     "name": "stdout",
     "output_type": "stream",
     "text": [
      "<class 'pandas.core.frame.DataFrame'>\n",
      "RangeIndex: 14 entries, 0 to 13\n",
      "Data columns (total 4 columns):\n",
      " #   Column     Non-Null Count  Dtype         \n",
      "---  ------     --------------  -----         \n",
      " 0   name       14 non-null     object        \n",
      " 1   regions    14 non-null     object        \n",
      " 2   start_dt   14 non-null     datetime64[ns]\n",
      " 3   finish_dt  14 non-null     datetime64[ns]\n",
      "dtypes: datetime64[ns](2), object(2)\n",
      "memory usage: 576.0+ bytes\n"
     ]
    },
    {
     "data": {
      "text/plain": [
       "None"
      ]
     },
     "metadata": {},
     "output_type": "display_data"
    },
    {
     "name": "stdout",
     "output_type": "stream",
     "text": [
      "<class 'pandas.core.frame.DataFrame'>\n",
      "RangeIndex: 61733 entries, 0 to 61732\n",
      "Data columns (total 4 columns):\n",
      " #   Column      Non-Null Count  Dtype         \n",
      "---  ------      --------------  -----         \n",
      " 0   user_id     61733 non-null  object        \n",
      " 1   first_date  61733 non-null  datetime64[ns]\n",
      " 2   region      61733 non-null  object        \n",
      " 3   device      61733 non-null  object        \n",
      "dtypes: datetime64[ns](1), object(3)\n",
      "memory usage: 1.9+ MB\n"
     ]
    },
    {
     "data": {
      "text/plain": [
       "None"
      ]
     },
     "metadata": {},
     "output_type": "display_data"
    }
   ],
   "source": [
    "# Проверю\n",
    "\n",
    "display(actions_new_users.info())\n",
    "display(marketing_event.info())\n",
    "display(new_users.info())"
   ]
  },
  {
   "cell_type": "markdown",
   "metadata": {},
   "source": [
    "### Обработка дубликатов"
   ]
  },
  {
   "cell_type": "code",
   "execution_count": 9,
   "metadata": {},
   "outputs": [
    {
     "data": {
      "text/plain": [
       "0"
      ]
     },
     "metadata": {},
     "output_type": "display_data"
    },
    {
     "data": {
      "text/plain": [
       "0"
      ]
     },
     "metadata": {},
     "output_type": "display_data"
    },
    {
     "data": {
      "text/plain": [
       "0"
      ]
     },
     "metadata": {},
     "output_type": "display_data"
    },
    {
     "data": {
      "text/plain": [
       "0"
      ]
     },
     "metadata": {},
     "output_type": "display_data"
    }
   ],
   "source": [
    "# проверю дубликаты\n",
    "\n",
    "display(actions_new_users.duplicated().sum())\n",
    "display(marketing_event.duplicated().sum())\n",
    "display(new_users.duplicated().sum())\n",
    "display(test_participants.duplicated().sum())"
   ]
  },
  {
   "cell_type": "markdown",
   "metadata": {},
   "source": [
    "### Обработка пропущенных значений"
   ]
  },
  {
   "cell_type": "code",
   "execution_count": 10,
   "metadata": {},
   "outputs": [
    {
     "data": {
      "text/plain": [
       "user_id            0\n",
       "event_dt           0\n",
       "event_name         0\n",
       "details       377577\n",
       "dtype: int64"
      ]
     },
     "metadata": {},
     "output_type": "display_data"
    },
    {
     "data": {
      "text/plain": [
       "name         0\n",
       "regions      0\n",
       "start_dt     0\n",
       "finish_dt    0\n",
       "dtype: int64"
      ]
     },
     "metadata": {},
     "output_type": "display_data"
    },
    {
     "data": {
      "text/plain": [
       "user_id       0\n",
       "first_date    0\n",
       "region        0\n",
       "device        0\n",
       "dtype: int64"
      ]
     },
     "metadata": {},
     "output_type": "display_data"
    },
    {
     "data": {
      "text/plain": [
       "user_id    0\n",
       "group      0\n",
       "ab_test    0\n",
       "dtype: int64"
      ]
     },
     "metadata": {},
     "output_type": "display_data"
    }
   ],
   "source": [
    "# проверю пропуски\n",
    "\n",
    "display(actions_new_users.isna().sum())\n",
    "display(marketing_event.isna().sum())\n",
    "display(new_users.isna().sum())\n",
    "display(test_participants.isna().sum())"
   ]
  },
  {
   "cell_type": "code",
   "execution_count": 11,
   "metadata": {},
   "outputs": [
    {
     "data": {
      "text/plain": [
       "array([ 99.99,   9.99,   4.99, 499.99,    nan])"
      ]
     },
     "execution_count": 11,
     "metadata": {},
     "output_type": "execute_result"
    }
   ],
   "source": [
    "# Посмотрю столбец с пропусками\n",
    "\n",
    "actions_new_users['details'].unique()"
   ]
  },
  {
   "cell_type": "code",
   "execution_count": 12,
   "metadata": {},
   "outputs": [
    {
     "data": {
      "text/plain": [
       "array(['purchase', 'product_cart', 'product_page', 'login'], dtype=object)"
      ]
     },
     "execution_count": 12,
     "metadata": {},
     "output_type": "execute_result"
    }
   ],
   "source": [
    "# Посмотрю столбец с событиями\n",
    "\n",
    "actions_new_users['event_name'].unique()"
   ]
  },
  {
   "cell_type": "code",
   "execution_count": 13,
   "metadata": {},
   "outputs": [
    {
     "data": {
      "text/plain": [
       "event_name\n",
       "login           189552\n",
       "product_cart     62462\n",
       "product_page    125563\n",
       "Name: user_id, dtype: int64"
      ]
     },
     "execution_count": 13,
     "metadata": {},
     "output_type": "execute_result"
    }
   ],
   "source": [
    "# Распределение пропусков по событиям\n",
    "\n",
    "a = actions_new_users.query('details.isna()')\n",
    "a.groupby('event_name')['user_id'].count()"
   ]
  },
  {
   "cell_type": "markdown",
   "metadata": {},
   "source": [
    "### Проверка категориальных данных"
   ]
  },
  {
   "cell_type": "code",
   "execution_count": 14,
   "metadata": {},
   "outputs": [
    {
     "data": {
      "text/plain": [
       "array(['EU', 'N.America', 'APAC', 'CIS'], dtype=object)"
      ]
     },
     "execution_count": 14,
     "metadata": {},
     "output_type": "execute_result"
    }
   ],
   "source": [
    "# Посмотрю, какие есть регионы в данных\n",
    "\n",
    "new_users['region'].unique()"
   ]
  },
  {
   "cell_type": "code",
   "execution_count": 15,
   "metadata": {},
   "outputs": [
    {
     "data": {
      "text/plain": [
       "array(['PC', 'Android', 'iPhone', 'Mac'], dtype=object)"
      ]
     },
     "execution_count": 15,
     "metadata": {},
     "output_type": "execute_result"
    }
   ],
   "source": [
    "# Посмотрю, какие есть девайсы в данных\n",
    "\n",
    "new_users['device'].unique()"
   ]
  },
  {
   "cell_type": "code",
   "execution_count": 16,
   "metadata": {},
   "outputs": [
    {
     "data": {
      "text/plain": [
       "array(['recommender_system_test', 'interface_eu_test'], dtype=object)"
      ]
     },
     "execution_count": 16,
     "metadata": {},
     "output_type": "execute_result"
    }
   ],
   "source": [
    "# О каких тестах есть информация\n",
    "\n",
    "test_participants['ab_test'].unique()"
   ]
  },
  {
   "cell_type": "markdown",
   "metadata": {},
   "source": [
    "**Вывод**\n",
    "\n",
    "Была проведена следующая предобработка данных:\n",
    "\n",
    "- Изменен тип столбцов actions_new_users ['event_dt'], marketing_event['start_dt'], marketing_event['finish_dt'], new_users['first_date'] на временной тип данных.\n",
    "- Явных дубликатов не обнаружено. \n",
    "- Пропуски обнаружены в датасете с событиями, в столбце с дополнительными данными о событии. Пропусков нет только в событии 'purchase', в этом поле хранится стоимость покупки в долларах. Остальные события не подразумевают оплату.\n",
    "- Есть данные по пользователям из 'EU', 'N.America', 'APAC', 'CIS'.\n",
    "- Есть данные по девайсам пользователей, с которых они заходили на сайт: 'PC', 'Android', 'iPhone', 'Mac'.\n",
    "- В датасете 'test_participants' хранятся данные по двум тестам: интересуещего нас 'recommender_system_test' и другого -  'interface_eu_test'."
   ]
  },
  {
   "cell_type": "markdown",
   "metadata": {},
   "source": [
    "## Проверка теста на корректность и соответствие ТЗ"
   ]
  },
  {
   "cell_type": "markdown",
   "metadata": {},
   "source": [
    "### Соответствие ТЗ - название теста"
   ]
  },
  {
   "cell_type": "markdown",
   "metadata": {},
   "source": [
    "Нам необходим тест recommender_system_test. Посмотрю, есть ли по нему данные и сколько их."
   ]
  },
  {
   "cell_type": "code",
   "execution_count": 17,
   "metadata": {},
   "outputs": [
    {
     "data": {
      "text/html": [
       "<div>\n",
       "<style scoped>\n",
       "    .dataframe tbody tr th:only-of-type {\n",
       "        vertical-align: middle;\n",
       "    }\n",
       "\n",
       "    .dataframe tbody tr th {\n",
       "        vertical-align: top;\n",
       "    }\n",
       "\n",
       "    .dataframe thead th {\n",
       "        text-align: right;\n",
       "    }\n",
       "</style>\n",
       "<table border=\"1\" class=\"dataframe\">\n",
       "  <thead>\n",
       "    <tr style=\"text-align: right;\">\n",
       "      <th></th>\n",
       "      <th>user_id</th>\n",
       "      <th>group</th>\n",
       "      <th>ab_test</th>\n",
       "    </tr>\n",
       "  </thead>\n",
       "  <tbody>\n",
       "    <tr>\n",
       "      <th>0</th>\n",
       "      <td>D1ABA3E2887B6A73</td>\n",
       "      <td>A</td>\n",
       "      <td>recommender_system_test</td>\n",
       "    </tr>\n",
       "    <tr>\n",
       "      <th>1</th>\n",
       "      <td>A7A3664BD6242119</td>\n",
       "      <td>A</td>\n",
       "      <td>recommender_system_test</td>\n",
       "    </tr>\n",
       "    <tr>\n",
       "      <th>2</th>\n",
       "      <td>DABC14FDDFADD29E</td>\n",
       "      <td>A</td>\n",
       "      <td>recommender_system_test</td>\n",
       "    </tr>\n",
       "  </tbody>\n",
       "</table>\n",
       "</div>"
      ],
      "text/plain": [
       "            user_id group                  ab_test\n",
       "0  D1ABA3E2887B6A73     A  recommender_system_test\n",
       "1  A7A3664BD6242119     A  recommender_system_test\n",
       "2  DABC14FDDFADD29E     A  recommender_system_test"
      ]
     },
     "execution_count": 17,
     "metadata": {},
     "output_type": "execute_result"
    }
   ],
   "source": [
    "test_participants.head(3)"
   ]
  },
  {
   "cell_type": "code",
   "execution_count": 18,
   "metadata": {},
   "outputs": [
    {
     "data": {
      "text/plain": [
       "array(['recommender_system_test', 'interface_eu_test'], dtype=object)"
      ]
     },
     "execution_count": 18,
     "metadata": {},
     "output_type": "execute_result"
    }
   ],
   "source": [
    "test_participants['ab_test'].unique()"
   ]
  },
  {
   "cell_type": "code",
   "execution_count": 19,
   "metadata": {},
   "outputs": [
    {
     "data": {
      "text/plain": [
       "6701"
      ]
     },
     "execution_count": 19,
     "metadata": {},
     "output_type": "execute_result"
    }
   ],
   "source": [
    "recommender_system_test = test_participants.query('ab_test == \"recommender_system_test\"')\n",
    "recommender_system_test.shape[0]"
   ]
  },
  {
   "cell_type": "markdown",
   "metadata": {},
   "source": [
    "Данные есть, 6701 строка."
   ]
  },
  {
   "cell_type": "markdown",
   "metadata": {},
   "source": [
    "### Соответствие ТЗ - даты"
   ]
  },
  {
   "cell_type": "markdown",
   "metadata": {},
   "source": [
    "По техническому заданию дата запуска теста: 2020-12-07\n",
    "\n",
    "Дата остановки набора новых пользователей: 2020-12-21"
   ]
  },
  {
   "cell_type": "code",
   "execution_count": 20,
   "metadata": {},
   "outputs": [],
   "source": [
    "#Добавлю к таблице с тестом регион пользователей, дату и девайс\n",
    "\n",
    "user = new_users.merge(test_participants, on='user_id', how='right')"
   ]
  },
  {
   "cell_type": "code",
   "execution_count": 21,
   "metadata": {},
   "outputs": [],
   "source": [
    "user_ab = user.query('ab_test==\"recommender_system_test\"')"
   ]
  },
  {
   "cell_type": "code",
   "execution_count": 22,
   "metadata": {},
   "outputs": [
    {
     "data": {
      "text/plain": [
       "16666"
      ]
     },
     "execution_count": 22,
     "metadata": {},
     "output_type": "execute_result"
    }
   ],
   "source": [
    "# Для начала посмотрю, сколько изначально уникальных пользователей\n",
    "\n",
    "user['user_id'].nunique()"
   ]
  },
  {
   "cell_type": "code",
   "execution_count": 23,
   "metadata": {},
   "outputs": [
    {
     "data": {
      "text/plain": [
       "Timestamp('2020-12-23 00:00:00')"
      ]
     },
     "execution_count": 23,
     "metadata": {},
     "output_type": "execute_result"
    }
   ],
   "source": [
    "user['first_date'].max()"
   ]
  },
  {
   "cell_type": "markdown",
   "metadata": {},
   "source": [
    "Максимальная дата 23 декабря, а нам нужно максимум 21 декабря. Значит, произошла ошибка при наборе нужных пользователей в тест. Удалю лишних пользователей."
   ]
  },
  {
   "cell_type": "code",
   "execution_count": 24,
   "metadata": {},
   "outputs": [],
   "source": [
    "user = user.query('first_date != \"2020-12-23T00:00:00.000000000\"')\n",
    "user = user.query('first_date != \"2020-12-22T00:00:00.000000000\"')"
   ]
  },
  {
   "cell_type": "code",
   "execution_count": 25,
   "metadata": {},
   "outputs": [
    {
     "data": {
      "text/plain": [
       "15664"
      ]
     },
     "execution_count": 25,
     "metadata": {},
     "output_type": "execute_result"
    }
   ],
   "source": [
    "# Сколько осталось\n",
    "\n",
    "user['user_id'].nunique()"
   ]
  },
  {
   "cell_type": "code",
   "execution_count": 26,
   "metadata": {},
   "outputs": [
    {
     "data": {
      "text/plain": [
       "Timestamp('2020-12-21 00:00:00')"
      ]
     },
     "execution_count": 26,
     "metadata": {},
     "output_type": "execute_result"
    }
   ],
   "source": [
    "user['first_date'].max()"
   ]
  },
  {
   "cell_type": "markdown",
   "metadata": {},
   "source": [
    "### Соответствие ТЗ - 15% новых пользователей из EU"
   ]
  },
  {
   "cell_type": "code",
   "execution_count": 27,
   "metadata": {},
   "outputs": [
    {
     "data": {
      "text/html": [
       "<div>\n",
       "<style scoped>\n",
       "    .dataframe tbody tr th:only-of-type {\n",
       "        vertical-align: middle;\n",
       "    }\n",
       "\n",
       "    .dataframe tbody tr th {\n",
       "        vertical-align: top;\n",
       "    }\n",
       "\n",
       "    .dataframe thead th {\n",
       "        text-align: right;\n",
       "    }\n",
       "</style>\n",
       "<table border=\"1\" class=\"dataframe\">\n",
       "  <thead>\n",
       "    <tr style=\"text-align: right;\">\n",
       "      <th></th>\n",
       "      <th>user_id</th>\n",
       "      <th>first_date</th>\n",
       "      <th>region</th>\n",
       "      <th>device</th>\n",
       "      <th>group</th>\n",
       "      <th>ab_test</th>\n",
       "    </tr>\n",
       "  </thead>\n",
       "  <tbody>\n",
       "    <tr>\n",
       "      <th>0</th>\n",
       "      <td>D1ABA3E2887B6A73</td>\n",
       "      <td>2020-12-07</td>\n",
       "      <td>EU</td>\n",
       "      <td>PC</td>\n",
       "      <td>A</td>\n",
       "      <td>recommender_system_test</td>\n",
       "    </tr>\n",
       "    <tr>\n",
       "      <th>1</th>\n",
       "      <td>A7A3664BD6242119</td>\n",
       "      <td>2020-12-20</td>\n",
       "      <td>EU</td>\n",
       "      <td>iPhone</td>\n",
       "      <td>A</td>\n",
       "      <td>recommender_system_test</td>\n",
       "    </tr>\n",
       "    <tr>\n",
       "      <th>2</th>\n",
       "      <td>DABC14FDDFADD29E</td>\n",
       "      <td>2020-12-08</td>\n",
       "      <td>EU</td>\n",
       "      <td>Mac</td>\n",
       "      <td>A</td>\n",
       "      <td>recommender_system_test</td>\n",
       "    </tr>\n",
       "  </tbody>\n",
       "</table>\n",
       "</div>"
      ],
      "text/plain": [
       "            user_id first_date region  device group                  ab_test\n",
       "0  D1ABA3E2887B6A73 2020-12-07     EU      PC     A  recommender_system_test\n",
       "1  A7A3664BD6242119 2020-12-20     EU  iPhone     A  recommender_system_test\n",
       "2  DABC14FDDFADD29E 2020-12-08     EU     Mac     A  recommender_system_test"
      ]
     },
     "execution_count": 27,
     "metadata": {},
     "output_type": "execute_result"
    }
   ],
   "source": [
    "# Выберу нужный тест и проверю на соответствие ТЗ 15% новых пользователей из EU\n",
    "\n",
    "recommender_system_test = user.query('ab_test == \"recommender_system_test\"')\n",
    "recommender_system_test.head(3)"
   ]
  },
  {
   "cell_type": "code",
   "execution_count": 28,
   "metadata": {},
   "outputs": [
    {
     "data": {
      "text/plain": [
       "6351"
      ]
     },
     "execution_count": 28,
     "metadata": {},
     "output_type": "execute_result"
    }
   ],
   "source": [
    "recommender_system_test = recommender_system_test.query('region == \"EU\"')\n",
    "recommender_system_test.shape[0]"
   ]
  },
  {
   "cell_type": "code",
   "execution_count": 29,
   "metadata": {},
   "outputs": [
    {
     "data": {
      "text/plain": [
       "region\n",
       "APAC          3153\n",
       "CIS           3155\n",
       "EU           46270\n",
       "N.America     9155\n",
       "Name: user_id, dtype: int64"
      ]
     },
     "execution_count": 29,
     "metadata": {},
     "output_type": "execute_result"
    }
   ],
   "source": [
    "new_users.groupby('region')['user_id'].nunique()"
   ]
  },
  {
   "cell_type": "code",
   "execution_count": 30,
   "metadata": {},
   "outputs": [
    {
     "data": {
      "text/plain": [
       "46270"
      ]
     },
     "execution_count": 30,
     "metadata": {},
     "output_type": "execute_result"
    }
   ],
   "source": [
    "n = new_users.query('region == \"EU\"')\n",
    "n.shape[0]"
   ]
  },
  {
   "cell_type": "code",
   "execution_count": 31,
   "metadata": {},
   "outputs": [
    {
     "data": {
      "text/plain": [
       "'Процент новых пользователей из EU в тесте:'"
      ]
     },
     "metadata": {},
     "output_type": "display_data"
    },
    {
     "data": {
      "text/plain": [
       "13.73"
      ]
     },
     "metadata": {},
     "output_type": "display_data"
    }
   ],
   "source": [
    "display('Процент новых пользователей из EU в тесте:', round((recommender_system_test.shape[0]/n.shape[0]*100),2))"
   ]
  },
  {
   "cell_type": "markdown",
   "metadata": {},
   "source": [
    "После очистки пользователей по дате, процент новых пользователей из EU в тесте составляет 13.73%"
   ]
  },
  {
   "cell_type": "markdown",
   "metadata": {},
   "source": [
    "### Соответствие ТЗ - аудитория теста"
   ]
  },
  {
   "cell_type": "code",
   "execution_count": 32,
   "metadata": {},
   "outputs": [
    {
     "data": {
      "text/html": [
       "<div>\n",
       "<style scoped>\n",
       "    .dataframe tbody tr th:only-of-type {\n",
       "        vertical-align: middle;\n",
       "    }\n",
       "\n",
       "    .dataframe tbody tr th {\n",
       "        vertical-align: top;\n",
       "    }\n",
       "\n",
       "    .dataframe thead th {\n",
       "        text-align: right;\n",
       "    }\n",
       "</style>\n",
       "<table border=\"1\" class=\"dataframe\">\n",
       "  <thead>\n",
       "    <tr style=\"text-align: right;\">\n",
       "      <th></th>\n",
       "      <th>user_id</th>\n",
       "      <th>first_date</th>\n",
       "      <th>region</th>\n",
       "      <th>device</th>\n",
       "      <th>group</th>\n",
       "      <th>ab_test</th>\n",
       "    </tr>\n",
       "  </thead>\n",
       "  <tbody>\n",
       "    <tr>\n",
       "      <th>0</th>\n",
       "      <td>D1ABA3E2887B6A73</td>\n",
       "      <td>2020-12-07</td>\n",
       "      <td>EU</td>\n",
       "      <td>PC</td>\n",
       "      <td>A</td>\n",
       "      <td>recommender_system_test</td>\n",
       "    </tr>\n",
       "    <tr>\n",
       "      <th>1</th>\n",
       "      <td>A7A3664BD6242119</td>\n",
       "      <td>2020-12-20</td>\n",
       "      <td>EU</td>\n",
       "      <td>iPhone</td>\n",
       "      <td>A</td>\n",
       "      <td>recommender_system_test</td>\n",
       "    </tr>\n",
       "    <tr>\n",
       "      <th>2</th>\n",
       "      <td>DABC14FDDFADD29E</td>\n",
       "      <td>2020-12-08</td>\n",
       "      <td>EU</td>\n",
       "      <td>Mac</td>\n",
       "      <td>A</td>\n",
       "      <td>recommender_system_test</td>\n",
       "    </tr>\n",
       "  </tbody>\n",
       "</table>\n",
       "</div>"
      ],
      "text/plain": [
       "            user_id first_date region  device group                  ab_test\n",
       "0  D1ABA3E2887B6A73 2020-12-07     EU      PC     A  recommender_system_test\n",
       "1  A7A3664BD6242119 2020-12-20     EU  iPhone     A  recommender_system_test\n",
       "2  DABC14FDDFADD29E 2020-12-08     EU     Mac     A  recommender_system_test"
      ]
     },
     "execution_count": 32,
     "metadata": {},
     "output_type": "execute_result"
    }
   ],
   "source": [
    "# Очищенный датасет 1 тест\n",
    "\n",
    "recommender_system_test.head(3)"
   ]
  },
  {
   "cell_type": "code",
   "execution_count": 33,
   "metadata": {},
   "outputs": [
    {
     "data": {
      "text/plain": [
       "6351"
      ]
     },
     "execution_count": 33,
     "metadata": {},
     "output_type": "execute_result"
    }
   ],
   "source": [
    "# Сколько в нем участников\n",
    "\n",
    "recommender_system_test['user_id'].nunique()"
   ]
  },
  {
   "cell_type": "code",
   "execution_count": 34,
   "metadata": {},
   "outputs": [
    {
     "data": {
      "text/plain": [
       "10565"
      ]
     },
     "execution_count": 34,
     "metadata": {},
     "output_type": "execute_result"
    }
   ],
   "source": [
    "# Сколько участников во втором тесте\n",
    "\n",
    "user_2 = user.query('ab_test==\"interface_eu_test\"')\n",
    "user_2['user_id'].nunique()"
   ]
  },
  {
   "cell_type": "markdown",
   "metadata": {},
   "source": [
    "Практически в два раза больше участников во втором тесте."
   ]
  },
  {
   "cell_type": "code",
   "execution_count": 35,
   "metadata": {},
   "outputs": [
    {
     "data": {
      "text/html": [
       "<div>\n",
       "<style scoped>\n",
       "    .dataframe tbody tr th:only-of-type {\n",
       "        vertical-align: middle;\n",
       "    }\n",
       "\n",
       "    .dataframe tbody tr th {\n",
       "        vertical-align: top;\n",
       "    }\n",
       "\n",
       "    .dataframe thead th {\n",
       "        text-align: right;\n",
       "    }\n",
       "</style>\n",
       "<table border=\"1\" class=\"dataframe\">\n",
       "  <thead>\n",
       "    <tr style=\"text-align: right;\">\n",
       "      <th></th>\n",
       "      <th>user_id</th>\n",
       "      <th>first_date</th>\n",
       "      <th>region</th>\n",
       "      <th>device</th>\n",
       "      <th>group</th>\n",
       "      <th>ab_test</th>\n",
       "    </tr>\n",
       "  </thead>\n",
       "  <tbody>\n",
       "    <tr>\n",
       "      <th>0</th>\n",
       "      <td>D1ABA3E2887B6A73</td>\n",
       "      <td>2020-12-07</td>\n",
       "      <td>EU</td>\n",
       "      <td>PC</td>\n",
       "      <td>A</td>\n",
       "      <td>recommender_system_test</td>\n",
       "    </tr>\n",
       "    <tr>\n",
       "      <th>1</th>\n",
       "      <td>A7A3664BD6242119</td>\n",
       "      <td>2020-12-20</td>\n",
       "      <td>EU</td>\n",
       "      <td>iPhone</td>\n",
       "      <td>A</td>\n",
       "      <td>recommender_system_test</td>\n",
       "    </tr>\n",
       "    <tr>\n",
       "      <th>2</th>\n",
       "      <td>DABC14FDDFADD29E</td>\n",
       "      <td>2020-12-08</td>\n",
       "      <td>EU</td>\n",
       "      <td>Mac</td>\n",
       "      <td>A</td>\n",
       "      <td>recommender_system_test</td>\n",
       "    </tr>\n",
       "  </tbody>\n",
       "</table>\n",
       "</div>"
      ],
      "text/plain": [
       "            user_id first_date region  device group                  ab_test\n",
       "0  D1ABA3E2887B6A73 2020-12-07     EU      PC     A  recommender_system_test\n",
       "1  A7A3664BD6242119 2020-12-20     EU  iPhone     A  recommender_system_test\n",
       "2  DABC14FDDFADD29E 2020-12-08     EU     Mac     A  recommender_system_test"
      ]
     },
     "execution_count": 35,
     "metadata": {},
     "output_type": "execute_result"
    }
   ],
   "source": [
    "# Сырой датасет 2 теста\n",
    "\n",
    "user = user.query('region == \"EU\"')\n",
    "user.head(3)"
   ]
  },
  {
   "cell_type": "code",
   "execution_count": 36,
   "metadata": {},
   "outputs": [
    {
     "data": {
      "text/plain": [
       "776"
      ]
     },
     "execution_count": 36,
     "metadata": {},
     "output_type": "execute_result"
    }
   ],
   "source": [
    "# Проверю, не попали ли пользователи сразу в несколько тестов\n",
    "\n",
    "(\n",
    "user\n",
    "    .groupby('user_id')\n",
    "    .agg({'group':'nunique'})\n",
    "    .query('group>1')\n",
    ").shape[0]\n",
    "\n",
    "# Есть пересечения"
   ]
  },
  {
   "cell_type": "code",
   "execution_count": 37,
   "metadata": {},
   "outputs": [
    {
     "data": {
      "text/html": [
       "<div>\n",
       "<style scoped>\n",
       "    .dataframe tbody tr th:only-of-type {\n",
       "        vertical-align: middle;\n",
       "    }\n",
       "\n",
       "    .dataframe tbody tr th {\n",
       "        vertical-align: top;\n",
       "    }\n",
       "\n",
       "    .dataframe thead th {\n",
       "        text-align: right;\n",
       "    }\n",
       "</style>\n",
       "<table border=\"1\" class=\"dataframe\">\n",
       "  <thead>\n",
       "    <tr style=\"text-align: right;\">\n",
       "      <th></th>\n",
       "      <th>user_id</th>\n",
       "      <th>group</th>\n",
       "    </tr>\n",
       "  </thead>\n",
       "  <tbody>\n",
       "    <tr>\n",
       "      <th>0</th>\n",
       "      <td>0082295A41A867B5</td>\n",
       "      <td>2</td>\n",
       "    </tr>\n",
       "    <tr>\n",
       "      <th>1</th>\n",
       "      <td>00E68F103C66C1F7</td>\n",
       "      <td>2</td>\n",
       "    </tr>\n",
       "    <tr>\n",
       "      <th>2</th>\n",
       "      <td>02313B9E82255F47</td>\n",
       "      <td>2</td>\n",
       "    </tr>\n",
       "    <tr>\n",
       "      <th>3</th>\n",
       "      <td>023D4A062F40F10B</td>\n",
       "      <td>2</td>\n",
       "    </tr>\n",
       "    <tr>\n",
       "      <th>4</th>\n",
       "      <td>040F6DD6E792D0AB</td>\n",
       "      <td>2</td>\n",
       "    </tr>\n",
       "  </tbody>\n",
       "</table>\n",
       "</div>"
      ],
      "text/plain": [
       "            user_id  group\n",
       "0  0082295A41A867B5      2\n",
       "1  00E68F103C66C1F7      2\n",
       "2  02313B9E82255F47      2\n",
       "3  023D4A062F40F10B      2\n",
       "4  040F6DD6E792D0AB      2"
      ]
     },
     "execution_count": 37,
     "metadata": {},
     "output_type": "execute_result"
    }
   ],
   "source": [
    "# Запишу в отдельную переменную\n",
    "\n",
    "dupl = user.groupby('user_id').agg({'group':'nunique'}).query('group>1').reset_index()\n",
    "dupl.head()"
   ]
  },
  {
   "cell_type": "code",
   "execution_count": 38,
   "metadata": {},
   "outputs": [
    {
     "data": {
      "text/html": [
       "<div>\n",
       "<style scoped>\n",
       "    .dataframe tbody tr th:only-of-type {\n",
       "        vertical-align: middle;\n",
       "    }\n",
       "\n",
       "    .dataframe tbody tr th {\n",
       "        vertical-align: top;\n",
       "    }\n",
       "\n",
       "    .dataframe thead th {\n",
       "        text-align: right;\n",
       "    }\n",
       "</style>\n",
       "<table border=\"1\" class=\"dataframe\">\n",
       "  <thead>\n",
       "    <tr style=\"text-align: right;\">\n",
       "      <th></th>\n",
       "      <th>user_id</th>\n",
       "      <th>first_date</th>\n",
       "      <th>region</th>\n",
       "      <th>device</th>\n",
       "      <th>group_x</th>\n",
       "      <th>ab_test</th>\n",
       "      <th>group_y</th>\n",
       "    </tr>\n",
       "  </thead>\n",
       "  <tbody>\n",
       "    <tr>\n",
       "      <th>0</th>\n",
       "      <td>D1ABA3E2887B6A73</td>\n",
       "      <td>2020-12-07</td>\n",
       "      <td>EU</td>\n",
       "      <td>PC</td>\n",
       "      <td>A</td>\n",
       "      <td>recommender_system_test</td>\n",
       "      <td>NaN</td>\n",
       "    </tr>\n",
       "    <tr>\n",
       "      <th>1</th>\n",
       "      <td>A7A3664BD6242119</td>\n",
       "      <td>2020-12-20</td>\n",
       "      <td>EU</td>\n",
       "      <td>iPhone</td>\n",
       "      <td>A</td>\n",
       "      <td>recommender_system_test</td>\n",
       "      <td>NaN</td>\n",
       "    </tr>\n",
       "    <tr>\n",
       "      <th>2</th>\n",
       "      <td>DABC14FDDFADD29E</td>\n",
       "      <td>2020-12-08</td>\n",
       "      <td>EU</td>\n",
       "      <td>Mac</td>\n",
       "      <td>A</td>\n",
       "      <td>recommender_system_test</td>\n",
       "      <td>NaN</td>\n",
       "    </tr>\n",
       "  </tbody>\n",
       "</table>\n",
       "</div>"
      ],
      "text/plain": [
       "            user_id first_date region  device group_x  \\\n",
       "0  D1ABA3E2887B6A73 2020-12-07     EU      PC       A   \n",
       "1  A7A3664BD6242119 2020-12-20     EU  iPhone       A   \n",
       "2  DABC14FDDFADD29E 2020-12-08     EU     Mac       A   \n",
       "\n",
       "                   ab_test  group_y  \n",
       "0  recommender_system_test      NaN  \n",
       "1  recommender_system_test      NaN  \n",
       "2  recommender_system_test      NaN  "
      ]
     },
     "execution_count": 38,
     "metadata": {},
     "output_type": "execute_result"
    }
   ],
   "source": [
    "# Присоединю к тесту\n",
    "\n",
    "recommender_system_test = recommender_system_test.merge(dupl, on='user_id', how='left')\n",
    "recommender_system_test.head(3)"
   ]
  },
  {
   "cell_type": "code",
   "execution_count": 39,
   "metadata": {},
   "outputs": [
    {
     "data": {
      "text/plain": [
       "group_x\n",
       "A    439\n",
       "B    337\n",
       "Name: group_y, dtype: int64"
      ]
     },
     "execution_count": 39,
     "metadata": {},
     "output_type": "execute_result"
    }
   ],
   "source": [
    "# Посмотрю распределение этих пользователей по группам\n",
    "\n",
    "recommender_system_test.groupby('group_x')['group_y'].count()"
   ]
  },
  {
   "cell_type": "markdown",
   "metadata": {},
   "source": [
    "Не буду удалять этих пользователей из теста, распределение нормальное по группам."
   ]
  },
  {
   "cell_type": "code",
   "execution_count": 40,
   "metadata": {},
   "outputs": [
    {
     "data": {
      "text/plain": [
       "6351"
      ]
     },
     "execution_count": 40,
     "metadata": {},
     "output_type": "execute_result"
    }
   ],
   "source": [
    "# Удалю лишний столбец и переименую group\n",
    "\n",
    "recommender_system_test.drop(columns='group_y', inplace = True)\n",
    "recommender_system_test = recommender_system_test.rename(columns={'group_x':'group'})\n",
    "recommender_system_test['user_id'].nunique()"
   ]
  },
  {
   "cell_type": "markdown",
   "metadata": {},
   "source": [
    "Проверю на пересечение по группам."
   ]
  },
  {
   "cell_type": "code",
   "execution_count": 41,
   "metadata": {},
   "outputs": [
    {
     "data": {
      "text/plain": [
       "0"
      ]
     },
     "execution_count": 41,
     "metadata": {},
     "output_type": "execute_result"
    }
   ],
   "source": [
    "(\n",
    "recommender_system_test\n",
    "    .groupby('user_id')\n",
    "    .agg({'group':'nunique'})\n",
    "    .query('group>1')\n",
    ").shape[0]\n",
    "\n",
    "# Пересечений нет"
   ]
  },
  {
   "cell_type": "markdown",
   "metadata": {},
   "source": [
    "### Соответствие ТЗ - количество участников"
   ]
  },
  {
   "cell_type": "markdown",
   "metadata": {},
   "source": [
    "Ожидаемое количество участников теста: 6000. У нас 6351. Посмотрю распределение по группам."
   ]
  },
  {
   "cell_type": "code",
   "execution_count": 42,
   "metadata": {},
   "outputs": [
    {
     "data": {
      "text/html": [
       "<div>\n",
       "<style scoped>\n",
       "    .dataframe tbody tr th:only-of-type {\n",
       "        vertical-align: middle;\n",
       "    }\n",
       "\n",
       "    .dataframe tbody tr th {\n",
       "        vertical-align: top;\n",
       "    }\n",
       "\n",
       "    .dataframe thead th {\n",
       "        text-align: right;\n",
       "    }\n",
       "</style>\n",
       "<table border=\"1\" class=\"dataframe\">\n",
       "  <thead>\n",
       "    <tr style=\"text-align: right;\">\n",
       "      <th></th>\n",
       "      <th>user_id</th>\n",
       "    </tr>\n",
       "    <tr>\n",
       "      <th>group</th>\n",
       "      <th></th>\n",
       "    </tr>\n",
       "  </thead>\n",
       "  <tbody>\n",
       "    <tr>\n",
       "      <th>A</th>\n",
       "      <td>3634</td>\n",
       "    </tr>\n",
       "    <tr>\n",
       "      <th>B</th>\n",
       "      <td>2717</td>\n",
       "    </tr>\n",
       "  </tbody>\n",
       "</table>\n",
       "</div>"
      ],
      "text/plain": [
       "       user_id\n",
       "group         \n",
       "A         3634\n",
       "B         2717"
      ]
     },
     "execution_count": 42,
     "metadata": {},
     "output_type": "execute_result"
    }
   ],
   "source": [
    "recommender_system_test.groupby('group').agg({'user_id':'nunique'})"
   ]
  },
  {
   "cell_type": "markdown",
   "metadata": {},
   "source": [
    "Kоличество немного больше 6000, распределение по группам адекватное."
   ]
  },
  {
   "cell_type": "markdown",
   "metadata": {},
   "source": [
    "### Соответствие ТЗ - пересечение с маркетинговыми и другими активностями"
   ]
  },
  {
   "cell_type": "markdown",
   "metadata": {},
   "source": [
    "Дата запуска теста: 2020-12-07;\n",
    "\n",
    "Дата остановки: 2021-01-04;\n",
    "\n",
    "Посмотрю, были ли в эти даты какие-то маркетинговые и другие активности."
   ]
  },
  {
   "cell_type": "code",
   "execution_count": 43,
   "metadata": {},
   "outputs": [
    {
     "data": {
      "text/html": [
       "<div>\n",
       "<style scoped>\n",
       "    .dataframe tbody tr th:only-of-type {\n",
       "        vertical-align: middle;\n",
       "    }\n",
       "\n",
       "    .dataframe tbody tr th {\n",
       "        vertical-align: top;\n",
       "    }\n",
       "\n",
       "    .dataframe thead th {\n",
       "        text-align: right;\n",
       "    }\n",
       "</style>\n",
       "<table border=\"1\" class=\"dataframe\">\n",
       "  <thead>\n",
       "    <tr style=\"text-align: right;\">\n",
       "      <th></th>\n",
       "      <th>name</th>\n",
       "      <th>regions</th>\n",
       "      <th>start_dt</th>\n",
       "      <th>finish_dt</th>\n",
       "    </tr>\n",
       "  </thead>\n",
       "  <tbody>\n",
       "    <tr>\n",
       "      <th>0</th>\n",
       "      <td>Christmas&amp;New Year Promo</td>\n",
       "      <td>EU, N.America</td>\n",
       "      <td>2020-12-25</td>\n",
       "      <td>2021-01-03</td>\n",
       "    </tr>\n",
       "    <tr>\n",
       "      <th>1</th>\n",
       "      <td>St. Valentine's Day Giveaway</td>\n",
       "      <td>EU, CIS, APAC, N.America</td>\n",
       "      <td>2020-02-14</td>\n",
       "      <td>2020-02-16</td>\n",
       "    </tr>\n",
       "    <tr>\n",
       "      <th>2</th>\n",
       "      <td>St. Patric's Day Promo</td>\n",
       "      <td>EU, N.America</td>\n",
       "      <td>2020-03-17</td>\n",
       "      <td>2020-03-19</td>\n",
       "    </tr>\n",
       "    <tr>\n",
       "      <th>3</th>\n",
       "      <td>Easter Promo</td>\n",
       "      <td>EU, CIS, APAC, N.America</td>\n",
       "      <td>2020-04-12</td>\n",
       "      <td>2020-04-19</td>\n",
       "    </tr>\n",
       "    <tr>\n",
       "      <th>4</th>\n",
       "      <td>4th of July Promo</td>\n",
       "      <td>N.America</td>\n",
       "      <td>2020-07-04</td>\n",
       "      <td>2020-07-11</td>\n",
       "    </tr>\n",
       "    <tr>\n",
       "      <th>5</th>\n",
       "      <td>Black Friday Ads Campaign</td>\n",
       "      <td>EU, CIS, APAC, N.America</td>\n",
       "      <td>2020-11-26</td>\n",
       "      <td>2020-12-01</td>\n",
       "    </tr>\n",
       "    <tr>\n",
       "      <th>6</th>\n",
       "      <td>Chinese New Year Promo</td>\n",
       "      <td>APAC</td>\n",
       "      <td>2020-01-25</td>\n",
       "      <td>2020-02-07</td>\n",
       "    </tr>\n",
       "    <tr>\n",
       "      <th>7</th>\n",
       "      <td>Labor day (May 1st) Ads Campaign</td>\n",
       "      <td>EU, CIS, APAC</td>\n",
       "      <td>2020-05-01</td>\n",
       "      <td>2020-05-03</td>\n",
       "    </tr>\n",
       "    <tr>\n",
       "      <th>8</th>\n",
       "      <td>International Women's Day Promo</td>\n",
       "      <td>EU, CIS, APAC</td>\n",
       "      <td>2020-03-08</td>\n",
       "      <td>2020-03-10</td>\n",
       "    </tr>\n",
       "    <tr>\n",
       "      <th>9</th>\n",
       "      <td>Victory Day CIS (May 9th) Event</td>\n",
       "      <td>CIS</td>\n",
       "      <td>2020-05-09</td>\n",
       "      <td>2020-05-11</td>\n",
       "    </tr>\n",
       "    <tr>\n",
       "      <th>10</th>\n",
       "      <td>CIS New Year Gift Lottery</td>\n",
       "      <td>CIS</td>\n",
       "      <td>2020-12-30</td>\n",
       "      <td>2021-01-07</td>\n",
       "    </tr>\n",
       "    <tr>\n",
       "      <th>11</th>\n",
       "      <td>Dragon Boat Festival Giveaway</td>\n",
       "      <td>APAC</td>\n",
       "      <td>2020-06-25</td>\n",
       "      <td>2020-07-01</td>\n",
       "    </tr>\n",
       "    <tr>\n",
       "      <th>12</th>\n",
       "      <td>Single's Day Gift Promo</td>\n",
       "      <td>APAC</td>\n",
       "      <td>2020-11-11</td>\n",
       "      <td>2020-11-12</td>\n",
       "    </tr>\n",
       "    <tr>\n",
       "      <th>13</th>\n",
       "      <td>Chinese Moon Festival</td>\n",
       "      <td>APAC</td>\n",
       "      <td>2020-10-01</td>\n",
       "      <td>2020-10-07</td>\n",
       "    </tr>\n",
       "  </tbody>\n",
       "</table>\n",
       "</div>"
      ],
      "text/plain": [
       "                                name                   regions   start_dt  \\\n",
       "0           Christmas&New Year Promo             EU, N.America 2020-12-25   \n",
       "1       St. Valentine's Day Giveaway  EU, CIS, APAC, N.America 2020-02-14   \n",
       "2             St. Patric's Day Promo             EU, N.America 2020-03-17   \n",
       "3                       Easter Promo  EU, CIS, APAC, N.America 2020-04-12   \n",
       "4                  4th of July Promo                 N.America 2020-07-04   \n",
       "5          Black Friday Ads Campaign  EU, CIS, APAC, N.America 2020-11-26   \n",
       "6             Chinese New Year Promo                      APAC 2020-01-25   \n",
       "7   Labor day (May 1st) Ads Campaign             EU, CIS, APAC 2020-05-01   \n",
       "8    International Women's Day Promo             EU, CIS, APAC 2020-03-08   \n",
       "9    Victory Day CIS (May 9th) Event                       CIS 2020-05-09   \n",
       "10         CIS New Year Gift Lottery                       CIS 2020-12-30   \n",
       "11     Dragon Boat Festival Giveaway                      APAC 2020-06-25   \n",
       "12           Single's Day Gift Promo                      APAC 2020-11-11   \n",
       "13             Chinese Moon Festival                      APAC 2020-10-01   \n",
       "\n",
       "    finish_dt  \n",
       "0  2021-01-03  \n",
       "1  2020-02-16  \n",
       "2  2020-03-19  \n",
       "3  2020-04-19  \n",
       "4  2020-07-11  \n",
       "5  2020-12-01  \n",
       "6  2020-02-07  \n",
       "7  2020-05-03  \n",
       "8  2020-03-10  \n",
       "9  2020-05-11  \n",
       "10 2021-01-07  \n",
       "11 2020-07-01  \n",
       "12 2020-11-12  \n",
       "13 2020-10-07  "
      ]
     },
     "execution_count": 43,
     "metadata": {},
     "output_type": "execute_result"
    }
   ],
   "source": [
    "marketing_event"
   ]
  },
  {
   "cell_type": "markdown",
   "metadata": {},
   "source": [
    "Промо Christmas&New Year Promo проводилась в том числе и в EU, в период с 25.12.2020 по 03.01.2021. Проверю, повлияло ли это на активность пользователей."
   ]
  },
  {
   "cell_type": "code",
   "execution_count": 44,
   "metadata": {},
   "outputs": [
    {
     "data": {
      "text/html": [
       "<div>\n",
       "<style scoped>\n",
       "    .dataframe tbody tr th:only-of-type {\n",
       "        vertical-align: middle;\n",
       "    }\n",
       "\n",
       "    .dataframe tbody tr th {\n",
       "        vertical-align: top;\n",
       "    }\n",
       "\n",
       "    .dataframe thead th {\n",
       "        text-align: right;\n",
       "    }\n",
       "</style>\n",
       "<table border=\"1\" class=\"dataframe\">\n",
       "  <thead>\n",
       "    <tr style=\"text-align: right;\">\n",
       "      <th></th>\n",
       "      <th>user_id</th>\n",
       "      <th>first_date</th>\n",
       "      <th>region</th>\n",
       "      <th>device</th>\n",
       "      <th>group</th>\n",
       "      <th>ab_test</th>\n",
       "      <th>event_name</th>\n",
       "      <th>event_dt</th>\n",
       "    </tr>\n",
       "  </thead>\n",
       "  <tbody>\n",
       "    <tr>\n",
       "      <th>0</th>\n",
       "      <td>D1ABA3E2887B6A73</td>\n",
       "      <td>2020-12-07</td>\n",
       "      <td>EU</td>\n",
       "      <td>PC</td>\n",
       "      <td>A</td>\n",
       "      <td>recommender_system_test</td>\n",
       "      <td>purchase</td>\n",
       "      <td>2020-12-07 14:43:27</td>\n",
       "    </tr>\n",
       "    <tr>\n",
       "      <th>1</th>\n",
       "      <td>D1ABA3E2887B6A73</td>\n",
       "      <td>2020-12-07</td>\n",
       "      <td>EU</td>\n",
       "      <td>PC</td>\n",
       "      <td>A</td>\n",
       "      <td>recommender_system_test</td>\n",
       "      <td>purchase</td>\n",
       "      <td>2020-12-25 00:04:56</td>\n",
       "    </tr>\n",
       "    <tr>\n",
       "      <th>2</th>\n",
       "      <td>D1ABA3E2887B6A73</td>\n",
       "      <td>2020-12-07</td>\n",
       "      <td>EU</td>\n",
       "      <td>PC</td>\n",
       "      <td>A</td>\n",
       "      <td>recommender_system_test</td>\n",
       "      <td>product_cart</td>\n",
       "      <td>2020-12-07 14:43:29</td>\n",
       "    </tr>\n",
       "  </tbody>\n",
       "</table>\n",
       "</div>"
      ],
      "text/plain": [
       "            user_id first_date region device group                  ab_test  \\\n",
       "0  D1ABA3E2887B6A73 2020-12-07     EU     PC     A  recommender_system_test   \n",
       "1  D1ABA3E2887B6A73 2020-12-07     EU     PC     A  recommender_system_test   \n",
       "2  D1ABA3E2887B6A73 2020-12-07     EU     PC     A  recommender_system_test   \n",
       "\n",
       "     event_name            event_dt  \n",
       "0      purchase 2020-12-07 14:43:27  \n",
       "1      purchase 2020-12-25 00:04:56  \n",
       "2  product_cart 2020-12-07 14:43:29  "
      ]
     },
     "execution_count": 44,
     "metadata": {},
     "output_type": "execute_result"
    }
   ],
   "source": [
    "# Добавлю к тесту события\n",
    "\n",
    "recommender_system_test = recommender_system_test.merge(actions_new_users[['user_id', 'event_name', 'event_dt']], on='user_id', how='left')\n",
    "recommender_system_test.head(3)"
   ]
  },
  {
   "cell_type": "code",
   "execution_count": 45,
   "metadata": {},
   "outputs": [
    {
     "data": {
      "text/plain": [
       "array(['purchase', 'product_cart', 'product_page', 'login', nan],\n",
       "      dtype=object)"
      ]
     },
     "execution_count": 45,
     "metadata": {},
     "output_type": "execute_result"
    }
   ],
   "source": [
    "recommender_system_test['event_name'].unique()"
   ]
  },
  {
   "cell_type": "markdown",
   "metadata": {},
   "source": [
    "Обнаружены пропуски в событиях."
   ]
  },
  {
   "cell_type": "code",
   "execution_count": 46,
   "metadata": {},
   "outputs": [
    {
     "data": {
      "text/plain": [
       "user_id          0\n",
       "first_date       0\n",
       "region           0\n",
       "device           0\n",
       "group            0\n",
       "ab_test          0\n",
       "event_name    2870\n",
       "event_dt      2870\n",
       "dtype: int64"
      ]
     },
     "execution_count": 46,
     "metadata": {},
     "output_type": "execute_result"
    }
   ],
   "source": [
    "recommender_system_test.isna().sum()"
   ]
  },
  {
   "cell_type": "code",
   "execution_count": 47,
   "metadata": {},
   "outputs": [
    {
     "data": {
      "text/html": [
       "<div>\n",
       "<style scoped>\n",
       "    .dataframe tbody tr th:only-of-type {\n",
       "        vertical-align: middle;\n",
       "    }\n",
       "\n",
       "    .dataframe tbody tr th {\n",
       "        vertical-align: top;\n",
       "    }\n",
       "\n",
       "    .dataframe thead th {\n",
       "        text-align: right;\n",
       "    }\n",
       "</style>\n",
       "<table border=\"1\" class=\"dataframe\">\n",
       "  <thead>\n",
       "    <tr style=\"text-align: right;\">\n",
       "      <th></th>\n",
       "      <th>user_id</th>\n",
       "      <th>first_date</th>\n",
       "      <th>region</th>\n",
       "      <th>device</th>\n",
       "      <th>group</th>\n",
       "      <th>ab_test</th>\n",
       "      <th>event_name</th>\n",
       "      <th>event_dt</th>\n",
       "    </tr>\n",
       "  </thead>\n",
       "  <tbody>\n",
       "    <tr>\n",
       "      <th>32</th>\n",
       "      <td>482F14783456D21B</td>\n",
       "      <td>2020-12-14</td>\n",
       "      <td>EU</td>\n",
       "      <td>PC</td>\n",
       "      <td>B</td>\n",
       "      <td>recommender_system_test</td>\n",
       "      <td>NaN</td>\n",
       "      <td>NaT</td>\n",
       "    </tr>\n",
       "    <tr>\n",
       "      <th>59</th>\n",
       "      <td>057AB296296C7FC0</td>\n",
       "      <td>2020-12-17</td>\n",
       "      <td>EU</td>\n",
       "      <td>iPhone</td>\n",
       "      <td>B</td>\n",
       "      <td>recommender_system_test</td>\n",
       "      <td>NaN</td>\n",
       "      <td>NaT</td>\n",
       "    </tr>\n",
       "    <tr>\n",
       "      <th>66</th>\n",
       "      <td>E9FA12FAE3F5769C</td>\n",
       "      <td>2020-12-14</td>\n",
       "      <td>EU</td>\n",
       "      <td>Android</td>\n",
       "      <td>B</td>\n",
       "      <td>recommender_system_test</td>\n",
       "      <td>NaN</td>\n",
       "      <td>NaT</td>\n",
       "    </tr>\n",
       "  </tbody>\n",
       "</table>\n",
       "</div>"
      ],
      "text/plain": [
       "             user_id first_date region   device group  \\\n",
       "32  482F14783456D21B 2020-12-14     EU       PC     B   \n",
       "59  057AB296296C7FC0 2020-12-17     EU   iPhone     B   \n",
       "66  E9FA12FAE3F5769C 2020-12-14     EU  Android     B   \n",
       "\n",
       "                    ab_test event_name event_dt  \n",
       "32  recommender_system_test        NaN      NaT  \n",
       "59  recommender_system_test        NaN      NaT  \n",
       "66  recommender_system_test        NaN      NaT  "
      ]
     },
     "execution_count": 47,
     "metadata": {},
     "output_type": "execute_result"
    }
   ],
   "source": [
    "user_test_nan = recommender_system_test.query('event_name.isna()')\n",
    "user_test_nan.head(3)"
   ]
  },
  {
   "cell_type": "code",
   "execution_count": 48,
   "metadata": {},
   "outputs": [
    {
     "data": {
      "text/html": [
       "<div>\n",
       "<style scoped>\n",
       "    .dataframe tbody tr th:only-of-type {\n",
       "        vertical-align: middle;\n",
       "    }\n",
       "\n",
       "    .dataframe tbody tr th {\n",
       "        vertical-align: top;\n",
       "    }\n",
       "\n",
       "    .dataframe thead th {\n",
       "        text-align: right;\n",
       "    }\n",
       "</style>\n",
       "<table border=\"1\" class=\"dataframe\">\n",
       "  <thead>\n",
       "    <tr style=\"text-align: right;\">\n",
       "      <th></th>\n",
       "      <th>user_id</th>\n",
       "      <th>first_date</th>\n",
       "      <th>region</th>\n",
       "      <th>device</th>\n",
       "      <th>group</th>\n",
       "      <th>ab_test</th>\n",
       "      <th>event_name</th>\n",
       "      <th>event_dt</th>\n",
       "    </tr>\n",
       "  </thead>\n",
       "  <tbody>\n",
       "    <tr>\n",
       "      <th>32</th>\n",
       "      <td>482F14783456D21B</td>\n",
       "      <td>2020-12-14</td>\n",
       "      <td>EU</td>\n",
       "      <td>PC</td>\n",
       "      <td>B</td>\n",
       "      <td>recommender_system_test</td>\n",
       "      <td>NaN</td>\n",
       "      <td>1</td>\n",
       "    </tr>\n",
       "    <tr>\n",
       "      <th>59</th>\n",
       "      <td>057AB296296C7FC0</td>\n",
       "      <td>2020-12-17</td>\n",
       "      <td>EU</td>\n",
       "      <td>iPhone</td>\n",
       "      <td>B</td>\n",
       "      <td>recommender_system_test</td>\n",
       "      <td>NaN</td>\n",
       "      <td>1</td>\n",
       "    </tr>\n",
       "    <tr>\n",
       "      <th>66</th>\n",
       "      <td>E9FA12FAE3F5769C</td>\n",
       "      <td>2020-12-14</td>\n",
       "      <td>EU</td>\n",
       "      <td>Android</td>\n",
       "      <td>B</td>\n",
       "      <td>recommender_system_test</td>\n",
       "      <td>NaN</td>\n",
       "      <td>1</td>\n",
       "    </tr>\n",
       "  </tbody>\n",
       "</table>\n",
       "</div>"
      ],
      "text/plain": [
       "             user_id first_date region   device group  \\\n",
       "32  482F14783456D21B 2020-12-14     EU       PC     B   \n",
       "59  057AB296296C7FC0 2020-12-17     EU   iPhone     B   \n",
       "66  E9FA12FAE3F5769C 2020-12-14     EU  Android     B   \n",
       "\n",
       "                    ab_test event_name  event_dt  \n",
       "32  recommender_system_test        NaN         1  \n",
       "59  recommender_system_test        NaN         1  \n",
       "66  recommender_system_test        NaN         1  "
      ]
     },
     "execution_count": 48,
     "metadata": {},
     "output_type": "execute_result"
    }
   ],
   "source": [
    "# Поставлю 1 вместо пропусков для дальнейшего подсчета\n",
    "\n",
    "user_test_nan['event_dt'] = user_test_nan['event_dt'].fillna(1)\n",
    "user_test_nan.head(3)"
   ]
  },
  {
   "cell_type": "code",
   "execution_count": 49,
   "metadata": {},
   "outputs": [
    {
     "data": {
      "text/plain": [
       "2870"
      ]
     },
     "execution_count": 49,
     "metadata": {},
     "output_type": "execute_result"
    }
   ],
   "source": [
    "# Посмотрю, у скольких пользователей есть пропуски в событиях\n",
    "\n",
    "user_test_nan['user_id'].nunique()"
   ]
  },
  {
   "cell_type": "code",
   "execution_count": 50,
   "metadata": {},
   "outputs": [
    {
     "data": {
      "text/plain": [
       "group\n",
       "A    1030\n",
       "B    1840\n",
       "Name: event_dt, dtype: int64"
      ]
     },
     "execution_count": 50,
     "metadata": {},
     "output_type": "execute_result"
    }
   ],
   "source": [
    "# Распределение пропусков по группам\n",
    "\n",
    "user_test_nan.groupby('group')['event_dt'].sum()"
   ]
  },
  {
   "cell_type": "code",
   "execution_count": 51,
   "metadata": {},
   "outputs": [
    {
     "data": {
      "text/html": [
       "<div>\n",
       "<style scoped>\n",
       "    .dataframe tbody tr th:only-of-type {\n",
       "        vertical-align: middle;\n",
       "    }\n",
       "\n",
       "    .dataframe tbody tr th {\n",
       "        vertical-align: top;\n",
       "    }\n",
       "\n",
       "    .dataframe thead th {\n",
       "        text-align: right;\n",
       "    }\n",
       "</style>\n",
       "<table border=\"1\" class=\"dataframe\">\n",
       "  <thead>\n",
       "    <tr style=\"text-align: right;\">\n",
       "      <th></th>\n",
       "      <th>user_id</th>\n",
       "    </tr>\n",
       "    <tr>\n",
       "      <th>group</th>\n",
       "      <th></th>\n",
       "    </tr>\n",
       "  </thead>\n",
       "  <tbody>\n",
       "    <tr>\n",
       "      <th>A</th>\n",
       "      <td>3634</td>\n",
       "    </tr>\n",
       "    <tr>\n",
       "      <th>B</th>\n",
       "      <td>2717</td>\n",
       "    </tr>\n",
       "  </tbody>\n",
       "</table>\n",
       "</div>"
      ],
      "text/plain": [
       "       user_id\n",
       "group         \n",
       "A         3634\n",
       "B         2717"
      ]
     },
     "execution_count": 51,
     "metadata": {},
     "output_type": "execute_result"
    }
   ],
   "source": [
    "recommender_system_test.groupby('group').agg({'user_id':'nunique'})"
   ]
  },
  {
   "cell_type": "code",
   "execution_count": 52,
   "metadata": {},
   "outputs": [
    {
     "data": {
      "text/plain": [
       "'Процент пользователей, не совершивших действия в группе А:'"
      ]
     },
     "metadata": {},
     "output_type": "display_data"
    },
    {
     "data": {
      "text/plain": [
       "28.34"
      ]
     },
     "execution_count": 52,
     "metadata": {},
     "output_type": "execute_result"
    }
   ],
   "source": [
    "display('Процент пользователей, не совершивших действия в группе А:')\n",
    "round(((user_test_nan.query('group==\"A\"')['event_dt'].sum())/(recommender_system_test.query('group==\"A\"')['user_id'].nunique())*100),2)"
   ]
  },
  {
   "cell_type": "code",
   "execution_count": 53,
   "metadata": {},
   "outputs": [
    {
     "data": {
      "text/plain": [
       "'Процент пользователей, не совершивших действия в группе В:'"
      ]
     },
     "metadata": {},
     "output_type": "display_data"
    },
    {
     "data": {
      "text/plain": [
       "67.72"
      ]
     },
     "execution_count": 53,
     "metadata": {},
     "output_type": "execute_result"
    }
   ],
   "source": [
    "display('Процент пользователей, не совершивших действия в группе В:')\n",
    "round(((user_test_nan.query('group==\"B\"')['event_dt'].sum())/(recommender_system_test.query('group==\"B\"')['user_id'].nunique())*100),2)"
   ]
  },
  {
   "cell_type": "markdown",
   "metadata": {},
   "source": [
    "Вернусь к Промо Christmas&New Year Promo. Могла ли данная акция оказать влияние на результаты теста. Период промо с 25.12.2020 по 03.01.2021"
   ]
  },
  {
   "cell_type": "code",
   "execution_count": 54,
   "metadata": {},
   "outputs": [],
   "source": [
    "user_test_a = recommender_system_test.query('group == \"A\"')\n",
    "user_test_b = recommender_system_test.query('group == \"B\"')"
   ]
  },
  {
   "cell_type": "code",
   "execution_count": 55,
   "metadata": {},
   "outputs": [
    {
     "data": {
      "text/plain": [
       "array(['purchase', 'product_cart', 'product_page', 'login', nan],\n",
       "      dtype=object)"
      ]
     },
     "execution_count": 55,
     "metadata": {},
     "output_type": "execute_result"
    }
   ],
   "source": [
    "recommender_system_test['event_name'].unique()"
   ]
  },
  {
   "cell_type": "code",
   "execution_count": 56,
   "metadata": {},
   "outputs": [
    {
     "data": {
      "image/png": "[encoded data removed]",
      "text/plain": [
       "<Figure size 960x480 with 1 Axes>"
      ]
     },
     "metadata": {
      "needs_background": "light"
     },
     "output_type": "display_data"
    }
   ],
   "source": [
    "# Построю график распределения событий по дате их совершения для группы А\n",
    "\n",
    "plt.figure(figsize=(12,6), dpi= 80)\n",
    "sns.kdeplot(user_test_a.loc[user_test_a['event_name'] == 'purchase', \"event_dt\"], shade=True, color=\"g\", label=\"purchase\", alpha=.1)\n",
    "sns.kdeplot(user_test_a.loc[user_test_a['event_name'] == 'product_cart', \"event_dt\"], shade=True, color=\"deeppink\", label=\"product_cart\", alpha=.1)\n",
    "sns.kdeplot(user_test_a.loc[user_test_a['event_name'] == 'product_page', \"event_dt\"], shade=True, color=\"dodgerblue\", label=\"product_page\", alpha=.1)\n",
    "sns.kdeplot(user_test_a.loc[user_test_a['event_name'] == 'login', \"event_dt\"],  shade=True, color=\"orange\", label=\"login\", alpha=.1)\n",
    "\n",
    "\n",
    "plt.title('Количество событий по дате их совершения для группы А', fontsize=18)\n",
    "plt.ylabel('Количество событий')\n",
    "plt.xlabel('Дата события')\n",
    "plt.legend()\n",
    "plt.show()"
   ]
  },
  {
   "cell_type": "code",
   "execution_count": 57,
   "metadata": {},
   "outputs": [
    {
     "data": {
      "image/png": "[encoded data removed]",
      "text/plain": [
       "<Figure size 960x480 with 1 Axes>"
      ]
     },
     "metadata": {
      "needs_background": "light"
     },
     "output_type": "display_data"
    }
   ],
   "source": [
    "# Построю график распределения событий по дате их совершения для группы B\n",
    "\n",
    "plt.figure(figsize=(12,6), dpi= 80)\n",
    "sns.kdeplot(user_test_b.loc[user_test_b['event_name'] == 'purchase', \"event_dt\"], shade=True, color=\"g\", label=\"purchase\", alpha=.1)\n",
    "sns.kdeplot(user_test_b.loc[user_test_b['event_name'] == 'product_cart', \"event_dt\"], shade=True, color=\"deeppink\", label=\"product_cart\", alpha=.1)\n",
    "sns.kdeplot(user_test_b.loc[user_test_b['event_name'] == 'product_page', \"event_dt\"], shade=True, color=\"dodgerblue\", label=\"product_page\", alpha=.1)\n",
    "sns.kdeplot(user_test_b.loc[user_test_b['event_name'] == 'login', \"event_dt\"],  shade=True, color=\"orange\", label=\"login\", alpha=.1)\n",
    "\n",
    "\n",
    "plt.title('Количество событий по дате их совершения для группы B', fontsize=18)\n",
    "plt.ylabel('Количество событий')\n",
    "plt.xlabel('Дата события')\n",
    "plt.legend()\n",
    "plt.show()"
   ]
  },
  {
   "cell_type": "markdown",
   "metadata": {},
   "source": [
    "**Вывод**\n",
    "\n",
    "Не похоже, что промо акция могла иметь какое-то влияние на участников теста. "
   ]
  },
  {
   "cell_type": "markdown",
   "metadata": {},
   "source": [
    "### Соответствие ТЗ - ожидаемый эффект"
   ]
  },
  {
   "cell_type": "markdown",
   "metadata": {},
   "source": [
    "Ожидаемый эффект: за 14 дней с момента регистрации пользователи покажут улучшение каждой метрики не менее, чем на 10%:\n",
    "- конверсии в просмотр карточек товаров — событие `product_page`,\n",
    "- просмотры корзины — `product_cart`,\n",
    "- покупки — `purchase`.\n",
    "\n",
    "Группы: А — контрольная, B — новая платёжная воронка."
   ]
  },
  {
   "cell_type": "code",
   "execution_count": 58,
   "metadata": {},
   "outputs": [
    {
     "data": {
      "text/plain": [
       "19339"
      ]
     },
     "execution_count": 58,
     "metadata": {},
     "output_type": "execute_result"
    }
   ],
   "source": [
    "user_test_a.shape[0]"
   ]
  },
  {
   "cell_type": "code",
   "execution_count": 59,
   "metadata": {},
   "outputs": [],
   "source": [
    "# Лайфтайм\n",
    "\n",
    "user_test_a = user_test_a[(user_test_a['event_dt']-user_test_a['first_date']).dt.days <= 14]"
   ]
  },
  {
   "cell_type": "code",
   "execution_count": 60,
   "metadata": {},
   "outputs": [
    {
     "data": {
      "text/plain": [
       "17977"
      ]
     },
     "execution_count": 60,
     "metadata": {},
     "output_type": "execute_result"
    }
   ],
   "source": [
    "user_test_a.shape[0]"
   ]
  },
  {
   "cell_type": "code",
   "execution_count": 61,
   "metadata": {},
   "outputs": [
    {
     "data": {
      "text/html": [
       "<div>\n",
       "<style scoped>\n",
       "    .dataframe tbody tr th:only-of-type {\n",
       "        vertical-align: middle;\n",
       "    }\n",
       "\n",
       "    .dataframe tbody tr th {\n",
       "        vertical-align: top;\n",
       "    }\n",
       "\n",
       "    .dataframe thead th {\n",
       "        text-align: right;\n",
       "    }\n",
       "</style>\n",
       "<table border=\"1\" class=\"dataframe\">\n",
       "  <thead>\n",
       "    <tr style=\"text-align: right;\">\n",
       "      <th></th>\n",
       "      <th>event_name</th>\n",
       "      <th>user_id</th>\n",
       "    </tr>\n",
       "  </thead>\n",
       "  <tbody>\n",
       "    <tr>\n",
       "      <th>0</th>\n",
       "      <td>login</td>\n",
       "      <td>2604</td>\n",
       "    </tr>\n",
       "    <tr>\n",
       "      <th>1</th>\n",
       "      <td>product_cart</td>\n",
       "      <td>782</td>\n",
       "    </tr>\n",
       "    <tr>\n",
       "      <th>2</th>\n",
       "      <td>product_page</td>\n",
       "      <td>1685</td>\n",
       "    </tr>\n",
       "    <tr>\n",
       "      <th>3</th>\n",
       "      <td>purchase</td>\n",
       "      <td>833</td>\n",
       "    </tr>\n",
       "  </tbody>\n",
       "</table>\n",
       "</div>"
      ],
      "text/plain": [
       "     event_name  user_id\n",
       "0         login     2604\n",
       "1  product_cart      782\n",
       "2  product_page     1685\n",
       "3      purchase      833"
      ]
     },
     "execution_count": 61,
     "metadata": {},
     "output_type": "execute_result"
    }
   ],
   "source": [
    "# Группирую группу А\n",
    "\n",
    "test_а = user_test_a.groupby('event_name')['user_id'].nunique().reset_index()\n",
    "\n",
    "test_а.head()"
   ]
  },
  {
   "cell_type": "code",
   "execution_count": 62,
   "metadata": {},
   "outputs": [
    {
     "data": {
      "text/plain": [
       "6951"
      ]
     },
     "execution_count": 62,
     "metadata": {},
     "output_type": "execute_result"
    }
   ],
   "source": [
    "user_test_b.shape[0]"
   ]
  },
  {
   "cell_type": "code",
   "execution_count": 63,
   "metadata": {},
   "outputs": [],
   "source": [
    "user_test_b = user_test_b[(user_test_b['event_dt']-user_test_b['first_date']).dt.days <= 14]"
   ]
  },
  {
   "cell_type": "code",
   "execution_count": 64,
   "metadata": {},
   "outputs": [
    {
     "data": {
      "text/plain": [
       "4851"
      ]
     },
     "execution_count": 64,
     "metadata": {},
     "output_type": "execute_result"
    }
   ],
   "source": [
    "user_test_b.shape[0]"
   ]
  },
  {
   "cell_type": "code",
   "execution_count": 65,
   "metadata": {},
   "outputs": [
    {
     "data": {
      "text/html": [
       "<div>\n",
       "<style scoped>\n",
       "    .dataframe tbody tr th:only-of-type {\n",
       "        vertical-align: middle;\n",
       "    }\n",
       "\n",
       "    .dataframe tbody tr th {\n",
       "        vertical-align: top;\n",
       "    }\n",
       "\n",
       "    .dataframe thead th {\n",
       "        text-align: right;\n",
       "    }\n",
       "</style>\n",
       "<table border=\"1\" class=\"dataframe\">\n",
       "  <thead>\n",
       "    <tr style=\"text-align: right;\">\n",
       "      <th></th>\n",
       "      <th>event_name</th>\n",
       "      <th>user_id</th>\n",
       "    </tr>\n",
       "  </thead>\n",
       "  <tbody>\n",
       "    <tr>\n",
       "      <th>0</th>\n",
       "      <td>login</td>\n",
       "      <td>876</td>\n",
       "    </tr>\n",
       "    <tr>\n",
       "      <th>1</th>\n",
       "      <td>product_cart</td>\n",
       "      <td>244</td>\n",
       "    </tr>\n",
       "    <tr>\n",
       "      <th>2</th>\n",
       "      <td>product_page</td>\n",
       "      <td>493</td>\n",
       "    </tr>\n",
       "    <tr>\n",
       "      <th>3</th>\n",
       "      <td>purchase</td>\n",
       "      <td>249</td>\n",
       "    </tr>\n",
       "  </tbody>\n",
       "</table>\n",
       "</div>"
      ],
      "text/plain": [
       "     event_name  user_id\n",
       "0         login      876\n",
       "1  product_cart      244\n",
       "2  product_page      493\n",
       "3      purchase      249"
      ]
     },
     "execution_count": 65,
     "metadata": {},
     "output_type": "execute_result"
    }
   ],
   "source": [
    "# Группирую группу В\n",
    "\n",
    "test_b = user_test_b.groupby('event_name')['user_id'].nunique().reset_index()\n",
    "test_b.head()"
   ]
  },
  {
   "cell_type": "code",
   "execution_count": 66,
   "metadata": {},
   "outputs": [
    {
     "data": {
      "image/png": "[encoded data removed]"
     },
     "metadata": {},
     "output_type": "display_data"
    }
   ],
   "source": [
    "# Воронка конверсии по группам\n",
    "\n",
    "fig = go.Figure()\n",
    "\n",
    "fig.add_trace(go.Funnel(\n",
    "    name = 'Группа А',\n",
    "    y = [\"login\", \"product_page\", \"product_cart\", \"purchase\"],\n",
    "    x = test_а['user_id'],\n",
    "    textinfo = \"value+percent initial\"))\n",
    "\n",
    "fig.add_trace(go.Funnel(\n",
    "    name = 'Группа В',\n",
    "    orientation = \"h\",\n",
    "    y = [\"login\", \"product_page\", \"product_cart\", \"purchase\"],\n",
    "    x = test_b['user_id'],\n",
    "    textposition = \"inside\",\n",
    "    textinfo = \"value+percent initial\")\n",
    "    )\n",
    "\n",
    "fig.update_layout(title='Доля пользователей, доходящая от первого события до оплаты', width=900, height=550)\n",
    "fig.show(\"png\")"
   ]
  },
  {
   "cell_type": "code",
   "execution_count": 67,
   "metadata": {},
   "outputs": [
    {
     "data": {
      "image/png": "[encoded data removed]"
     },
     "metadata": {},
     "output_type": "display_data"
    }
   ],
   "source": [
    "# Воронка конверсии по группам\n",
    "\n",
    "fig = go.Figure()\n",
    "\n",
    "fig.add_trace(go.Funnel(\n",
    "    name = 'Группа А',\n",
    "    y = [\"login\", \"product_cart\", \"product_page\", \"purchase\"],\n",
    "    x = [test_а.at[0,'user_id'], test_а.at[2,'user_id'], test_а.at[1,'user_id'], test_а.at[3,'user_id']],\n",
    "    textinfo = \"value+percent initial\"))\n",
    "\n",
    "fig.add_trace(go.Funnel(\n",
    "    name = 'Группа В',\n",
    "    orientation = \"h\",\n",
    "    y = [\"login\", \"product_cart\", \"product_page\", \"purchase\"],\n",
    "    x = [test_b.at[0,'user_id'], test_b.at[2,'user_id'], test_b.at[1,'user_id'], test_b.at[3,'user_id']],\n",
    "    textposition = \"inside\",\n",
    "    textinfo = \"value+percent initial\")\n",
    "    )\n",
    "fig.update_layout(title='Доля пользователей, доходящая от первого события до оплаты', width=900, height=550)\n",
    "fig.show(\"png\")"
   ]
  },
  {
   "cell_type": "markdown",
   "metadata": {},
   "source": [
    "Ожидаемый эффект теста не достигнут. Нет улучшения конверсии на 10%. Более того, наблюдается ее снижение. По воронке можно отметить, что многие пользователи сразу переходят в корзину, без просмотра карточки товара. Вероятно, на сайте есть такая возможность."
   ]
  },
  {
   "cell_type": "markdown",
   "metadata": {},
   "source": [
    "**Вывод**\n",
    "\n",
    "Данные не соответствуют ТЗ. Были пользователи, которые пришли в тест после 21 декабря. Их я удалила. Так же есть пересечения с другим тестом. Я проверила распределение по группам А и В таких пользователей, распределение нормальное, пользователей оставила. Но оценить влияние другого теста на текущий нет возможности. Так же есть пересечение с маркетинговой акцией. В целом, увидеть влияние акции на действие пользователей не удалось. Но быть уверенными до конца тоже невозможно. Ожидаемый эффект теста не достигнут. Нет улучшения конверсии на 10%. Более того, наблюдается ее снижение. По воронке можно отметить, что многие пользователи сразу переходят в корзину, без просмотра карточки товара. Вероятно, на сайте есть такая возможность. Пользователи составляют 13.73% новых пользователей из EU. \n",
    "\n",
    "Пересечений между группами нет. В тесте 6351 участник.\n"
   ]
  },
  {
   "cell_type": "markdown",
   "metadata": {},
   "source": [
    "## Исследовательский анализ данных"
   ]
  },
  {
   "cell_type": "markdown",
   "metadata": {},
   "source": [
    "### Количество событий на пользователя в выборках"
   ]
  },
  {
   "cell_type": "code",
   "execution_count": 68,
   "metadata": {},
   "outputs": [
    {
     "data": {
      "text/plain": [
       "6.9"
      ]
     },
     "execution_count": 68,
     "metadata": {},
     "output_type": "execute_result"
    }
   ],
   "source": [
    "round((user_test_a.groupby('user_id')['event_name'].count().mean()),1)"
   ]
  },
  {
   "cell_type": "code",
   "execution_count": 69,
   "metadata": {},
   "outputs": [
    {
     "data": {
      "text/plain": [
       "5.5"
      ]
     },
     "execution_count": 69,
     "metadata": {},
     "output_type": "execute_result"
    }
   ],
   "source": [
    "round((user_test_b.groupby('user_id')['event_name'].count().mean()),1)"
   ]
  },
  {
   "cell_type": "markdown",
   "metadata": {},
   "source": [
    "Среднее количество событий на пользователя в группе А = 6.9, в группе В = 5.5."
   ]
  },
  {
   "cell_type": "markdown",
   "metadata": {},
   "source": [
    "### Распределение числа событий по дням"
   ]
  },
  {
   "cell_type": "code",
   "execution_count": 70,
   "metadata": {},
   "outputs": [
    {
     "data": {
      "text/html": [
       "<div>\n",
       "<style scoped>\n",
       "    .dataframe tbody tr th:only-of-type {\n",
       "        vertical-align: middle;\n",
       "    }\n",
       "\n",
       "    .dataframe tbody tr th {\n",
       "        vertical-align: top;\n",
       "    }\n",
       "\n",
       "    .dataframe thead th {\n",
       "        text-align: right;\n",
       "    }\n",
       "</style>\n",
       "<table border=\"1\" class=\"dataframe\">\n",
       "  <thead>\n",
       "    <tr style=\"text-align: right;\">\n",
       "      <th></th>\n",
       "      <th>user_id</th>\n",
       "      <th>first_date</th>\n",
       "      <th>region</th>\n",
       "      <th>device</th>\n",
       "      <th>group</th>\n",
       "      <th>ab_test</th>\n",
       "      <th>event_name</th>\n",
       "      <th>event_dt</th>\n",
       "      <th>day</th>\n",
       "    </tr>\n",
       "  </thead>\n",
       "  <tbody>\n",
       "    <tr>\n",
       "      <th>0</th>\n",
       "      <td>D1ABA3E2887B6A73</td>\n",
       "      <td>2020-12-07</td>\n",
       "      <td>EU</td>\n",
       "      <td>PC</td>\n",
       "      <td>A</td>\n",
       "      <td>recommender_system_test</td>\n",
       "      <td>purchase</td>\n",
       "      <td>2020-12-07 14:43:27</td>\n",
       "      <td>2020-12-07</td>\n",
       "    </tr>\n",
       "    <tr>\n",
       "      <th>2</th>\n",
       "      <td>D1ABA3E2887B6A73</td>\n",
       "      <td>2020-12-07</td>\n",
       "      <td>EU</td>\n",
       "      <td>PC</td>\n",
       "      <td>A</td>\n",
       "      <td>recommender_system_test</td>\n",
       "      <td>product_cart</td>\n",
       "      <td>2020-12-07 14:43:29</td>\n",
       "      <td>2020-12-07</td>\n",
       "    </tr>\n",
       "    <tr>\n",
       "      <th>4</th>\n",
       "      <td>D1ABA3E2887B6A73</td>\n",
       "      <td>2020-12-07</td>\n",
       "      <td>EU</td>\n",
       "      <td>PC</td>\n",
       "      <td>A</td>\n",
       "      <td>recommender_system_test</td>\n",
       "      <td>product_page</td>\n",
       "      <td>2020-12-07 14:43:27</td>\n",
       "      <td>2020-12-07</td>\n",
       "    </tr>\n",
       "  </tbody>\n",
       "</table>\n",
       "</div>"
      ],
      "text/plain": [
       "            user_id first_date region device group                  ab_test  \\\n",
       "0  D1ABA3E2887B6A73 2020-12-07     EU     PC     A  recommender_system_test   \n",
       "2  D1ABA3E2887B6A73 2020-12-07     EU     PC     A  recommender_system_test   \n",
       "4  D1ABA3E2887B6A73 2020-12-07     EU     PC     A  recommender_system_test   \n",
       "\n",
       "     event_name            event_dt         day  \n",
       "0      purchase 2020-12-07 14:43:27  2020-12-07  \n",
       "2  product_cart 2020-12-07 14:43:29  2020-12-07  \n",
       "4  product_page 2020-12-07 14:43:27  2020-12-07  "
      ]
     },
     "execution_count": 70,
     "metadata": {},
     "output_type": "execute_result"
    }
   ],
   "source": [
    "# Подготовлю таблицу\n",
    "\n",
    "user_test_a['day'] = pd.to_datetime(user_test_a['event_dt']).dt.date\n",
    "user_test_b['day'] = pd.to_datetime(user_test_b['event_dt']).dt.date\n",
    "user_test_a.head(3)"
   ]
  },
  {
   "cell_type": "code",
   "execution_count": 71,
   "metadata": {},
   "outputs": [
    {
     "data": {
      "text/html": [
       "<div>\n",
       "<style scoped>\n",
       "    .dataframe tbody tr th:only-of-type {\n",
       "        vertical-align: middle;\n",
       "    }\n",
       "\n",
       "    .dataframe tbody tr th {\n",
       "        vertical-align: top;\n",
       "    }\n",
       "\n",
       "    .dataframe thead th {\n",
       "        text-align: right;\n",
       "    }\n",
       "</style>\n",
       "<table border=\"1\" class=\"dataframe\">\n",
       "  <thead>\n",
       "    <tr style=\"text-align: right;\">\n",
       "      <th></th>\n",
       "      <th>day</th>\n",
       "      <th>event_name</th>\n",
       "    </tr>\n",
       "  </thead>\n",
       "  <tbody>\n",
       "    <tr>\n",
       "      <th>0</th>\n",
       "      <td>2020-12-07</td>\n",
       "      <td>318</td>\n",
       "    </tr>\n",
       "    <tr>\n",
       "      <th>1</th>\n",
       "      <td>2020-12-08</td>\n",
       "      <td>313</td>\n",
       "    </tr>\n",
       "    <tr>\n",
       "      <th>2</th>\n",
       "      <td>2020-12-09</td>\n",
       "      <td>371</td>\n",
       "    </tr>\n",
       "  </tbody>\n",
       "</table>\n",
       "</div>"
      ],
      "text/plain": [
       "          day  event_name\n",
       "0  2020-12-07         318\n",
       "1  2020-12-08         313\n",
       "2  2020-12-09         371"
      ]
     },
     "execution_count": 71,
     "metadata": {},
     "output_type": "execute_result"
    }
   ],
   "source": [
    "event_a = user_test_a.groupby('day')['event_name'].count().reset_index()\n",
    "event_b = user_test_b.groupby('day')['event_name'].count().reset_index()\n",
    "event_a.head(3)"
   ]
  },
  {
   "cell_type": "code",
   "execution_count": 72,
   "metadata": {},
   "outputs": [
    {
     "data": {
      "image/png": "[encoded data removed]",
      "text/plain": [
       "<Figure size 1008x432 with 1 Axes>"
      ]
     },
     "metadata": {
      "needs_background": "light"
     },
     "output_type": "display_data"
    }
   ],
   "source": [
    "plt.figure(figsize=(14,6))\n",
    "\n",
    "plt.bar(event_a['day'], event_a['event_name'], label='Группа А', color=\"deeppink\")\n",
    "plt.bar(event_b['day'], event_b['event_name'], label='Группа В', color=\"g\")\n",
    "\n",
    "plt.title('Количество событий по дате их совершения для групп А и В', fontsize=15)\n",
    "plt.ylabel('Количество событий')\n",
    "plt.xlabel('Дата события')\n",
    "plt.grid()\n",
    "plt.legend()\n",
    "plt.show()"
   ]
  },
  {
   "cell_type": "markdown",
   "metadata": {},
   "source": [
    "Виден резкий рост количества событий 21 декабря для группы А. Посмотрю, а как привлекались пользователи по датам."
   ]
  },
  {
   "cell_type": "code",
   "execution_count": 73,
   "metadata": {},
   "outputs": [
    {
     "data": {
      "text/html": [
       "<div>\n",
       "<style scoped>\n",
       "    .dataframe tbody tr th:only-of-type {\n",
       "        vertical-align: middle;\n",
       "    }\n",
       "\n",
       "    .dataframe tbody tr th {\n",
       "        vertical-align: top;\n",
       "    }\n",
       "\n",
       "    .dataframe thead th {\n",
       "        text-align: right;\n",
       "    }\n",
       "</style>\n",
       "<table border=\"1\" class=\"dataframe\">\n",
       "  <thead>\n",
       "    <tr style=\"text-align: right;\">\n",
       "      <th></th>\n",
       "      <th>first_date</th>\n",
       "      <th>user_id</th>\n",
       "    </tr>\n",
       "  </thead>\n",
       "  <tbody>\n",
       "    <tr>\n",
       "      <th>0</th>\n",
       "      <td>2020-12-07</td>\n",
       "      <td>154</td>\n",
       "    </tr>\n",
       "    <tr>\n",
       "      <th>1</th>\n",
       "      <td>2020-12-08</td>\n",
       "      <td>90</td>\n",
       "    </tr>\n",
       "    <tr>\n",
       "      <th>2</th>\n",
       "      <td>2020-12-09</td>\n",
       "      <td>81</td>\n",
       "    </tr>\n",
       "    <tr>\n",
       "      <th>3</th>\n",
       "      <td>2020-12-10</td>\n",
       "      <td>60</td>\n",
       "    </tr>\n",
       "    <tr>\n",
       "      <th>4</th>\n",
       "      <td>2020-12-11</td>\n",
       "      <td>87</td>\n",
       "    </tr>\n",
       "    <tr>\n",
       "      <th>5</th>\n",
       "      <td>2020-12-12</td>\n",
       "      <td>61</td>\n",
       "    </tr>\n",
       "    <tr>\n",
       "      <th>6</th>\n",
       "      <td>2020-12-13</td>\n",
       "      <td>52</td>\n",
       "    </tr>\n",
       "    <tr>\n",
       "      <th>7</th>\n",
       "      <td>2020-12-14</td>\n",
       "      <td>366</td>\n",
       "    </tr>\n",
       "    <tr>\n",
       "      <th>8</th>\n",
       "      <td>2020-12-15</td>\n",
       "      <td>202</td>\n",
       "    </tr>\n",
       "    <tr>\n",
       "      <th>9</th>\n",
       "      <td>2020-12-16</td>\n",
       "      <td>160</td>\n",
       "    </tr>\n",
       "    <tr>\n",
       "      <th>10</th>\n",
       "      <td>2020-12-17</td>\n",
       "      <td>202</td>\n",
       "    </tr>\n",
       "    <tr>\n",
       "      <th>11</th>\n",
       "      <td>2020-12-18</td>\n",
       "      <td>210</td>\n",
       "    </tr>\n",
       "    <tr>\n",
       "      <th>12</th>\n",
       "      <td>2020-12-19</td>\n",
       "      <td>226</td>\n",
       "    </tr>\n",
       "    <tr>\n",
       "      <th>13</th>\n",
       "      <td>2020-12-20</td>\n",
       "      <td>255</td>\n",
       "    </tr>\n",
       "    <tr>\n",
       "      <th>14</th>\n",
       "      <td>2020-12-21</td>\n",
       "      <td>398</td>\n",
       "    </tr>\n",
       "  </tbody>\n",
       "</table>\n",
       "</div>"
      ],
      "text/plain": [
       "   first_date  user_id\n",
       "0  2020-12-07      154\n",
       "1  2020-12-08       90\n",
       "2  2020-12-09       81\n",
       "3  2020-12-10       60\n",
       "4  2020-12-11       87\n",
       "5  2020-12-12       61\n",
       "6  2020-12-13       52\n",
       "7  2020-12-14      366\n",
       "8  2020-12-15      202\n",
       "9  2020-12-16      160\n",
       "10 2020-12-17      202\n",
       "11 2020-12-18      210\n",
       "12 2020-12-19      226\n",
       "13 2020-12-20      255\n",
       "14 2020-12-21      398"
      ]
     },
     "execution_count": 73,
     "metadata": {},
     "output_type": "execute_result"
    }
   ],
   "source": [
    "first_date_a = user_test_a.groupby('first_date')['user_id'].nunique().reset_index()\n",
    "first_date_b = user_test_b.groupby('first_date')['user_id'].nunique().reset_index()\n",
    "first_date_a"
   ]
  },
  {
   "cell_type": "code",
   "execution_count": 74,
   "metadata": {},
   "outputs": [
    {
     "data": {
      "image/png": "[encoded data removed]",
      "text/plain": [
       "<Figure size 1008x432 with 1 Axes>"
      ]
     },
     "metadata": {
      "needs_background": "light"
     },
     "output_type": "display_data"
    }
   ],
   "source": [
    "plt.figure(figsize=(14,6))\n",
    "\n",
    "plt.bar(first_date_a['first_date'], first_date_a['user_id'], label='Группа А', color=\"deeppink\")\n",
    "plt.bar(first_date_b['first_date'], first_date_b['user_id'], label='Группа В', color=\"g\")\n",
    "\n",
    "plt.title('Привлечение новых пользователей по дате для групп А и В', fontsize=15)\n",
    "plt.ylabel('Количество пользователей')\n",
    "plt.xlabel('Дата привлечения')\n",
    "plt.grid()\n",
    "plt.legend()\n",
    "plt.show()"
   ]
  },
  {
   "cell_type": "markdown",
   "metadata": {},
   "source": [
    "И привлеклось 21 декабря больше всего пользователей, отсюда и рост количества событий."
   ]
  },
  {
   "cell_type": "markdown",
   "metadata": {},
   "source": [
    "### Изменение конверсии в воронке в выборках на разных этапах"
   ]
  },
  {
   "cell_type": "code",
   "execution_count": 75,
   "metadata": {},
   "outputs": [
    {
     "data": {
      "image/png": "[encoded data removed]"
     },
     "metadata": {},
     "output_type": "display_data"
    }
   ],
   "source": [
    "# Воронка конверсии по группам\n",
    "\n",
    "fig = go.Figure()\n",
    "\n",
    "fig.add_trace(go.Funnel(\n",
    "    name = 'Группа А',\n",
    "    y = [\"login\", \"product_cart\", \"product_page\", \"purchase\"],\n",
    "    x = [test_а.at[0,'user_id'], test_а.at[2,'user_id'], test_а.at[1,'user_id'], test_а.at[3,'user_id']],\n",
    "    textinfo = \"value+percent initial\",\n",
    "    opacity = 0.65, marker = {\"color\": [\"#AB63FA\", \"#AB63FA\", \"#AB63FA\", \"#AB63FA\"],\n",
    "    \"line\": {\"width\": [3, 2, 2], \"color\": [\"yellowgreen\", \"yellowgreen\", \"yellowgreen\"]}},\n",
    "    connector = {\"line\": {\"color\": \"violet\", \"dash\": \"solid\", \"width\": 3}}\n",
    "))\n",
    "\n",
    "fig.add_trace(go.Funnel(\n",
    "    name = 'Группа В',\n",
    "    orientation = \"h\",\n",
    "    y = [\"login\", \"product_cart\", \"product_page\", \"purchase\"],\n",
    "    x = [test_b.at[0,'user_id'], test_b.at[2,'user_id'], test_b.at[1,'user_id'], test_b.at[3,'user_id']],\n",
    "    textposition = \"inside\",\n",
    "    textinfo = \"value+percent initial\",\n",
    "    opacity = 0.65, marker = {\"color\": [\"#00CC96\", \"#00CC96\", \"#00CC96\", \"#00CC96\"],\n",
    "    \"line\": {\"width\": [3, 2, 2], \"color\": [\"yellowgreen\", \"yellowgreen\", \"yellowgreen\"]}},\n",
    "    connector = {\"line\": {\"color\": \"violet\", \"dash\": \"solid\", \"width\": 3}}\n",
    ")\n",
    "    )\n",
    "fig.update_layout(title='Доля пользователей, доходящая от первого события до оплаты', width=900, height=550)\n",
    "fig.show(\"png\")"
   ]
  },
  {
   "cell_type": "markdown",
   "metadata": {},
   "source": [
    "Как мы уже видели ранее, при проверке соответствия данных ТЗ, пользователи после регистрации могут сразу попасть в корзину, не открывая карточку товара. Из корзины до оплаты доходит только 32% пользователей у контрольной группы и 28% у тестовой."
   ]
  },
  {
   "cell_type": "markdown",
   "metadata": {},
   "source": [
    "## Оценка результатов A/B-тестирования"
   ]
  },
  {
   "cell_type": "code",
   "execution_count": 76,
   "metadata": {},
   "outputs": [
    {
     "data": {
      "text/html": [
       "<div>\n",
       "<style scoped>\n",
       "    .dataframe tbody tr th:only-of-type {\n",
       "        vertical-align: middle;\n",
       "    }\n",
       "\n",
       "    .dataframe tbody tr th {\n",
       "        vertical-align: top;\n",
       "    }\n",
       "\n",
       "    .dataframe thead th {\n",
       "        text-align: right;\n",
       "    }\n",
       "</style>\n",
       "<table border=\"1\" class=\"dataframe\">\n",
       "  <thead>\n",
       "    <tr style=\"text-align: right;\">\n",
       "      <th></th>\n",
       "      <th>login</th>\n",
       "      <th>product_cart</th>\n",
       "      <th>product_page</th>\n",
       "      <th>purchase</th>\n",
       "      <th>total_number</th>\n",
       "    </tr>\n",
       "    <tr>\n",
       "      <th>group</th>\n",
       "      <th></th>\n",
       "      <th></th>\n",
       "      <th></th>\n",
       "      <th></th>\n",
       "      <th></th>\n",
       "    </tr>\n",
       "  </thead>\n",
       "  <tbody>\n",
       "    <tr>\n",
       "      <th>A</th>\n",
       "      <td>2604</td>\n",
       "      <td>782</td>\n",
       "      <td>1685</td>\n",
       "      <td>833</td>\n",
       "      <td>2604</td>\n",
       "    </tr>\n",
       "    <tr>\n",
       "      <th>B</th>\n",
       "      <td>876</td>\n",
       "      <td>244</td>\n",
       "      <td>493</td>\n",
       "      <td>249</td>\n",
       "      <td>877</td>\n",
       "    </tr>\n",
       "  </tbody>\n",
       "</table>\n",
       "</div>"
      ],
      "text/plain": [
       "       login  product_cart  product_page  purchase  total_number\n",
       "group                                                           \n",
       "A       2604           782          1685       833          2604\n",
       "B        876           244           493       249           877"
      ]
     },
     "execution_count": 76,
     "metadata": {},
     "output_type": "execute_result"
    }
   ],
   "source": [
    "# Подготовлю таблицу\n",
    "\n",
    "\n",
    "recommender_system_test = recommender_system_test[(recommender_system_test['event_dt']-recommender_system_test['first_date']).dt.days <= 14]\n",
    "\n",
    "test = recommender_system_test.pivot_table(index='group', columns = 'event_name', values = 'user_id', aggfunc = 'nunique')\n",
    "\n",
    "# Добавлю столбец с общей численностью\n",
    "\n",
    "test['total_number'] = recommender_system_test.groupby('group')['user_id'].nunique()\n",
    "test.columns.name = None\n",
    "test"
   ]
  },
  {
   "cell_type": "code",
   "execution_count": 77,
   "metadata": {},
   "outputs": [],
   "source": [
    "# Создам переменные групп по событиям\n",
    "\n",
    "a = test.iloc[0][[0,1,2,3,4]]\n",
    "b = test.iloc[1][[0,1,2,3,4]]"
   ]
  },
  {
   "cell_type": "markdown",
   "metadata": {},
   "source": [
    "Далее я буду проводить несколько проверок гипотез, проверка происходит на одних и тех же данных. Это множественный тест и с каждой новой проверкой гипотезы растёт вероятность ошибки первого рода. Чтобы повысить мощность теста я буду использовать метод Шидака. В каждом тесте alpha = 1 - (1-0.05)**(1/4)\n",
    "\n",
    "4-это количество проверок."
   ]
  },
  {
   "cell_type": "code",
   "execution_count": 78,
   "metadata": {},
   "outputs": [],
   "source": [
    "# Функция для проведения теста\n",
    "\n",
    "def z_value_count(purchases1, purchases2, leads1, leads2, alpha = 1 - (1-0.05)**(1/4)):\n",
    "    purchases = np.array([purchases1, purchases2])\n",
    "    leads = np.array([leads1,leads2])\n",
    "# пропорция успехов в первой группе:\n",
    "    p1 = purchases[0]/leads[0]\n",
    "\n",
    "        # пропорция успехов во второй группе:\n",
    "    p2 = purchases[1]/leads[1]\n",
    "\n",
    "    \n",
    "    print(purchases[0], purchases[1], leads[0], leads[1])\n",
    "    p_combined = (purchases[0] + purchases[1]) / (leads[0] + leads[1])\n",
    "\n",
    "        # разница пропорций в датасетах\n",
    "    difference = p1 - p2 \n",
    "\n",
    "    z_value = difference / mth.sqrt(p_combined * (1 - p_combined) * (1/leads[0] + 1/leads[1]))\n",
    "\n",
    "        # задаем стандартное нормальное распределение (среднее 0, ст.отклонение 1)\n",
    "    distr = stats.norm(0, 1) \n",
    "\n",
    "\n",
    "    p_value = (1 - distr.cdf(abs(z_value))) * 2 \n",
    "\n",
    "    print('p-значение: ', p_value)\n",
    "\n",
    "    if p_value < alpha: \n",
    "        print('Отвергаем нулевую гипотезу: между долями есть значимая разница')\n",
    "    else:\n",
    "        print(\n",
    "        'Не получилось отвергнуть нулевую гипотезу, нет оснований считать доли разными'\n",
    "            )"
   ]
  },
  {
   "cell_type": "markdown",
   "metadata": {},
   "source": [
    "### А/B-эксперимент\n",
    "\n",
    "**Событие: login**\n",
    "\n",
    "- Гипотеза Н_0: Доли пользователей в группах A и B, которые зарегистрировались на сайте, равны\n",
    "- Гипотеза Н_1: Доли пользователей в группах A и B, которые зарегистрировались на сайте, не равны"
   ]
  },
  {
   "cell_type": "code",
   "execution_count": 79,
   "metadata": {},
   "outputs": [
    {
     "name": "stdout",
     "output_type": "stream",
     "text": [
      "2604 876 2604 877\n",
      "p-значение:  0.08481837035887363\n",
      "Не получилось отвергнуть нулевую гипотезу, нет оснований считать доли разными\n"
     ]
    }
   ],
   "source": [
    "z_value_count(a[0], b[0], a[4], b[4])"
   ]
  },
  {
   "cell_type": "markdown",
   "metadata": {},
   "source": [
    "Статистические критерии не находят разницу между выборками."
   ]
  },
  {
   "cell_type": "markdown",
   "metadata": {},
   "source": [
    "### А/B-эксперимент\n",
    "\n",
    "**Событие: product_cart**\n",
    "\n",
    "- Гипотеза Н_0: Доли пользователей в группах A и B, открывших карточку товаров, равны\n",
    "- Гипотеза Н_1: Доли пользователей в группах A и B, открывших карточку товаров, не равны"
   ]
  },
  {
   "cell_type": "code",
   "execution_count": 80,
   "metadata": {},
   "outputs": [
    {
     "name": "stdout",
     "output_type": "stream",
     "text": [
      "782 244 2604 877\n",
      "p-значение:  0.21469192029582396\n",
      "Не получилось отвергнуть нулевую гипотезу, нет оснований считать доли разными\n"
     ]
    }
   ],
   "source": [
    "z_value_count(a[1], b[1], a[4], b[4])"
   ]
  },
  {
   "cell_type": "markdown",
   "metadata": {},
   "source": [
    "Статистические критерии не находят разницу между выборками."
   ]
  },
  {
   "cell_type": "markdown",
   "metadata": {},
   "source": [
    "### А/B-эксперимент\n",
    "\n",
    "**Событие: product_page**\n",
    "\n",
    "- Гипотеза Н_0: Доли пользователей в группах A и B, открывших страницу показа корзины, равны\n",
    "- Гипотеза Н_1: Доли пользователей в группах A и B, открывших страницу показа корзины, не равны"
   ]
  },
  {
   "cell_type": "code",
   "execution_count": 81,
   "metadata": {},
   "outputs": [
    {
     "name": "stdout",
     "output_type": "stream",
     "text": [
      "1685 493 2604 877\n",
      "p-значение:  6.942739359416805e-06\n",
      "Отвергаем нулевую гипотезу: между долями есть значимая разница\n"
     ]
    }
   ],
   "source": [
    "z_value_count(a[2], b[2], a[4], b[4])"
   ]
  },
  {
   "cell_type": "markdown",
   "metadata": {},
   "source": [
    "Статистические критерии нашли разницу между выборками."
   ]
  },
  {
   "cell_type": "markdown",
   "metadata": {},
   "source": [
    "### А/B-эксперимент\n",
    "\n",
    "**Событие: purchase**\n",
    "\n",
    "- Гипотеза Н_0: Доли пользователей в группах A и B, открывших страницу оплаты, равны\n",
    "- Гипотеза Н_1: Доли пользователей в группах A и B, открывших страницу оплаты, не равны"
   ]
  },
  {
   "cell_type": "code",
   "execution_count": 82,
   "metadata": {},
   "outputs": [
    {
     "name": "stdout",
     "output_type": "stream",
     "text": [
      "833 249 2604 877\n",
      "p-значение:  0.04652482738393027\n",
      "Не получилось отвергнуть нулевую гипотезу, нет оснований считать доли разными\n"
     ]
    }
   ],
   "source": [
    "z_value_count(a[3], b[3], a[4], b[4])"
   ]
  },
  {
   "cell_type": "markdown",
   "metadata": {},
   "source": [
    "Статистические критерии не находят разницу между выборками."
   ]
  },
  {
   "cell_type": "markdown",
   "metadata": {},
   "source": [
    "**Вывод**\n",
    "\n",
    "По результатам теста выявлена статистическая разница между группами в событии \"показ корзины\". Но т.к данные для теста собраны некорректно и не соответствуют по многим пунктам ТЗ - не советую ориентироваться на результаты теста."
   ]
  },
  {
   "cell_type": "markdown",
   "metadata": {},
   "source": [
    "## Вывод и рекомендации"
   ]
  },
  {
   "cell_type": "markdown",
   "metadata": {},
   "source": [
    "1. В моем распоряжении были следующие данные: \n",
    "- техническое задание.\n",
    "- датасет 'actions_new_users' - содержит информацию о действиях новых пользователей. Всего в датасете 440317 строк. Есть данные за период совершения событий с 7 декабря 2020 по 30 декабря 2020 года.\n",
    "- датасет 'marketing_event' - содержит информацию о маркетинговых событиях на 2020 год. \n",
    "- датасет 'new_users' - содержит информацию о пользователях, зарегистрировавшихся с 7 по 21 декабря 2020 года. Всего в датасете 61733 строк. \n",
    "- датасет 'test_participants' - это таблица участников тестов, содержит 18268 строк. \n",
    "\n",
    "Была проведена предобработка данных.\n",
    "\n",
    "2. Данные не соответствуют ТЗ. \n",
    "\n",
    "Были пользователи, которые пришли в тест после 21 декабря. Их я удалила. \n",
    "\n",
    "Так же есть пересечения с другим тестом. Я проверила распределение по группам А и В таких пользователей, распределение нормальное, пользователей оставила. Но оценить влияние другого теста на текущий нет возможности. \n",
    "\n",
    "Так же есть пересечение с маркетинговой акцией. В целом, увидеть влияние акции на действие пользователей не удалось. Но быть уверенными до конца тоже невозможно. \n",
    "\n",
    "Ожидаемый эффект теста не достигнут. Нет улучшения конверсии на 10%. Более того, наблюдается ее снижение. По воронке можно отметить, что многие пользователи сразу переходят в корзину, без просмотра карточки товара. Из корзины до оплаты доходит только 32% пользователей у контрольной группы и 28% у тестовой.\n",
    "\n",
    "Пересечений между группами нет. \n",
    "\n",
    "Пользователи составляют 13.73% новых пользователей из EU. \n",
    "\n",
    "В тесте 6351 участник.\n",
    "\n",
    "3. По результатам теста выявлена статистическая разница между группами в событии \"показ корзины\". Но, т.к данные для теста собраны некорректно и не соответствуют по многим пунктам ТЗ - не советую ориентироваться на результаты теста.\n",
    "\n",
    "4. Рекомендую провести новый, более корректный А/В тест, по которому мы сможем оценить эффективность изменений для тестовой группы."
   ]
  },
  {
   "cell_type": "code",
   "execution_count": null,
   "metadata": {},
   "outputs": [],
   "source": []
  }
 ],
 "metadata": {
  "ExecuteTimeLog": [
   {
    "duration": 1880,
    "start_time": "2023-04-30T16:19:18.607Z"
   },
   {
    "duration": 81,
    "start_time": "2023-04-30T16:19:30.668Z"
   },
   {
    "duration": 22,
    "start_time": "2023-04-30T16:19:39.953Z"
   },
   {
    "duration": 19,
    "start_time": "2023-04-30T16:19:51.022Z"
   },
   {
    "duration": 18,
    "start_time": "2023-04-30T16:20:25.049Z"
   },
   {
    "duration": 28,
    "start_time": "2023-04-30T16:20:32.657Z"
   },
   {
    "duration": 41,
    "start_time": "2023-04-30T16:21:14.637Z"
   },
   {
    "duration": 13,
    "start_time": "2023-04-30T16:21:28.380Z"
   },
   {
    "duration": 32,
    "start_time": "2023-04-30T16:21:35.947Z"
   },
   {
    "duration": 5,
    "start_time": "2023-04-30T16:21:44.647Z"
   },
   {
    "duration": 13,
    "start_time": "2023-04-30T16:21:55.369Z"
   },
   {
    "duration": 55,
    "start_time": "2023-04-30T16:22:04.827Z"
   },
   {
    "duration": 6,
    "start_time": "2023-04-30T16:22:26.639Z"
   },
   {
    "duration": 16,
    "start_time": "2023-04-30T16:22:34.715Z"
   },
   {
    "duration": 71,
    "start_time": "2023-04-30T16:22:45.019Z"
   },
   {
    "duration": 12,
    "start_time": "2023-04-30T16:22:54.279Z"
   },
   {
    "duration": 7,
    "start_time": "2023-04-30T16:23:49.703Z"
   },
   {
    "duration": 8,
    "start_time": "2023-04-30T16:23:59.122Z"
   },
   {
    "duration": 18,
    "start_time": "2023-04-30T16:24:08.073Z"
   },
   {
    "duration": 6,
    "start_time": "2023-04-30T16:24:19.421Z"
   },
   {
    "duration": 9,
    "start_time": "2023-04-30T16:24:27.738Z"
   },
   {
    "duration": 19,
    "start_time": "2023-04-30T16:24:36.514Z"
   },
   {
    "duration": 10,
    "start_time": "2023-04-30T16:28:16.146Z"
   },
   {
    "duration": 12029,
    "start_time": "2023-04-30T16:31:06.388Z"
   },
   {
    "duration": 91,
    "start_time": "2023-04-30T16:31:18.420Z"
   },
   {
    "duration": 42,
    "start_time": "2023-04-30T16:31:18.513Z"
   },
   {
    "duration": 52,
    "start_time": "2023-04-30T16:31:18.558Z"
   },
   {
    "duration": 55,
    "start_time": "2023-04-30T16:31:18.612Z"
   },
   {
    "duration": 37,
    "start_time": "2023-04-30T16:31:18.669Z"
   },
   {
    "duration": 68,
    "start_time": "2023-04-30T16:31:18.709Z"
   },
   {
    "duration": 19,
    "start_time": "2023-04-30T16:31:18.780Z"
   },
   {
    "duration": 67,
    "start_time": "2023-04-30T16:31:18.801Z"
   },
   {
    "duration": 8,
    "start_time": "2023-04-30T16:31:18.873Z"
   },
   {
    "duration": 53,
    "start_time": "2023-04-30T16:31:18.883Z"
   },
   {
    "duration": 55,
    "start_time": "2023-04-30T16:31:18.938Z"
   },
   {
    "duration": 7,
    "start_time": "2023-04-30T16:31:18.995Z"
   },
   {
    "duration": 40,
    "start_time": "2023-04-30T16:31:19.005Z"
   },
   {
    "duration": 138,
    "start_time": "2023-04-30T16:31:19.048Z"
   },
   {
    "duration": 19,
    "start_time": "2023-04-30T16:31:19.189Z"
   },
   {
    "duration": 16,
    "start_time": "2023-04-30T16:31:19.211Z"
   },
   {
    "duration": 63,
    "start_time": "2023-04-30T16:31:19.244Z"
   },
   {
    "duration": 39,
    "start_time": "2023-04-30T16:31:19.309Z"
   },
   {
    "duration": 27,
    "start_time": "2023-04-30T16:31:19.350Z"
   },
   {
    "duration": 44,
    "start_time": "2023-04-30T16:31:19.381Z"
   },
   {
    "duration": 41,
    "start_time": "2023-04-30T16:31:19.428Z"
   },
   {
    "duration": 24,
    "start_time": "2023-04-30T16:31:19.472Z"
   },
   {
    "duration": 1573,
    "start_time": "2023-04-30T16:31:19.499Z"
   },
   {
    "duration": 21,
    "start_time": "2023-04-30T16:31:59.455Z"
   },
   {
    "duration": 18,
    "start_time": "2023-04-30T16:32:10.780Z"
   },
   {
    "duration": 615,
    "start_time": "2023-04-30T16:32:33.579Z"
   },
   {
    "duration": 169,
    "start_time": "2023-04-30T16:34:13.855Z"
   },
   {
    "duration": 39,
    "start_time": "2023-04-30T16:34:30.731Z"
   },
   {
    "duration": 586,
    "start_time": "2023-04-30T16:34:48.964Z"
   },
   {
    "duration": 179,
    "start_time": "2023-04-30T16:35:38.349Z"
   },
   {
    "duration": 187,
    "start_time": "2023-04-30T16:36:00.274Z"
   },
   {
    "duration": 40,
    "start_time": "2023-04-30T16:37:10.982Z"
   },
   {
    "duration": 348,
    "start_time": "2023-04-30T16:37:19.559Z"
   },
   {
    "duration": 49,
    "start_time": "2023-04-30T16:38:09.615Z"
   },
   {
    "duration": 34,
    "start_time": "2023-04-30T16:38:21.135Z"
   },
   {
    "duration": 636,
    "start_time": "2023-04-30T16:38:49.270Z"
   },
   {
    "duration": 14,
    "start_time": "2023-04-30T16:42:24.714Z"
   },
   {
    "duration": 144,
    "start_time": "2023-04-30T16:42:46.071Z"
   },
   {
    "duration": 15,
    "start_time": "2023-04-30T16:43:32.853Z"
   },
   {
    "duration": 8,
    "start_time": "2023-04-30T16:43:46.014Z"
   },
   {
    "duration": 981,
    "start_time": "2023-04-30T16:46:43.137Z"
   },
   {
    "duration": 7,
    "start_time": "2023-04-30T16:46:52.480Z"
   },
   {
    "duration": 4698,
    "start_time": "2023-04-30T16:47:48.575Z"
   },
   {
    "duration": 90,
    "start_time": "2023-04-30T16:47:53.276Z"
   },
   {
    "duration": 23,
    "start_time": "2023-04-30T16:47:53.368Z"
   },
   {
    "duration": 17,
    "start_time": "2023-04-30T16:47:53.394Z"
   },
   {
    "duration": 49,
    "start_time": "2023-04-30T16:47:53.413Z"
   },
   {
    "duration": 26,
    "start_time": "2023-04-30T16:47:53.465Z"
   },
   {
    "duration": 61,
    "start_time": "2023-04-30T16:47:53.493Z"
   },
   {
    "duration": 17,
    "start_time": "2023-04-30T16:47:53.556Z"
   },
   {
    "duration": 28,
    "start_time": "2023-04-30T16:47:53.576Z"
   },
   {
    "duration": 4,
    "start_time": "2023-04-30T16:47:53.609Z"
   },
   {
    "duration": 29,
    "start_time": "2023-04-30T16:47:53.644Z"
   },
   {
    "duration": 41,
    "start_time": "2023-04-30T16:47:53.675Z"
   },
   {
    "duration": 7,
    "start_time": "2023-04-30T16:47:53.718Z"
   },
   {
    "duration": 31,
    "start_time": "2023-04-30T16:47:53.727Z"
   },
   {
    "duration": 109,
    "start_time": "2023-04-30T16:47:53.761Z"
   },
   {
    "duration": 18,
    "start_time": "2023-04-30T16:47:53.872Z"
   },
   {
    "duration": 9,
    "start_time": "2023-04-30T16:47:53.892Z"
   },
   {
    "duration": 9,
    "start_time": "2023-04-30T16:47:53.903Z"
   },
   {
    "duration": 44,
    "start_time": "2023-04-30T16:47:53.915Z"
   },
   {
    "duration": 6,
    "start_time": "2023-04-30T16:47:53.962Z"
   },
   {
    "duration": 11,
    "start_time": "2023-04-30T16:47:53.971Z"
   },
   {
    "duration": 22,
    "start_time": "2023-04-30T16:47:53.984Z"
   },
   {
    "duration": 7,
    "start_time": "2023-04-30T16:47:54.008Z"
   },
   {
    "duration": 1172,
    "start_time": "2023-04-30T16:47:54.016Z"
   },
   {
    "duration": 20,
    "start_time": "2023-04-30T16:47:55.191Z"
   },
   {
    "duration": 51,
    "start_time": "2023-04-30T16:47:55.213Z"
   },
   {
    "duration": 638,
    "start_time": "2023-04-30T16:47:55.267Z"
   },
   {
    "duration": 238,
    "start_time": "2023-04-30T16:47:55.909Z"
   },
   {
    "duration": 43,
    "start_time": "2023-04-30T16:47:56.152Z"
   },
   {
    "duration": 579,
    "start_time": "2023-04-30T16:47:56.198Z"
   },
   {
    "duration": 229,
    "start_time": "2023-04-30T16:47:56.780Z"
   },
   {
    "duration": 183,
    "start_time": "2023-04-30T16:47:57.012Z"
   },
   {
    "duration": 72,
    "start_time": "2023-04-30T16:47:57.197Z"
   },
   {
    "duration": 313,
    "start_time": "2023-04-30T16:47:57.272Z"
   },
   {
    "duration": 32,
    "start_time": "2023-04-30T16:47:57.588Z"
   },
   {
    "duration": 35,
    "start_time": "2023-04-30T16:47:57.622Z"
   },
   {
    "duration": 601,
    "start_time": "2023-04-30T16:47:57.659Z"
   },
   {
    "duration": 15,
    "start_time": "2023-04-30T16:47:58.263Z"
   },
   {
    "duration": 170,
    "start_time": "2023-04-30T16:47:58.280Z"
   },
   {
    "duration": 19,
    "start_time": "2023-04-30T16:47:58.454Z"
   },
   {
    "duration": 7,
    "start_time": "2023-04-30T16:47:58.475Z"
   },
   {
    "duration": 13,
    "start_time": "2023-04-30T16:47:58.484Z"
   },
   {
    "duration": 11,
    "start_time": "2023-04-30T16:47:58.499Z"
   },
   {
    "duration": 19,
    "start_time": "2023-04-30T16:48:22.246Z"
   },
   {
    "duration": 38,
    "start_time": "2023-04-30T16:48:50.655Z"
   },
   {
    "duration": 568,
    "start_time": "2023-04-30T16:49:32.335Z"
   },
   {
    "duration": 3356,
    "start_time": "2023-04-30T17:11:15.075Z"
   },
   {
    "duration": 631,
    "start_time": "2023-04-30T17:12:10.426Z"
   },
   {
    "duration": 5374,
    "start_time": "2023-04-30T17:12:22.629Z"
   },
   {
    "duration": 788,
    "start_time": "2023-04-30T17:12:28.006Z"
   },
   {
    "duration": 131,
    "start_time": "2023-04-30T17:12:28.796Z"
   },
   {
    "duration": 18,
    "start_time": "2023-04-30T17:12:32.986Z"
   },
   {
    "duration": 17,
    "start_time": "2023-04-30T17:12:42.505Z"
   },
   {
    "duration": 34,
    "start_time": "2023-04-30T17:12:50.623Z"
   },
   {
    "duration": 20,
    "start_time": "2023-04-30T17:12:58.421Z"
   },
   {
    "duration": 4,
    "start_time": "2023-04-30T17:13:53.416Z"
   },
   {
    "duration": 17,
    "start_time": "2023-04-30T17:13:59.783Z"
   },
   {
    "duration": 22,
    "start_time": "2023-04-30T17:14:08.806Z"
   },
   {
    "duration": 21,
    "start_time": "2023-04-30T17:14:16.706Z"
   },
   {
    "duration": 3,
    "start_time": "2023-04-30T17:14:32.725Z"
   },
   {
    "duration": 31,
    "start_time": "2023-04-30T17:14:44.886Z"
   },
   {
    "duration": 12,
    "start_time": "2023-04-30T17:14:56.190Z"
   },
   {
    "duration": 100,
    "start_time": "2023-04-30T17:15:15.941Z"
   },
   {
    "duration": 35,
    "start_time": "2023-04-30T17:15:23.532Z"
   },
   {
    "duration": 30,
    "start_time": "2023-04-30T17:15:35.138Z"
   },
   {
    "duration": 17,
    "start_time": "2023-04-30T17:15:53.411Z"
   },
   {
    "duration": 52,
    "start_time": "2023-04-30T17:16:28.060Z"
   },
   {
    "duration": 9,
    "start_time": "2023-04-30T17:16:58.668Z"
   },
   {
    "duration": 86,
    "start_time": "2023-04-30T17:17:11.419Z"
   },
   {
    "duration": 20,
    "start_time": "2023-04-30T17:17:18.842Z"
   },
   {
    "duration": 494,
    "start_time": "2023-04-30T17:17:43.161Z"
   },
   {
    "duration": 7,
    "start_time": "2023-04-30T17:18:14.504Z"
   },
   {
    "duration": 6,
    "start_time": "2023-04-30T17:18:23.412Z"
   },
   {
    "duration": 246,
    "start_time": "2023-04-30T17:18:36.830Z"
   },
   {
    "duration": 5138,
    "start_time": "2023-04-30T17:18:48.890Z"
   },
   {
    "duration": 29,
    "start_time": "2023-04-30T17:19:15.720Z"
   },
   {
    "duration": 129,
    "start_time": "2023-04-30T17:19:23.352Z"
   },
   {
    "duration": 592,
    "start_time": "2023-04-30T17:19:31.727Z"
   },
   {
    "duration": 117,
    "start_time": "2023-04-30T17:19:44.573Z"
   },
   {
    "duration": 22,
    "start_time": "2023-04-30T17:20:38.468Z"
   },
   {
    "duration": 46,
    "start_time": "2023-04-30T17:20:47.113Z"
   },
   {
    "duration": 94,
    "start_time": "2023-04-30T17:21:29.313Z"
   },
   {
    "duration": 96,
    "start_time": "2023-04-30T17:21:37.384Z"
   },
   {
    "duration": 4,
    "start_time": "2023-04-30T17:21:55.879Z"
   },
   {
    "duration": 20,
    "start_time": "2023-04-30T17:22:03.085Z"
   },
   {
    "duration": 6,
    "start_time": "2023-04-30T17:22:12.130Z"
   },
   {
    "duration": 5,
    "start_time": "2023-04-30T17:22:19.017Z"
   },
   {
    "duration": 113,
    "start_time": "2023-04-30T17:23:11.769Z"
   },
   {
    "duration": 10,
    "start_time": "2023-04-30T17:23:25.422Z"
   },
   {
    "duration": 8,
    "start_time": "2023-04-30T17:23:33.887Z"
   },
   {
    "duration": 13,
    "start_time": "2023-04-30T17:23:54.980Z"
   },
   {
    "duration": 1633,
    "start_time": "2023-04-30T17:24:22.980Z"
   },
   {
    "duration": 19,
    "start_time": "2023-04-30T17:25:02.215Z"
   },
   {
    "duration": 15,
    "start_time": "2023-04-30T17:25:13.772Z"
   },
   {
    "duration": 136,
    "start_time": "2023-04-30T17:25:29.879Z"
   },
   {
    "duration": 82,
    "start_time": "2023-04-30T17:25:54.641Z"
   },
   {
    "duration": 7,
    "start_time": "2023-04-30T17:26:21.714Z"
   },
   {
    "duration": 592,
    "start_time": "2023-04-30T17:26:30.391Z"
   },
   {
    "duration": 8,
    "start_time": "2023-04-30T17:26:40.170Z"
   },
   {
    "duration": 7,
    "start_time": "2023-04-30T17:27:00.481Z"
   },
   {
    "duration": 12,
    "start_time": "2023-04-30T17:27:08.214Z"
   },
   {
    "duration": 103,
    "start_time": "2023-04-30T17:28:12.903Z"
   },
   {
    "duration": 192,
    "start_time": "2023-04-30T17:28:27.677Z"
   },
   {
    "duration": 314,
    "start_time": "2023-04-30T17:28:39.663Z"
   },
   {
    "duration": 17,
    "start_time": "2023-04-30T17:28:59.137Z"
   },
   {
    "duration": 27,
    "start_time": "2023-04-30T17:29:11.300Z"
   },
   {
    "duration": 413,
    "start_time": "2023-04-30T17:29:28.393Z"
   },
   {
    "duration": 14,
    "start_time": "2023-04-30T17:30:00.825Z"
   },
   {
    "duration": 24,
    "start_time": "2023-04-30T17:30:10.128Z"
   },
   {
    "duration": 67,
    "start_time": "2023-04-30T17:30:47.833Z"
   },
   {
    "duration": 126,
    "start_time": "2023-04-30T17:31:04.386Z"
   },
   {
    "duration": 136,
    "start_time": "2023-04-30T17:33:45.496Z"
   },
   {
    "duration": 51,
    "start_time": "2023-04-30T17:33:56.619Z"
   },
   {
    "duration": 19,
    "start_time": "2023-04-30T17:34:06.592Z"
   },
   {
    "duration": 65,
    "start_time": "2023-04-30T17:35:02.021Z"
   },
   {
    "duration": 50,
    "start_time": "2023-04-30T17:35:12.076Z"
   },
   {
    "duration": 72,
    "start_time": "2023-04-30T17:35:32.900Z"
   },
   {
    "duration": 74,
    "start_time": "2023-04-30T17:35:46.334Z"
   },
   {
    "duration": 97,
    "start_time": "2023-04-30T17:35:59.878Z"
   },
   {
    "duration": 219,
    "start_time": "2023-04-30T17:36:09.330Z"
   },
   {
    "duration": 73,
    "start_time": "2023-04-30T17:36:21.861Z"
   },
   {
    "duration": 86,
    "start_time": "2023-04-30T17:36:31.919Z"
   },
   {
    "duration": 79,
    "start_time": "2023-04-30T17:37:10.112Z"
   },
   {
    "duration": 29,
    "start_time": "2023-04-30T17:37:17.284Z"
   },
   {
    "duration": 33,
    "start_time": "2023-04-30T17:37:25.072Z"
   },
   {
    "duration": 79,
    "start_time": "2023-04-30T17:38:28.782Z"
   },
   {
    "duration": 20,
    "start_time": "2023-04-30T17:38:40.519Z"
   },
   {
    "duration": 52,
    "start_time": "2023-04-30T17:38:48.516Z"
   },
   {
    "duration": 18,
    "start_time": "2023-04-30T17:39:00.844Z"
   },
   {
    "duration": 6,
    "start_time": "2023-04-30T17:39:10.029Z"
   },
   {
    "duration": 6,
    "start_time": "2023-04-30T17:39:43.211Z"
   },
   {
    "duration": 6,
    "start_time": "2023-04-30T17:40:07.515Z"
   },
   {
    "duration": 7,
    "start_time": "2023-04-30T17:40:30.769Z"
   },
   {
    "duration": 4687,
    "start_time": "2023-04-30T17:42:24.935Z"
   },
   {
    "duration": 389,
    "start_time": "2023-04-30T17:42:29.625Z"
   },
   {
    "duration": 20,
    "start_time": "2023-04-30T17:42:30.016Z"
   },
   {
    "duration": 50,
    "start_time": "2023-04-30T17:42:30.039Z"
   },
   {
    "duration": 57,
    "start_time": "2023-04-30T17:42:30.091Z"
   },
   {
    "duration": 132,
    "start_time": "2023-04-30T17:42:30.150Z"
   },
   {
    "duration": 33,
    "start_time": "2023-04-30T17:42:30.288Z"
   },
   {
    "duration": 112,
    "start_time": "2023-04-30T17:42:30.323Z"
   },
   {
    "duration": 155,
    "start_time": "2023-04-30T17:42:30.437Z"
   },
   {
    "duration": 71,
    "start_time": "2023-04-30T17:42:30.596Z"
   },
   {
    "duration": 77,
    "start_time": "2023-04-30T17:42:30.670Z"
   },
   {
    "duration": 79,
    "start_time": "2023-04-30T17:42:30.750Z"
   },
   {
    "duration": 146,
    "start_time": "2023-04-30T17:42:30.832Z"
   },
   {
    "duration": 32,
    "start_time": "2023-04-30T17:42:30.981Z"
   },
   {
    "duration": 16,
    "start_time": "2023-04-30T17:42:31.015Z"
   },
   {
    "duration": 85,
    "start_time": "2023-04-30T17:42:31.034Z"
   },
   {
    "duration": 104,
    "start_time": "2023-04-30T17:42:31.121Z"
   },
   {
    "duration": 6,
    "start_time": "2023-04-30T17:42:31.227Z"
   },
   {
    "duration": 267,
    "start_time": "2023-04-30T17:42:31.235Z"
   },
   {
    "duration": 20,
    "start_time": "2023-04-30T17:42:31.505Z"
   },
   {
    "duration": 540,
    "start_time": "2023-04-30T17:42:31.527Z"
   },
   {
    "duration": 13,
    "start_time": "2023-04-30T17:42:32.074Z"
   },
   {
    "duration": 22,
    "start_time": "2023-04-30T17:42:32.090Z"
   },
   {
    "duration": 248,
    "start_time": "2023-04-30T17:42:32.114Z"
   },
   {
    "duration": 5350,
    "start_time": "2023-04-30T17:42:32.365Z"
   },
   {
    "duration": 40,
    "start_time": "2023-04-30T17:42:37.717Z"
   },
   {
    "duration": 146,
    "start_time": "2023-04-30T17:42:37.765Z"
   },
   {
    "duration": 508,
    "start_time": "2023-04-30T17:42:37.915Z"
   },
   {
    "duration": 108,
    "start_time": "2023-04-30T17:42:38.425Z"
   },
   {
    "duration": 126,
    "start_time": "2023-04-30T17:42:38.534Z"
   },
   {
    "duration": 4,
    "start_time": "2023-04-30T17:42:38.667Z"
   },
   {
    "duration": 41,
    "start_time": "2023-04-30T17:42:38.673Z"
   },
   {
    "duration": 14,
    "start_time": "2023-04-30T17:42:38.716Z"
   },
   {
    "duration": 56,
    "start_time": "2023-04-30T17:42:38.732Z"
   },
   {
    "duration": 16,
    "start_time": "2023-04-30T17:42:38.790Z"
   },
   {
    "duration": 7,
    "start_time": "2023-04-30T17:42:38.808Z"
   },
   {
    "duration": 13,
    "start_time": "2023-04-30T17:42:38.817Z"
   },
   {
    "duration": 1682,
    "start_time": "2023-04-30T17:42:38.833Z"
   },
   {
    "duration": 39,
    "start_time": "2023-04-30T17:42:40.518Z"
   },
   {
    "duration": 15,
    "start_time": "2023-04-30T17:42:40.559Z"
   },
   {
    "duration": 153,
    "start_time": "2023-04-30T17:42:40.577Z"
   },
   {
    "duration": 87,
    "start_time": "2023-04-30T17:42:40.732Z"
   },
   {
    "duration": 30,
    "start_time": "2023-04-30T17:42:40.820Z"
   },
   {
    "duration": 580,
    "start_time": "2023-04-30T17:42:40.855Z"
   },
   {
    "duration": 22,
    "start_time": "2023-04-30T17:42:41.442Z"
   },
   {
    "duration": 26,
    "start_time": "2023-04-30T17:42:41.467Z"
   },
   {
    "duration": 13,
    "start_time": "2023-04-30T17:42:41.495Z"
   },
   {
    "duration": 150,
    "start_time": "2023-04-30T17:42:41.510Z"
   },
   {
    "duration": 296,
    "start_time": "2023-04-30T17:42:41.662Z"
   },
   {
    "duration": 27,
    "start_time": "2023-04-30T17:42:41.961Z"
   },
   {
    "duration": 32,
    "start_time": "2023-04-30T17:42:41.990Z"
   },
   {
    "duration": 456,
    "start_time": "2023-04-30T17:42:42.024Z"
   },
   {
    "duration": 16,
    "start_time": "2023-04-30T17:42:42.484Z"
   },
   {
    "duration": 12,
    "start_time": "2023-04-30T17:42:42.503Z"
   },
   {
    "duration": 36,
    "start_time": "2023-04-30T17:42:42.517Z"
   },
   {
    "duration": 54,
    "start_time": "2023-04-30T17:42:42.555Z"
   },
   {
    "duration": 105,
    "start_time": "2023-04-30T17:42:42.611Z"
   },
   {
    "duration": 168,
    "start_time": "2023-04-30T17:42:42.718Z"
   },
   {
    "duration": 33,
    "start_time": "2023-04-30T17:42:42.889Z"
   },
   {
    "duration": 36,
    "start_time": "2023-04-30T17:42:42.924Z"
   },
   {
    "duration": 63,
    "start_time": "2023-04-30T17:42:42.962Z"
   },
   {
    "duration": 90,
    "start_time": "2023-04-30T17:42:43.027Z"
   },
   {
    "duration": 76,
    "start_time": "2023-04-30T17:42:43.119Z"
   },
   {
    "duration": 92,
    "start_time": "2023-04-30T17:42:43.197Z"
   },
   {
    "duration": 94,
    "start_time": "2023-04-30T17:42:43.292Z"
   },
   {
    "duration": 90,
    "start_time": "2023-04-30T17:42:43.388Z"
   },
   {
    "duration": 95,
    "start_time": "2023-04-30T17:42:43.481Z"
   },
   {
    "duration": 239,
    "start_time": "2023-04-30T17:42:43.579Z"
   },
   {
    "duration": 87,
    "start_time": "2023-04-30T17:42:43.820Z"
   },
   {
    "duration": 43,
    "start_time": "2023-04-30T17:42:43.909Z"
   },
   {
    "duration": 39,
    "start_time": "2023-04-30T17:42:43.958Z"
   },
   {
    "duration": 104,
    "start_time": "2023-04-30T17:42:43.998Z"
   },
   {
    "duration": 20,
    "start_time": "2023-04-30T17:42:44.105Z"
   },
   {
    "duration": 53,
    "start_time": "2023-04-30T17:42:44.127Z"
   },
   {
    "duration": 11,
    "start_time": "2023-04-30T17:42:44.183Z"
   },
   {
    "duration": 17,
    "start_time": "2023-04-30T17:42:44.196Z"
   },
   {
    "duration": 20,
    "start_time": "2023-04-30T17:42:44.215Z"
   },
   {
    "duration": 44,
    "start_time": "2023-04-30T17:42:44.236Z"
   },
   {
    "duration": 14,
    "start_time": "2023-04-30T17:42:44.282Z"
   },
   {
    "duration": 3095,
    "start_time": "2023-04-30T17:52:45.094Z"
   },
   {
    "duration": 1426,
    "start_time": "2023-04-30T17:53:36.411Z"
   },
   {
    "duration": 4446,
    "start_time": "2023-04-30T17:53:49.558Z"
   },
   {
    "duration": 1439,
    "start_time": "2023-04-30T17:53:54.007Z"
   },
   {
    "duration": 47,
    "start_time": "2023-04-30T17:53:55.449Z"
   },
   {
    "duration": 190,
    "start_time": "2023-04-30T17:53:55.499Z"
   },
   {
    "duration": 0,
    "start_time": "2023-04-30T17:53:55.694Z"
   },
   {
    "duration": 0,
    "start_time": "2023-04-30T17:53:55.696Z"
   },
   {
    "duration": 0,
    "start_time": "2023-04-30T17:53:55.698Z"
   },
   {
    "duration": 0,
    "start_time": "2023-04-30T17:53:55.699Z"
   },
   {
    "duration": 0,
    "start_time": "2023-04-30T17:53:55.701Z"
   },
   {
    "duration": 0,
    "start_time": "2023-04-30T17:53:55.703Z"
   },
   {
    "duration": 0,
    "start_time": "2023-04-30T17:53:55.704Z"
   },
   {
    "duration": 0,
    "start_time": "2023-04-30T17:53:55.705Z"
   },
   {
    "duration": 0,
    "start_time": "2023-04-30T17:53:55.707Z"
   },
   {
    "duration": 0,
    "start_time": "2023-04-30T17:53:55.709Z"
   },
   {
    "duration": 0,
    "start_time": "2023-04-30T17:53:55.710Z"
   },
   {
    "duration": 0,
    "start_time": "2023-04-30T17:53:55.711Z"
   },
   {
    "duration": 0,
    "start_time": "2023-04-30T17:53:55.713Z"
   },
   {
    "duration": 0,
    "start_time": "2023-04-30T17:53:55.746Z"
   },
   {
    "duration": 0,
    "start_time": "2023-04-30T17:53:55.748Z"
   },
   {
    "duration": 0,
    "start_time": "2023-04-30T17:53:55.749Z"
   },
   {
    "duration": 0,
    "start_time": "2023-04-30T17:53:55.753Z"
   },
   {
    "duration": 0,
    "start_time": "2023-04-30T17:53:55.754Z"
   },
   {
    "duration": 0,
    "start_time": "2023-04-30T17:53:55.755Z"
   },
   {
    "duration": 0,
    "start_time": "2023-04-30T17:53:55.757Z"
   },
   {
    "duration": 0,
    "start_time": "2023-04-30T17:53:55.758Z"
   },
   {
    "duration": 0,
    "start_time": "2023-04-30T17:53:55.759Z"
   },
   {
    "duration": 0,
    "start_time": "2023-04-30T17:53:55.760Z"
   },
   {
    "duration": 1,
    "start_time": "2023-04-30T17:53:55.761Z"
   },
   {
    "duration": 0,
    "start_time": "2023-04-30T17:53:55.763Z"
   },
   {
    "duration": 0,
    "start_time": "2023-04-30T17:53:55.764Z"
   },
   {
    "duration": 0,
    "start_time": "2023-04-30T17:53:55.765Z"
   },
   {
    "duration": 0,
    "start_time": "2023-04-30T17:53:55.766Z"
   },
   {
    "duration": 0,
    "start_time": "2023-04-30T17:53:55.767Z"
   },
   {
    "duration": 0,
    "start_time": "2023-04-30T17:53:55.768Z"
   },
   {
    "duration": 0,
    "start_time": "2023-04-30T17:53:55.770Z"
   },
   {
    "duration": 0,
    "start_time": "2023-04-30T17:53:55.771Z"
   },
   {
    "duration": 0,
    "start_time": "2023-04-30T17:53:55.772Z"
   },
   {
    "duration": 0,
    "start_time": "2023-04-30T17:53:55.773Z"
   },
   {
    "duration": 0,
    "start_time": "2023-04-30T17:53:55.774Z"
   },
   {
    "duration": 1,
    "start_time": "2023-04-30T17:53:55.775Z"
   },
   {
    "duration": 0,
    "start_time": "2023-04-30T17:53:55.777Z"
   },
   {
    "duration": 0,
    "start_time": "2023-04-30T17:53:55.778Z"
   },
   {
    "duration": 0,
    "start_time": "2023-04-30T17:53:55.779Z"
   },
   {
    "duration": 0,
    "start_time": "2023-04-30T17:53:55.784Z"
   },
   {
    "duration": 0,
    "start_time": "2023-04-30T17:53:55.785Z"
   },
   {
    "duration": 0,
    "start_time": "2023-04-30T17:53:55.787Z"
   },
   {
    "duration": 0,
    "start_time": "2023-04-30T17:53:55.789Z"
   },
   {
    "duration": 0,
    "start_time": "2023-04-30T17:53:55.791Z"
   },
   {
    "duration": 0,
    "start_time": "2023-04-30T17:53:55.793Z"
   },
   {
    "duration": 0,
    "start_time": "2023-04-30T17:53:55.795Z"
   },
   {
    "duration": 0,
    "start_time": "2023-04-30T17:53:55.849Z"
   },
   {
    "duration": 0,
    "start_time": "2023-04-30T17:53:55.850Z"
   },
   {
    "duration": 0,
    "start_time": "2023-04-30T17:53:55.851Z"
   },
   {
    "duration": 0,
    "start_time": "2023-04-30T17:53:55.852Z"
   },
   {
    "duration": 0,
    "start_time": "2023-04-30T17:53:55.853Z"
   },
   {
    "duration": 0,
    "start_time": "2023-04-30T17:53:55.856Z"
   },
   {
    "duration": 0,
    "start_time": "2023-04-30T17:53:55.857Z"
   },
   {
    "duration": 0,
    "start_time": "2023-04-30T17:53:55.858Z"
   },
   {
    "duration": 0,
    "start_time": "2023-04-30T17:53:55.859Z"
   },
   {
    "duration": 0,
    "start_time": "2023-04-30T17:53:55.860Z"
   },
   {
    "duration": 0,
    "start_time": "2023-04-30T17:53:55.864Z"
   },
   {
    "duration": 0,
    "start_time": "2023-04-30T17:53:55.865Z"
   },
   {
    "duration": 0,
    "start_time": "2023-04-30T17:53:55.867Z"
   },
   {
    "duration": 0,
    "start_time": "2023-04-30T17:53:55.868Z"
   },
   {
    "duration": 0,
    "start_time": "2023-04-30T17:53:55.870Z"
   },
   {
    "duration": 0,
    "start_time": "2023-04-30T17:53:55.871Z"
   },
   {
    "duration": 1,
    "start_time": "2023-04-30T17:53:55.871Z"
   },
   {
    "duration": 0,
    "start_time": "2023-04-30T17:53:55.877Z"
   },
   {
    "duration": 0,
    "start_time": "2023-04-30T17:53:55.878Z"
   },
   {
    "duration": 0,
    "start_time": "2023-04-30T17:53:55.882Z"
   },
   {
    "duration": 0,
    "start_time": "2023-04-30T17:53:55.883Z"
   },
   {
    "duration": 0,
    "start_time": "2023-04-30T17:53:55.884Z"
   },
   {
    "duration": 0,
    "start_time": "2023-04-30T17:53:55.885Z"
   },
   {
    "duration": 0,
    "start_time": "2023-04-30T17:53:55.885Z"
   },
   {
    "duration": 0,
    "start_time": "2023-04-30T17:53:55.892Z"
   },
   {
    "duration": 0,
    "start_time": "2023-04-30T17:53:55.894Z"
   },
   {
    "duration": 145,
    "start_time": "2023-04-30T17:54:02.370Z"
   },
   {
    "duration": 25,
    "start_time": "2023-04-30T17:54:26.711Z"
   },
   {
    "duration": 71,
    "start_time": "2023-04-30T17:54:34.988Z"
   },
   {
    "duration": 106,
    "start_time": "2023-04-30T17:54:46.818Z"
   },
   {
    "duration": 204,
    "start_time": "2023-04-30T17:55:22.192Z"
   },
   {
    "duration": 136,
    "start_time": "2023-04-30T17:55:30.233Z"
   },
   {
    "duration": 348,
    "start_time": "2023-04-30T17:56:22.821Z"
   },
   {
    "duration": 13,
    "start_time": "2023-04-30T17:56:31.640Z"
   },
   {
    "duration": 83,
    "start_time": "2023-04-30T17:56:48.830Z"
   },
   {
    "duration": 11,
    "start_time": "2023-04-30T17:56:57.773Z"
   },
   {
    "duration": 34,
    "start_time": "2023-04-30T17:57:04.993Z"
   },
   {
    "duration": 91,
    "start_time": "2023-04-30T17:57:13.075Z"
   },
   {
    "duration": 9,
    "start_time": "2023-04-30T17:57:42.575Z"
   },
   {
    "duration": 9,
    "start_time": "2023-04-30T17:57:48.977Z"
   },
   {
    "duration": 15,
    "start_time": "2023-04-30T17:57:56.537Z"
   },
   {
    "duration": 10,
    "start_time": "2023-04-30T17:58:50.826Z"
   },
   {
    "duration": 15,
    "start_time": "2023-04-30T17:59:01.535Z"
   },
   {
    "duration": 11,
    "start_time": "2023-04-30T17:59:11.012Z"
   },
   {
    "duration": 66,
    "start_time": "2023-04-30T17:59:50.124Z"
   },
   {
    "duration": 13,
    "start_time": "2023-04-30T17:59:59.768Z"
   },
   {
    "duration": 30,
    "start_time": "2023-04-30T18:00:19.122Z"
   },
   {
    "duration": 6,
    "start_time": "2023-04-30T18:00:28.594Z"
   },
   {
    "duration": 18,
    "start_time": "2023-04-30T18:00:56.573Z"
   },
   {
    "duration": 16,
    "start_time": "2023-04-30T18:01:04.475Z"
   },
   {
    "duration": 6,
    "start_time": "2023-04-30T18:01:11.085Z"
   },
   {
    "duration": 16,
    "start_time": "2023-04-30T18:01:34.874Z"
   },
   {
    "duration": 12,
    "start_time": "2023-04-30T18:01:41.724Z"
   },
   {
    "duration": 42,
    "start_time": "2023-04-30T18:01:52.323Z"
   },
   {
    "duration": 20,
    "start_time": "2023-04-30T18:01:59.772Z"
   },
   {
    "duration": 16,
    "start_time": "2023-04-30T18:02:11.760Z"
   },
   {
    "duration": 12,
    "start_time": "2023-04-30T18:02:48.524Z"
   },
   {
    "duration": 27,
    "start_time": "2023-04-30T18:02:56.160Z"
   },
   {
    "duration": 18,
    "start_time": "2023-04-30T18:03:04.573Z"
   },
   {
    "duration": 36,
    "start_time": "2023-04-30T18:03:31.254Z"
   },
   {
    "duration": 63,
    "start_time": "2023-04-30T18:03:40.231Z"
   },
   {
    "duration": 54,
    "start_time": "2023-04-30T18:03:48.859Z"
   },
   {
    "duration": 21,
    "start_time": "2023-04-30T18:03:59.489Z"
   },
   {
    "duration": 11,
    "start_time": "2023-04-30T18:04:14.558Z"
   },
   {
    "duration": 18,
    "start_time": "2023-04-30T18:04:39.972Z"
   },
   {
    "duration": 47,
    "start_time": "2023-04-30T18:04:58.541Z"
   },
   {
    "duration": 36,
    "start_time": "2023-04-30T18:05:26.933Z"
   },
   {
    "duration": 18,
    "start_time": "2023-04-30T18:06:12.834Z"
   },
   {
    "duration": 243,
    "start_time": "2023-04-30T18:06:34.332Z"
   },
   {
    "duration": 9,
    "start_time": "2023-04-30T18:06:42.730Z"
   },
   {
    "duration": 38,
    "start_time": "2023-04-30T18:07:00.420Z"
   },
   {
    "duration": 25,
    "start_time": "2023-04-30T18:07:15.230Z"
   },
   {
    "duration": 28,
    "start_time": "2023-04-30T18:07:24.132Z"
   },
   {
    "duration": 7,
    "start_time": "2023-04-30T18:07:31.630Z"
   },
   {
    "duration": 11,
    "start_time": "2023-04-30T18:07:39.246Z"
   },
   {
    "duration": 38,
    "start_time": "2023-04-30T18:07:50.633Z"
   },
   {
    "duration": 20,
    "start_time": "2023-04-30T18:08:00.377Z"
   },
   {
    "duration": 24,
    "start_time": "2023-04-30T18:08:08.533Z"
   },
   {
    "duration": 12,
    "start_time": "2023-04-30T18:09:32.601Z"
   },
   {
    "duration": 6,
    "start_time": "2023-04-30T18:09:42.017Z"
   },
   {
    "duration": 554,
    "start_time": "2023-04-30T18:09:49.820Z"
   },
   {
    "duration": 521,
    "start_time": "2023-04-30T18:09:59.448Z"
   },
   {
    "duration": 9,
    "start_time": "2023-04-30T18:11:02.020Z"
   },
   {
    "duration": 15,
    "start_time": "2023-04-30T18:11:17.818Z"
   },
   {
    "duration": 5,
    "start_time": "2023-04-30T18:11:39.892Z"
   },
   {
    "duration": 6,
    "start_time": "2023-04-30T18:11:55.831Z"
   },
   {
    "duration": 4377,
    "start_time": "2023-04-30T18:12:37.668Z"
   },
   {
    "duration": 1383,
    "start_time": "2023-04-30T18:12:42.054Z"
   },
   {
    "duration": 58,
    "start_time": "2023-04-30T18:12:43.439Z"
   },
   {
    "duration": 150,
    "start_time": "2023-04-30T18:12:43.498Z"
   },
   {
    "duration": 25,
    "start_time": "2023-04-30T18:12:43.650Z"
   },
   {
    "duration": 94,
    "start_time": "2023-04-30T18:12:43.679Z"
   },
   {
    "duration": 144,
    "start_time": "2023-04-30T18:12:43.780Z"
   },
   {
    "duration": 97,
    "start_time": "2023-04-30T18:12:43.926Z"
   },
   {
    "duration": 361,
    "start_time": "2023-04-30T18:12:44.025Z"
   },
   {
    "duration": 94,
    "start_time": "2023-04-30T18:12:44.389Z"
   },
   {
    "duration": 7,
    "start_time": "2023-04-30T18:12:44.484Z"
   },
   {
    "duration": 26,
    "start_time": "2023-04-30T18:12:44.493Z"
   },
   {
    "duration": 92,
    "start_time": "2023-04-30T18:12:44.521Z"
   },
   {
    "duration": 7,
    "start_time": "2023-04-30T18:12:44.616Z"
   },
   {
    "duration": 33,
    "start_time": "2023-04-30T18:12:44.625Z"
   },
   {
    "duration": 22,
    "start_time": "2023-04-30T18:12:44.665Z"
   },
   {
    "duration": 11,
    "start_time": "2023-04-30T18:12:44.689Z"
   },
   {
    "duration": 7,
    "start_time": "2023-04-30T18:12:44.702Z"
   },
   {
    "duration": 8,
    "start_time": "2023-04-30T18:12:44.711Z"
   },
   {
    "duration": 72,
    "start_time": "2023-04-30T18:12:44.722Z"
   },
   {
    "duration": 11,
    "start_time": "2023-04-30T18:12:44.796Z"
   },
   {
    "duration": 48,
    "start_time": "2023-04-30T18:12:44.809Z"
   },
   {
    "duration": 29,
    "start_time": "2023-04-30T18:12:44.859Z"
   },
   {
    "duration": 19,
    "start_time": "2023-04-30T18:12:44.890Z"
   },
   {
    "duration": 13,
    "start_time": "2023-04-30T18:12:44.911Z"
   },
   {
    "duration": 9,
    "start_time": "2023-04-30T18:12:44.926Z"
   },
   {
    "duration": 59,
    "start_time": "2023-04-30T18:12:44.936Z"
   },
   {
    "duration": 8,
    "start_time": "2023-04-30T18:12:44.997Z"
   },
   {
    "duration": 75,
    "start_time": "2023-04-30T18:12:45.007Z"
   },
   {
    "duration": 24,
    "start_time": "2023-04-30T18:12:45.084Z"
   },
   {
    "duration": 11,
    "start_time": "2023-04-30T18:12:45.110Z"
   },
   {
    "duration": 13,
    "start_time": "2023-04-30T18:12:45.123Z"
   },
   {
    "duration": 54,
    "start_time": "2023-04-30T18:12:45.138Z"
   },
   {
    "duration": 23,
    "start_time": "2023-04-30T18:12:45.194Z"
   },
   {
    "duration": 16,
    "start_time": "2023-04-30T18:12:45.220Z"
   },
   {
    "duration": 79,
    "start_time": "2023-04-30T18:12:45.238Z"
   },
   {
    "duration": 56,
    "start_time": "2023-04-30T18:12:45.319Z"
   },
   {
    "duration": 27,
    "start_time": "2023-04-30T18:12:45.380Z"
   },
   {
    "duration": 10,
    "start_time": "2023-04-30T18:12:45.409Z"
   },
   {
    "duration": 13,
    "start_time": "2023-04-30T18:12:45.421Z"
   },
   {
    "duration": 56,
    "start_time": "2023-04-30T18:12:45.440Z"
   },
   {
    "duration": 15,
    "start_time": "2023-04-30T18:12:45.498Z"
   },
   {
    "duration": 13,
    "start_time": "2023-04-30T18:12:45.515Z"
   },
   {
    "duration": 271,
    "start_time": "2023-04-30T18:12:45.530Z"
   },
   {
    "duration": 17,
    "start_time": "2023-04-30T18:12:45.803Z"
   },
   {
    "duration": 68,
    "start_time": "2023-04-30T18:12:45.823Z"
   },
   {
    "duration": 56,
    "start_time": "2023-04-30T18:12:45.893Z"
   },
   {
    "duration": 31,
    "start_time": "2023-04-30T18:12:45.951Z"
   },
   {
    "duration": 29,
    "start_time": "2023-04-30T18:12:45.984Z"
   },
   {
    "duration": 76,
    "start_time": "2023-04-30T18:12:46.015Z"
   },
   {
    "duration": 32,
    "start_time": "2023-04-30T18:12:46.094Z"
   },
   {
    "duration": 66,
    "start_time": "2023-04-30T18:12:46.129Z"
   },
   {
    "duration": 105,
    "start_time": "2023-04-30T18:12:46.197Z"
   },
   {
    "duration": 22,
    "start_time": "2023-04-30T18:12:46.304Z"
   },
   {
    "duration": 49,
    "start_time": "2023-04-30T18:12:46.328Z"
   },
   {
    "duration": 545,
    "start_time": "2023-04-30T18:12:46.383Z"
   },
   {
    "duration": 510,
    "start_time": "2023-04-30T18:12:46.930Z"
   },
   {
    "duration": 19,
    "start_time": "2023-04-30T18:12:47.451Z"
   },
   {
    "duration": 19,
    "start_time": "2023-04-30T18:12:47.472Z"
   },
   {
    "duration": 5,
    "start_time": "2023-04-30T18:12:47.493Z"
   },
   {
    "duration": 25,
    "start_time": "2023-04-30T18:12:47.500Z"
   },
   {
    "duration": 6,
    "start_time": "2023-04-30T18:12:47.527Z"
   },
   {
    "duration": 57,
    "start_time": "2023-04-30T18:12:47.535Z"
   },
   {
    "duration": 4,
    "start_time": "2023-04-30T18:12:57.131Z"
   },
   {
    "duration": 12,
    "start_time": "2023-04-30T18:13:04.923Z"
   },
   {
    "duration": 1136,
    "start_time": "2023-04-30T18:14:07.469Z"
   },
   {
    "duration": 105,
    "start_time": "2023-04-30T18:14:35.416Z"
   },
   {
    "duration": 22,
    "start_time": "2023-04-30T18:15:43.428Z"
   },
   {
    "duration": 8,
    "start_time": "2023-04-30T18:15:52.209Z"
   },
   {
    "duration": 67,
    "start_time": "2023-04-30T18:16:29.027Z"
   },
   {
    "duration": 21,
    "start_time": "2023-04-30T18:16:36.477Z"
   },
   {
    "duration": 370,
    "start_time": "2023-04-30T18:16:54.564Z"
   },
   {
    "duration": 27,
    "start_time": "2023-04-30T18:17:16.621Z"
   },
   {
    "duration": 343,
    "start_time": "2023-04-30T18:17:27.673Z"
   },
   {
    "duration": 165,
    "start_time": "2023-04-30T18:18:15.032Z"
   },
   {
    "duration": 54,
    "start_time": "2023-04-30T18:18:52.115Z"
   },
   {
    "duration": 13,
    "start_time": "2023-04-30T18:19:06.613Z"
   },
   {
    "duration": 13,
    "start_time": "2023-04-30T18:22:02.562Z"
   },
   {
    "duration": 13,
    "start_time": "2023-04-30T18:22:24.969Z"
   },
   {
    "duration": 7,
    "start_time": "2023-04-30T18:22:56.627Z"
   },
   {
    "duration": 6,
    "start_time": "2023-04-30T18:24:20.529Z"
   },
   {
    "duration": 6,
    "start_time": "2023-04-30T18:24:50.393Z"
   },
   {
    "duration": 4722,
    "start_time": "2023-04-30T18:26:14.817Z"
   },
   {
    "duration": 1764,
    "start_time": "2023-04-30T18:26:19.542Z"
   },
   {
    "duration": 47,
    "start_time": "2023-04-30T18:26:21.308Z"
   },
   {
    "duration": 159,
    "start_time": "2023-04-30T18:26:21.361Z"
   },
   {
    "duration": 28,
    "start_time": "2023-04-30T18:26:21.523Z"
   },
   {
    "duration": 95,
    "start_time": "2023-04-30T18:26:21.554Z"
   },
   {
    "duration": 166,
    "start_time": "2023-04-30T18:26:21.651Z"
   },
   {
    "duration": 99,
    "start_time": "2023-04-30T18:26:21.819Z"
   },
   {
    "duration": 366,
    "start_time": "2023-04-30T18:26:21.920Z"
   },
   {
    "duration": 85,
    "start_time": "2023-04-30T18:26:22.288Z"
   },
   {
    "duration": 15,
    "start_time": "2023-04-30T18:26:22.374Z"
   },
   {
    "duration": 37,
    "start_time": "2023-04-30T18:26:22.393Z"
   },
   {
    "duration": 86,
    "start_time": "2023-04-30T18:26:22.432Z"
   },
   {
    "duration": 7,
    "start_time": "2023-04-30T18:26:22.523Z"
   },
   {
    "duration": 60,
    "start_time": "2023-04-30T18:26:22.532Z"
   },
   {
    "duration": 34,
    "start_time": "2023-04-30T18:26:22.595Z"
   },
   {
    "duration": 57,
    "start_time": "2023-04-30T18:26:22.631Z"
   },
   {
    "duration": 9,
    "start_time": "2023-04-30T18:26:22.691Z"
   },
   {
    "duration": 11,
    "start_time": "2023-04-30T18:26:22.702Z"
   },
   {
    "duration": 91,
    "start_time": "2023-04-30T18:26:22.716Z"
   },
   {
    "duration": 13,
    "start_time": "2023-04-30T18:26:22.809Z"
   },
   {
    "duration": 88,
    "start_time": "2023-04-30T18:26:22.825Z"
   },
   {
    "duration": 7,
    "start_time": "2023-04-30T18:26:22.915Z"
   },
   {
    "duration": 14,
    "start_time": "2023-04-30T18:26:22.925Z"
   },
   {
    "duration": 29,
    "start_time": "2023-04-30T18:26:22.946Z"
   },
   {
    "duration": 19,
    "start_time": "2023-04-30T18:26:22.978Z"
   },
   {
    "duration": 15,
    "start_time": "2023-04-30T18:26:22.999Z"
   },
   {
    "duration": 13,
    "start_time": "2023-04-30T18:26:23.017Z"
   },
   {
    "duration": 73,
    "start_time": "2023-04-30T18:26:23.032Z"
   },
   {
    "duration": 12,
    "start_time": "2023-04-30T18:26:23.107Z"
   },
   {
    "duration": 11,
    "start_time": "2023-04-30T18:26:23.121Z"
   },
   {
    "duration": 66,
    "start_time": "2023-04-30T18:26:23.134Z"
   },
   {
    "duration": 20,
    "start_time": "2023-04-30T18:26:23.202Z"
   },
   {
    "duration": 42,
    "start_time": "2023-04-30T18:26:23.224Z"
   },
   {
    "duration": 44,
    "start_time": "2023-04-30T18:26:23.271Z"
   },
   {
    "duration": 40,
    "start_time": "2023-04-30T18:26:23.316Z"
   },
   {
    "duration": 56,
    "start_time": "2023-04-30T18:26:23.357Z"
   },
   {
    "duration": 44,
    "start_time": "2023-04-30T18:26:23.415Z"
   },
   {
    "duration": 10,
    "start_time": "2023-04-30T18:26:23.460Z"
   },
   {
    "duration": 40,
    "start_time": "2023-04-30T18:26:23.472Z"
   },
   {
    "duration": 21,
    "start_time": "2023-04-30T18:26:23.517Z"
   },
   {
    "duration": 20,
    "start_time": "2023-04-30T18:26:23.541Z"
   },
   {
    "duration": 55,
    "start_time": "2023-04-30T18:26:23.566Z"
   },
   {
    "duration": 307,
    "start_time": "2023-04-30T18:26:23.623Z"
   },
   {
    "duration": 14,
    "start_time": "2023-04-30T18:26:23.932Z"
   },
   {
    "duration": 69,
    "start_time": "2023-04-30T18:26:23.948Z"
   },
   {
    "duration": 33,
    "start_time": "2023-04-30T18:26:24.020Z"
   },
   {
    "duration": 47,
    "start_time": "2023-04-30T18:26:24.055Z"
   },
   {
    "duration": 24,
    "start_time": "2023-04-30T18:26:24.104Z"
   },
   {
    "duration": 17,
    "start_time": "2023-04-30T18:26:24.129Z"
   },
   {
    "duration": 49,
    "start_time": "2023-04-30T18:26:24.155Z"
   },
   {
    "duration": 19,
    "start_time": "2023-04-30T18:26:24.207Z"
   },
   {
    "duration": 20,
    "start_time": "2023-04-30T18:26:24.228Z"
   },
   {
    "duration": 21,
    "start_time": "2023-04-30T18:26:24.250Z"
   },
   {
    "duration": 24,
    "start_time": "2023-04-30T18:26:24.273Z"
   },
   {
    "duration": 573,
    "start_time": "2023-04-30T18:26:24.299Z"
   },
   {
    "duration": 514,
    "start_time": "2023-04-30T18:26:24.874Z"
   },
   {
    "duration": 5,
    "start_time": "2023-04-30T18:26:25.391Z"
   },
   {
    "duration": 14,
    "start_time": "2023-04-30T18:26:25.397Z"
   },
   {
    "duration": 8,
    "start_time": "2023-04-30T18:26:25.413Z"
   },
   {
    "duration": 41,
    "start_time": "2023-04-30T18:26:25.423Z"
   },
   {
    "duration": 34,
    "start_time": "2023-04-30T18:26:25.469Z"
   },
   {
    "duration": 19,
    "start_time": "2023-04-30T18:26:25.505Z"
   },
   {
    "duration": 6,
    "start_time": "2023-04-30T18:26:25.527Z"
   },
   {
    "duration": 67,
    "start_time": "2023-04-30T18:26:25.535Z"
   },
   {
    "duration": 1308,
    "start_time": "2023-04-30T18:26:25.604Z"
   },
   {
    "duration": 147,
    "start_time": "2023-04-30T18:26:26.918Z"
   },
   {
    "duration": 22,
    "start_time": "2023-04-30T18:26:27.071Z"
   },
   {
    "duration": 22,
    "start_time": "2023-04-30T18:26:27.101Z"
   },
   {
    "duration": 60,
    "start_time": "2023-04-30T18:26:27.124Z"
   },
   {
    "duration": 87,
    "start_time": "2023-04-30T18:26:27.189Z"
   },
   {
    "duration": 390,
    "start_time": "2023-04-30T18:26:27.278Z"
   },
   {
    "duration": 30,
    "start_time": "2023-04-30T18:26:27.675Z"
   },
   {
    "duration": 408,
    "start_time": "2023-04-30T18:26:27.707Z"
   },
   {
    "duration": 149,
    "start_time": "2023-04-30T18:26:28.117Z"
   },
   {
    "duration": 47,
    "start_time": "2023-04-30T18:26:28.270Z"
   },
   {
    "duration": 30,
    "start_time": "2023-04-30T18:26:28.319Z"
   },
   {
    "duration": 52,
    "start_time": "2023-04-30T18:26:28.351Z"
   },
   {
    "duration": 16,
    "start_time": "2023-04-30T18:26:28.405Z"
   },
   {
    "duration": 30,
    "start_time": "2023-04-30T18:26:28.423Z"
   },
   {
    "duration": 37,
    "start_time": "2023-04-30T18:26:28.455Z"
   },
   {
    "duration": 9,
    "start_time": "2023-04-30T18:26:28.494Z"
   }
  ],
  "kernelspec": {
   "display_name": "Python 3 (ipykernel)",
   "language": "python",
   "name": "python3"
  },
  "language_info": {
   "codemirror_mode": {
    "name": "ipython",
    "version": 3
   },
   "file_extension": ".py",
   "mimetype": "text/x-python",
   "name": "python",
   "nbconvert_exporter": "python",
   "pygments_lexer": "ipython3",
   "version": "3.9.5"
  },
  "toc": {
   "base_numbering": 1,
   "nav_menu": {},
   "number_sections": true,
   "sideBar": true,
   "skip_h1_title": true,
   "title_cell": "Table of Contents",
   "title_sidebar": "Contents",
   "toc_cell": false,
   "toc_position": {},
   "toc_section_display": true,
   "toc_window_display": false
  }
 },
 "nbformat": 4,
 "nbformat_minor": 2
}
